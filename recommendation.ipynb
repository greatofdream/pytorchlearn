{
 "cells": [
  {
   "cell_type": "code",
   "execution_count": 1,
   "id": "anticipated-template",
   "metadata": {},
   "outputs": [],
   "source": [
    "import pandas as pd\n",
    "import h5py\n",
    "import numpy as np\n",
    "import matplotlib.pyplot as plt\n",
    "import scipy.sparse as sparse\n",
    "from numpy import linalg as LA\n",
    "import time"
   ]
  },
  {
   "cell_type": "code",
   "execution_count": 11,
   "id": "educational-disclaimer",
   "metadata": {},
   "outputs": [
    {
     "name": "stdout",
     "output_type": "stream",
     "text": [
      "{'encoding': 'ISO-8859-1', 'confidence': 0.73, 'language': ''}\n"
     ]
    }
   ],
   "source": [
    "import chardet\n",
    "with open('Project2-data/movie_titles.txt','rb') as ipt:\n",
    "    result=chardet.detect(ipt.read())\n",
    "print(result)"
   ]
  },
  {
   "cell_type": "code",
   "execution_count": 13,
   "id": "isolated-ethiopia",
   "metadata": {},
   "outputs": [],
   "source": [
    "with open('Project2-data/movie_titles.txt','r',encoding='latin_1') as ipt:\n",
    "    ipt.readlines()"
   ]
  },
  {
   "cell_type": "code",
   "execution_count": 22,
   "id": "virtual-filename",
   "metadata": {},
   "outputs": [],
   "source": [
    "users = pd.read_csv('Project2-data/users.txt',header=None, names=['user_id'])\n",
    "movies = pd.read_csv('Project2-data/movie_titles.txt',header=None, names=['movie_id','year','name'],sep=',',dtype={'name':'object'},encoding='latin_1')\n",
    "train = pd.read_csv('Project2-data/netflix_train.txt',header=None, names=['user_id','movie_id','grade','time'],sep=' ')\n",
    "test = pd.read_csv('Project2-data/netflix_test.txt',header=None, names=['user_id','movie_id','grade','time'],sep=' ')"
   ]
  },
  {
   "cell_type": "code",
   "execution_count": 63,
   "id": "touched-favor",
   "metadata": {},
   "outputs": [
    {
     "data": {
      "text/plain": [
       "10000"
      ]
     },
     "execution_count": 63,
     "metadata": {},
     "output_type": "execute_result"
    }
   ],
   "source": [
    "len([i for i,_ in test.groupby('user_id')])"
   ]
  },
  {
   "cell_type": "code",
   "execution_count": 64,
   "id": "eight-kelly",
   "metadata": {},
   "outputs": [
    {
     "data": {
      "text/plain": [
       "(10000, 1)"
      ]
     },
     "execution_count": 64,
     "metadata": {},
     "output_type": "execute_result"
    }
   ],
   "source": [
    "users.shape"
   ]
  },
  {
   "cell_type": "code",
   "execution_count": 24,
   "id": "imposed-snapshot",
   "metadata": {},
   "outputs": [],
   "source": [
    "users.to_hdf('users.h5',key='users')\n",
    "movies.to_hdf('movies.h5',key='movies')"
   ]
  },
  {
   "cell_type": "code",
   "execution_count": 25,
   "id": "taken-saskatchewan",
   "metadata": {},
   "outputs": [],
   "source": [
    "# 填充数组\n",
    "gradeMatrix = np.zeros((users.shape[0],movies.shape[0]))\n",
    "userMatrix = np.zeros(users.shape[0],dtype=int)\n",
    "for i,(user_id, info) in enumerate(train.groupby('user_id')):\n",
    "    userMatrix[i] = user_id\n",
    "    gradeMatrix[i,movieMap(np.array(info['movie_id']))] = np.array(info['grade'])"
   ]
  },
  {
   "cell_type": "code",
   "execution_count": 26,
   "id": "martial-startup",
   "metadata": {},
   "outputs": [],
   "source": [
    "# 警告，此处默认test里用户也是10000个，纯粹是手动查看的结果\n",
    "gradeTest = np.zeros((users.shape[0],movies.shape[0]))\n",
    "userTest = np.zeros(users.shape[0],dtype=int)\n",
    "for i,(user_id, info) in enumerate(test.groupby('user_id')):\n",
    "    userTest[i] = user_id\n",
    "    gradeTest[i,movieMap(np.array(info['movie_id']))] = np.array(info['grade'])"
   ]
  },
  {
   "cell_type": "code",
   "execution_count": 24,
   "id": "equal-hunter",
   "metadata": {},
   "outputs": [],
   "source": [
    "def movieMap(i):\n",
    "    return i-1"
   ]
  },
  {
   "cell_type": "code",
   "execution_count": 27,
   "id": "hindu-circuit",
   "metadata": {},
   "outputs": [],
   "source": [
    "with h5py.File('train.h5','w') as opt:\n",
    "    opt.create_dataset('users',data=userMatrix,compression='gzip')\n",
    "    opt.create_dataset('grades',data=gradeMatrix,compression='gzip')\n",
    "with h5py.File('test.h5','w') as opt:\n",
    "    opt.create_dataset('users',data=userTest,compression='gzip')\n",
    "    opt.create_dataset('grades',data=gradeTest,compression='gzip')    "
   ]
  },
  {
   "cell_type": "code",
   "execution_count": 2,
   "id": "russian-yukon",
   "metadata": {},
   "outputs": [],
   "source": [
    "with h5py.File('train.h5','r') as opt:\n",
    "    #userMatrix = opt['users'][:]\n",
    "    gradeMatrix = opt['grades'][:]\n",
    "with h5py.File('test.h5','r') as opt:\n",
    "    #userTest = opt['users'][:]\n",
    "    gradeTest = opt['grades'][:]"
   ]
  },
  {
   "cell_type": "code",
   "execution_count": 152,
   "id": "ongoing-johnson",
   "metadata": {},
   "outputs": [
    {
     "data": {
      "text/plain": [
       "array([0., 0., 0., 0., 0., 3., 0., 0., 0., 0.])"
      ]
     },
     "execution_count": 152,
     "metadata": {},
     "output_type": "execute_result"
    }
   ],
   "source": [
    "gradeMatrix[0,120:130]"
   ]
  },
  {
   "cell_type": "code",
   "execution_count": 3,
   "id": "engaging-limitation",
   "metadata": {},
   "outputs": [
    {
     "data": {
      "text/plain": [
       "(array([], dtype=int64),)"
      ]
     },
     "execution_count": 3,
     "metadata": {},
     "output_type": "execute_result"
    }
   ],
   "source": [
    "np.where((userTest-userMatrix)!=0)"
   ]
  },
  {
   "cell_type": "code",
   "execution_count": 151,
   "id": "lonely-marker",
   "metadata": {},
   "outputs": [
    {
     "data": {
      "text/plain": [
       "array([0., 0., 0., 0., 0., 0., 0., 0., 0., 0.])"
      ]
     },
     "execution_count": 151,
     "metadata": {},
     "output_type": "execute_result"
    }
   ],
   "source": [
    "gradeTest[0,120:130]"
   ]
  },
  {
   "cell_type": "code",
   "execution_count": 144,
   "id": "aware-buying",
   "metadata": {},
   "outputs": [
    {
     "data": {
      "text/plain": [
       "(array([1074], dtype=int64),)"
      ]
     },
     "execution_count": 144,
     "metadata": {},
     "output_type": "execute_result"
    }
   ],
   "source": [
    "np.where(userMatrix==305344)"
   ]
  },
  {
   "cell_type": "code",
   "execution_count": 30,
   "id": "center-discipline",
   "metadata": {},
   "outputs": [],
   "source": [
    "\n",
    "userTrainSparse = sparse.lil_matrix(userMatrix)\n",
    "gradeTrainSparse = sparse.lil_matrix(gradeMatrix)\n",
    "userTestSparse = sparse.lil_matrix(userTest)\n",
    "gradeTestSparse = sparse.lil_matrix(gradeTest)"
   ]
  },
  {
   "cell_type": "code",
   "execution_count": 4,
   "id": "broad-buffer",
   "metadata": {},
   "outputs": [],
   "source": [
    "del userMatrix, userTest"
   ]
  },
  {
   "cell_type": "code",
   "execution_count": 82,
   "id": "joined-loading",
   "metadata": {},
   "outputs": [
    {
     "data": {
      "text/plain": [
       "(10000, 17770)"
      ]
     },
     "execution_count": 82,
     "metadata": {},
     "output_type": "execute_result"
    }
   ],
   "source": [
    "gradeTestSparse.shape"
   ]
  },
  {
   "cell_type": "code",
   "execution_count": 32,
   "id": "optical-location",
   "metadata": {},
   "outputs": [],
   "source": [
    "def similarity(grade):\n",
    "    # normalGrade = grade.dot()\n",
    "    return grade.dot(grade.transpose())"
   ]
  },
  {
   "cell_type": "code",
   "execution_count": 33,
   "id": "northern-village",
   "metadata": {},
   "outputs": [],
   "source": [
    "simDR = similarity(gradeTrainSparse)"
   ]
  },
  {
   "cell_type": "code",
   "execution_count": 35,
   "id": "uniform-isaac",
   "metadata": {},
   "outputs": [],
   "source": [
    "# 除以向量长度\n",
    "divider = sparse.lil_matrix(np.diag(1/np.sqrt(simDR.diagonal())))"
   ]
  },
  {
   "cell_type": "code",
   "execution_count": 36,
   "id": "suburban-devices",
   "metadata": {},
   "outputs": [],
   "source": [
    "simDR = divider.dot(simDR.dot(divider))"
   ]
  },
  {
   "cell_type": "code",
   "execution_count": 40,
   "id": "adjacent-english",
   "metadata": {},
   "outputs": [],
   "source": [
    "with h5py.File('similarity.h5','w') as opt:\n",
    "    opt.create_dataset('similar', data=simDR.todense(),compression='gzip')"
   ]
  },
  {
   "cell_type": "code",
   "execution_count": 41,
   "id": "greater-wireless",
   "metadata": {},
   "outputs": [],
   "source": [
    "del simDR"
   ]
  },
  {
   "cell_type": "code",
   "execution_count": 18,
   "id": "lyric-ballot",
   "metadata": {},
   "outputs": [],
   "source": [
    "with h5py.File('similarity.h5','r') as ipt:\n",
    "    simDR = ipt['similar'][:]"
   ]
  },
  {
   "cell_type": "code",
   "execution_count": 43,
   "id": "demographic-heart",
   "metadata": {},
   "outputs": [],
   "source": [
    "simDRmerge = np.zeros(10000*10001//2)\n",
    "def maptril(i,j):\n",
    "    if i<j:\n",
    "        i,j=j,i\n",
    "    return int(i*(i+1)//2)+j\n",
    "for i in range(10000):\n",
    "    simDRmerge[maptril(i,0):maptril(i,i)] = simDR[i,0:i]\n",
    "with h5py.File('similarityMerge.h5','w') as opt:\n",
    "    opt.create_dataset('similar', data=simDRmerge,compression='gzip')"
   ]
  },
  {
   "cell_type": "code",
   "execution_count": 54,
   "id": "arbitrary-group",
   "metadata": {},
   "outputs": [
    {
     "data": {
      "text/plain": [
       "(2,)"
      ]
     },
     "execution_count": 54,
     "metadata": {},
     "output_type": "execute_result"
    }
   ],
   "source": [
    "# 选择0.45和100作为条件，筛选出类似人选\n",
    "np.where(simDR[0,:]>0.45)[0].shape"
   ]
  },
  {
   "cell_type": "code",
   "execution_count": 53,
   "id": "split-airline",
   "metadata": {},
   "outputs": [
    {
     "data": {
      "image/png": "[encoded data removed]",
      "text/plain": [
       "<Figure size 432x288 with 1 Axes>"
      ]
     },
     "metadata": {
      "needs_background": "light"
     },
     "output_type": "display_data"
    }
   ],
   "source": [
    "#寻找前k个最相似的，先看距离分布\n",
    "fig, ax = plt.subplots()\n",
    "ax.hist(simDRmerge,bins=100,range=[0,1],histtype='step')\n",
    "ax.set_xlabel('cosine similarity')\n",
    "ax.set_ylabel('entries')\n",
    "ax.set_title('similarity distribution')\n",
    "plt.savefig('similarityDistribution.png')"
   ]
  },
  {
   "cell_type": "code",
   "execution_count": 37,
   "id": "informative-hobby",
   "metadata": {},
   "outputs": [
    {
     "name": "stdout",
     "output_type": "stream",
     "text": [
      "10000\n"
     ]
    }
   ],
   "source": [
    "def filter(simDR,threshold=0.45, minNum=50,minStep=0.05):\n",
    "    simFilter = [[]]*simDR.shape[0]\n",
    "    print(len(simFilter))\n",
    "    for i in range(simDR.shape[0]):\n",
    "        #排除自身\n",
    "        simFilter[i] = np.where((simDR[i,:]>threshold)&(simDR[i,:]<1))[0]\n",
    "        while len(simFilter[i])<minNum:\n",
    "            threshold = threshold-minStep\n",
    "            simFilter[i] = np.where((simDR[i,:]>threshold)&(simDR[i,:]<1))[0]\n",
    "    return simFilter\n",
    "simFilter = filter(simDR,0.35,5000)"
   ]
  },
  {
   "cell_type": "code",
   "execution_count": 1,
   "id": "better-representation",
   "metadata": {},
   "outputs": [
    {
     "ename": "NameError",
     "evalue": "name 'simFilter' is not defined",
     "output_type": "error",
     "traceback": [
      "\u001b[1;31m---------------------------------------------------------------------------\u001b[0m",
      "\u001b[1;31mNameError\u001b[0m                                 Traceback (most recent call last)",
      "\u001b[1;32m<ipython-input-1-d7cca01e1b94>\u001b[0m in \u001b[0;36m<module>\u001b[1;34m\u001b[0m\n\u001b[1;32m----> 1\u001b[1;33m \u001b[0mlen\u001b[0m\u001b[1;33m(\u001b[0m\u001b[0msimFilter\u001b[0m\u001b[1;33m[\u001b[0m\u001b[1;36m0\u001b[0m\u001b[1;33m]\u001b[0m\u001b[1;33m)\u001b[0m\u001b[1;33m\u001b[0m\u001b[1;33m\u001b[0m\u001b[0m\n\u001b[0m",
      "\u001b[1;31mNameError\u001b[0m: name 'simFilter' is not defined"
     ]
    }
   ],
   "source": [
    "len(simFilter[0])"
   ]
  },
  {
   "cell_type": "code",
   "execution_count": 38,
   "id": "detailed-chocolate",
   "metadata": {},
   "outputs": [],
   "source": [
    "import time\n",
    "simDRMask = np.zeros(simDR.shape)\n",
    "for i in range(len(simFilter)):\n",
    "    simDRMask[i,simFilter[i]] = simDR[i,simFilter[i]]"
   ]
  },
  {
   "cell_type": "code",
   "execution_count": 12,
   "id": "reduced-billy",
   "metadata": {},
   "outputs": [
    {
     "data": {
      "text/plain": [
       "(array([  10,   17,   31, ..., 9970, 9986, 9989], dtype=int64),)"
      ]
     },
     "execution_count": 12,
     "metadata": {},
     "output_type": "execute_result"
    }
   ],
   "source": [
    "np.where(simDRMask[0]!=0)"
   ]
  },
  {
   "cell_type": "code",
   "execution_count": 6,
   "id": "attractive-water",
   "metadata": {},
   "outputs": [],
   "source": [
    "gradeMask = np.zeros(gradeMatrix.shape)\n",
    "gradeMask[gradeMatrix!=0] = 1"
   ]
  },
  {
   "cell_type": "code",
   "execution_count": 37,
   "id": "affected-brother",
   "metadata": {},
   "outputs": [],
   "source": [
    "maskTest = np.zeros(gradeTest.shape)\n",
    "maskTest[gradeTest!=0] = 1"
   ]
  },
  {
   "cell_type": "code",
   "execution_count": 39,
   "id": "extensive-pioneer",
   "metadata": {},
   "outputs": [],
   "source": [
    "simWeight = simDRMask.dot(gradeMask)\n"
   ]
  },
  {
   "cell_type": "code",
   "execution_count": 40,
   "id": "searching-particular",
   "metadata": {},
   "outputs": [
    {
     "data": {
      "text/plain": [
       "(99999975,)"
      ]
     },
     "execution_count": 40,
     "metadata": {},
     "output_type": "execute_result"
    }
   ],
   "source": [
    "np.where(simWeight!=0)[0].shape"
   ]
  },
  {
   "cell_type": "code",
   "execution_count": 41,
   "id": "elegant-lloyd",
   "metadata": {},
   "outputs": [],
   "source": [
    "simWeight[simWeight==0] = 1"
   ]
  },
  {
   "cell_type": "code",
   "execution_count": 42,
   "id": "german-petroleum",
   "metadata": {},
   "outputs": [
    {
     "name": "stdout",
     "output_type": "stream",
     "text": [
      "use time 84.18\n"
     ]
    }
   ],
   "source": [
    "start = time.time()\n",
    "predict = simDRMask.dot(gradeMatrix)/simWeight\n",
    "print('use time {:.2f}'.format(time.time()-start))"
   ]
  },
  {
   "cell_type": "code",
   "execution_count": null,
   "id": "stock-christopher",
   "metadata": {},
   "outputs": [],
   "source": [
    "with h5py.File('predict.h5','w') as opt:\n",
    "    opt.create_dataset('predict', data=predict, compression='gzip')"
   ]
  },
  {
   "cell_type": "code",
   "execution_count": 8,
   "id": "dress-enemy",
   "metadata": {},
   "outputs": [],
   "source": [
    "from numpy import linalg as LA\n",
    "def rmse(predict, truth):\n",
    "    predict[truth==0] = 0\n",
    "    num = np.count_nonzero(truth)\n",
    "    return LA.norm(predict-truth)/np.sqrt(num)\n"
   ]
  },
  {
   "cell_type": "code",
   "execution_count": 118,
   "id": "exposed-frame",
   "metadata": {},
   "outputs": [
    {
     "data": {
      "text/plain": [
       "array([0.        , 0.        , 0.20374798, ..., 0.        , 0.        ,\n",
       "       0.        ])"
      ]
     },
     "execution_count": 118,
     "metadata": {},
     "output_type": "execute_result"
    }
   ],
   "source": [
    "rmse(predict,gradeTest)"
   ]
  },
  {
   "cell_type": "code",
   "execution_count": 119,
   "id": "ideal-thong",
   "metadata": {},
   "outputs": [
    {
     "data": {
      "text/plain": [
       "array([0., 0., 0., ..., 0., 0., 0.])"
      ]
     },
     "execution_count": 119,
     "metadata": {},
     "output_type": "execute_result"
    }
   ],
   "source": [
    "gradeTest[0]"
   ]
  },
  {
   "cell_type": "code",
   "execution_count": 18,
   "id": "likely-turkey",
   "metadata": {
    "scrolled": true
   },
   "outputs": [
    {
     "name": "stdout",
     "output_type": "stream",
     "text": [
      "                          _i18:  588.0 B\n",
      "                    local_vars:  520.0 B\n",
      "                           _oh:  360.0 B\n",
      "                           Out:  360.0 B\n",
      "                           _i8:  268.0 B\n",
      "                           _ih:  264.0 B\n",
      "                            In:  264.0 B\n",
      "                           _i2:  257.0 B\n",
      "                            _i:  159.0 B\n",
      "                          _i17:  159.0 B\n"
     ]
    }
   ],
   "source": [
    "import sys\n",
    "\n",
    "def sizeof_fmt(num, suffix='B'):\n",
    "    ''' by Fred Cirera,  https://stackoverflow.com/a/1094933/1870254, modified'''\n",
    "    for unit in ['','Ki','Mi','Gi','Ti','Pi','Ei','Zi']:\n",
    "        if abs(num) < 1024.0:\n",
    "            return \"%3.1f %s%s\" % (num, unit, suffix)\n",
    "        num /= 1024.0\n",
    "    return \"%.1f %s%s\" % (num, 'Yi', suffix)\n",
    "\n",
    "for name, size in sorted(((name, sys.getsizeof(value)) for name, value in locals().items()),\n",
    "                         key= lambda x: -x[1])[:10]:\n",
    "    print(\"{:>30}: {:>8}\".format(name, sizeof_fmt(size)))"
   ]
  },
  {
   "cell_type": "code",
   "execution_count": 29,
   "id": "acceptable-restaurant",
   "metadata": {},
   "outputs": [],
   "source": [
    "def similarityNorm(grade):\n",
    "    # normalGrade = grade.dot()\n",
    "    gradeNorm = (gradeMatrix-np.mean(gradeMatrix,axis=1).reshape(-1,1))/np.std(gradeMatrix,axis=1).reshape(-1,1)\n",
    "    sim = gradeNorm.dot(gradeNorm.T)\n",
    "    divider = np.diag(1/np.sqrt(sim.diagonal()))\n",
    "    return divider.dot(sim.dot(divider))\n",
    "simDRNorm = similarityNorm(gradeMatrix)"
   ]
  },
  {
   "cell_type": "code",
   "execution_count": 30,
   "id": "active-allen",
   "metadata": {},
   "outputs": [
    {
     "data": {
      "text/plain": [
       "array([1.        , 0.26133439, 0.25018734, ..., 0.23341023, 0.31067012,\n",
       "       0.29340141])"
      ]
     },
     "execution_count": 30,
     "metadata": {},
     "output_type": "execute_result"
    }
   ],
   "source": [
    "simDRNorm[0]"
   ]
  },
  {
   "cell_type": "code",
   "execution_count": 31,
   "id": "confused-trance",
   "metadata": {},
   "outputs": [
    {
     "data": {
      "image/png": "[encoded data removed]",
      "text/plain": [
       "<Figure size 432x288 with 1 Axes>"
      ]
     },
     "metadata": {
      "needs_background": "light"
     },
     "output_type": "display_data"
    }
   ],
   "source": [
    "fig, ax = plt.subplots()\n",
    "ax.hist(simDRNorm.reshape(-1,),bins=100,histtype='step')\n",
    "ax.set_xlabel('cosine Norm similarity')\n",
    "ax.set_ylabel('entries')\n",
    "ax.set_title('similarity distribution')\n",
    "plt.savefig('similarityNormDistribution.png')"
   ]
  },
  {
   "cell_type": "code",
   "execution_count": 33,
   "id": "private-conditions",
   "metadata": {},
   "outputs": [
    {
     "name": "stdout",
     "output_type": "stream",
     "text": [
      "10000\n",
      "begin predict\n",
      "use time 346.11\n",
      "rmse 2.53\n"
     ]
    }
   ],
   "source": [
    "def filterPredict(simDR,mean,sigma):\n",
    "    simFilter = filter(simDR,0.35,1000)\n",
    "    simDRMask = np.zeros(simDR.shape)\n",
    "    gradeNorm = (gradeMatrix-np.mean(gradeMatrix,axis=1).reshape(-1,1))/np.std(gradeMatrix,axis=1).reshape(-1,1)\n",
    "    for i in range(len(simFilter)):\n",
    "        simDRMask[i,simFilter[i]] = simDR[i,simFilter[i]]\n",
    "    print('begin predict')\n",
    "    start = time.time()\n",
    "    predict = simDRMask.dot(gradeNorm)/np.sum(simDRMask,axis=1).reshape(-1,1)*sigma.reshape(-1,1)+mean.reshape(-1,1)\n",
    "    print('use time {:.2f}'.format(time.time()-start))\n",
    "    print('rmse {:.2f}'.format(rmse(predict,gradeTest)))\n",
    "filterPredict(simDRNorm,np.mean(gradeMatrix,axis=1),np.std(gradeMatrix,axis=1))"
   ]
  },
  {
   "cell_type": "code",
   "execution_count": 34,
   "id": "standard-organization",
   "metadata": {},
   "outputs": [
    {
     "data": {
      "text/plain": [
       "1.1715111196739934"
      ]
     },
     "execution_count": 34,
     "metadata": {},
     "output_type": "execute_result"
    }
   ],
   "source": [
    "rmse(np.ones(gradeTest.shape)*3,gradeTest)"
   ]
  },
  {
   "cell_type": "code",
   "execution_count": 13,
   "id": "enormous-montreal",
   "metadata": {},
   "outputs": [],
   "source": [
    "a=np.array([4,0,0,5,1,0,0])\n",
    "b=np.array([5,5,4,0,0,0,0])\n",
    "c=np.array([0,0,0,2,4,5,0])\n"
   ]
  },
  {
   "cell_type": "code",
   "execution_count": 14,
   "id": "backed-behalf",
   "metadata": {},
   "outputs": [
    {
     "data": {
      "text/plain": [
       "20"
      ]
     },
     "execution_count": 14,
     "metadata": {},
     "output_type": "execute_result"
    }
   ],
   "source": [
    "a.dot(b.T)"
   ]
  },
  {
   "cell_type": "code",
   "execution_count": 15,
   "id": "olive-fifty",
   "metadata": {},
   "outputs": [
    {
     "data": {
      "text/plain": [
       "array([4, 0, 0, 5, 1, 0, 0])"
      ]
     },
     "execution_count": 15,
     "metadata": {},
     "output_type": "execute_result"
    }
   ],
   "source": [
    "a"
   ]
  },
  {
   "cell_type": "code",
   "execution_count": 16,
   "id": "narrow-threat",
   "metadata": {},
   "outputs": [
    {
     "data": {
      "text/plain": [
       "0.2527042240634319"
      ]
     },
     "execution_count": 16,
     "metadata": {},
     "output_type": "execute_result"
    }
   ],
   "source": [
    "def simi(a,b):\n",
    "    return a.dot(b.T)/np.sqrt(np.sum(a**2)*np.sum(b**2))\n",
    "simi(gradeMatrix[200],gradeMatrix[1000])"
   ]
  },
  {
   "cell_type": "code",
   "execution_count": 17,
   "id": "descending-taiwan",
   "metadata": {},
   "outputs": [
    {
     "name": "stdout",
     "output_type": "stream",
     "text": [
      "0.25270422406343185\n"
     ]
    }
   ],
   "source": [
    "print(simDR[200,1000])"
   ]
  },
  {
   "cell_type": "markdown",
   "id": "embedded-rover",
   "metadata": {},
   "source": [
    "## 矩阵分解"
   ]
  },
  {
   "cell_type": "code",
   "execution_count": null,
   "id": "greenhouse-terry",
   "metadata": {},
   "outputs": [],
   "source": [
    "def grad(X,A, U,V,lamb):\n",
    "    coeff = A*(U.dot(V.T)-X)\n",
    "    partialU = coeff.dot(V)+2*lamb*U\n",
    "    partialV = (coeff.T).dot(U)+2*lamb*V\n",
    "    return partialU, partialV,0.5*np.sum(coeff**2)+np.sum(U**2)+np.sum(V**2)\n",
    "\n",
    "def train(trainData,mask,k=50,lamb=0.01,alpha=1e-4):\n",
    "    U = np.ones((trainData.shape[0],k))*1/k\n",
    "    V = np.ones((trainData.shape[1],k))*3/k\n",
    "    J = []\n",
    "    Jtemp0 = 0\n",
    "    lossValue = []\n",
    "    delta = 1\n",
    "    times = 0\n",
    "    lossValue.append(rmse(U.dot(V.T),gradeTest))\n",
    "    while delta>1e-1 and times<50:\n",
    "        coeff = mask*(U.dot(V.T)-trainData)\n",
    "        partialU = coeff.dot(V)+2*lamb*U\n",
    "        partialV = (coeff.T).dot(U)+2*lamb*V\n",
    "        Jtemp = 0.5*np.sum(coeff**2)+np.sum(U**2)+np.sum(V**2)\n",
    "        #partialU,partialV,Jtemp = grad(trainData,mask,U,V,lamb)\n",
    "        print('time{},{:.2f},{:.2f}'.format(times,partialU[0,0],Jtemp))\n",
    "        J.append(Jtemp)\n",
    "        Utemp = U-alpha*partialU\n",
    "        Vtemp = V-alpha*partialV\n",
    "        delta = np.abs(Jtemp-Jtemp0)\n",
    "        Jtemp0 = Jtemp\n",
    "        U = Utemp\n",
    "        V = Vtemp\n",
    "        lossValue.append(rmse(U.dot(V.T),gradeTest))\n",
    "        times += 1\n",
    "    J.append(0.5*np.sum(((U.dot(V.T)-trainData)*mask)**2)+np.sum(U**2)+np.sum(V**2))\n",
    "    print('delta:{},times:{}'.format(delta, times))\n",
    "    return U, V, J,lossValue"
   ]
  },
  {
   "cell_type": "code",
   "execution_count": 19,
   "id": "certified-vatican",
   "metadata": {},
   "outputs": [
    {
     "name": "stdout",
     "output_type": "stream",
     "text": [
      "time0,-91.75,42371100.34\n",
      "time1,-125.88,40412073.86\n",
      "time2,-176.59,36387575.04\n",
      "time3,-228.20,29022317.78\n",
      "time4,-239.86,19149037.90\n",
      "time5,-181.23,11879598.61\n",
      "time6,-119.42,8851823.78\n",
      "time7,-90.90,7258985.77\n",
      "time8,-68.93,6276221.97\n",
      "time9,-54.09,5622805.29\n",
      "time10,-43.63,5162873.39\n",
      "time11,-36.17,4824597.25\n",
      "time12,-30.66,4566975.10\n",
      "time13,-26.47,4365115.29\n",
      "time14,-23.21,4203162.15\n",
      "time15,-20.61,4070610.66\n",
      "time16,-18.50,3960267.80\n",
      "time17,-16.75,3867066.80\n",
      "time18,-15.29,3787349.69\n",
      "time19,-14.03,3718417.73\n",
      "time20,-12.96,3658241.17\n",
      "time21,-12.02,3605266.92\n",
      "time22,-11.19,3558287.95\n",
      "time23,-10.46,3516352.86\n",
      "time24,-9.81,3478702.06\n",
      "time25,-9.23,3444721.85\n",
      "time26,-8.70,3413911.05\n",
      "time27,-8.23,3385856.27\n",
      "time28,-7.80,3360213.35\n",
      "time29,-7.41,3336693.43\n",
      "time30,-7.05,3315052.09\n",
      "time31,-6.72,3295081.09\n",
      "time32,-6.42,3276601.82\n",
      "time33,-6.15,3259460.19\n",
      "time34,-5.89,3243522.48\n",
      "time35,-5.65,3228672.09\n",
      "time36,-5.43,3214806.86\n",
      "time37,-5.23,3201836.86\n",
      "time38,-5.04,3189682.66\n",
      "time39,-4.86,3178273.78\n",
      "time40,-4.69,3167547.52\n",
      "time41,-4.53,3157447.87\n",
      "time42,-4.38,3147924.67\n",
      "time43,-4.25,3138932.87\n",
      "time44,-4.11,3130431.89\n",
      "time45,-3.99,3122385.10\n",
      "time46,-3.87,3114759.32\n",
      "time47,-3.76,3107524.48\n",
      "time48,-3.65,3100653.20\n",
      "time49,-3.55,3094120.59\n",
      "time50,-3.46,3087903.88\n",
      "time51,-3.37,3081982.27\n",
      "time52,-3.28,3076336.70\n",
      "time53,-3.19,3070949.67\n",
      "time54,-3.11,3065805.10\n",
      "time55,-3.04,3060888.17\n",
      "time56,-2.96,3056185.23\n",
      "time57,-2.89,3051683.66\n",
      "time58,-2.82,3047371.80\n",
      "time59,-2.76,3043238.83\n",
      "time60,-2.70,3039274.73\n",
      "time61,-2.64,3035470.21\n",
      "time62,-2.58,3031816.59\n",
      "time63,-2.52,3028305.84\n",
      "time64,-2.47,3024930.44\n",
      "time65,-2.41,3021683.38\n",
      "time66,-2.36,3018558.13\n",
      "time67,-2.31,3015548.56\n",
      "time68,-2.27,3012648.95\n",
      "time70,-2.18,3007158.49\n",
      "time71,-2.13,3004557.87\n",
      "time72,-2.09,3002047.67\n",
      "time73,-2.05,2999623.68\n",
      "time74,-2.01,2997282.01\n",
      "time75,-1.97,2995018.91\n",
      "time76,-1.94,2992830.95\n",
      "time77,-1.90,2990714.78\n",
      "time78,-1.87,2988667.37\n",
      "time79,-1.83,2986685.69\n",
      "time80,-1.80,2984767.11\n",
      "time81,-1.77,2982908.84\n",
      "time82,-1.74,2981108.67\n",
      "time83,-1.71,2979364.01\n",
      "time84,-1.68,2977673.14\n",
      "time85,-1.65,2976033.64\n",
      "time86,-1.62,2974444.60\n",
      "time87,-1.59,2972903.89\n",
      "time88,-1.56,2971412.23\n",
      "time89,-1.54,2969968.60\n",
      "time90,-1.51,2968577.78\n",
      "time91,-1.49,2967243.10\n",
      "time92,-1.46,2965981.08\n",
      "time93,-1.45,2964811.32\n",
      "time94,-1.41,2963787.35\n",
      "time95,-1.41,2962987.92\n",
      "time96,-1.36,2962589.27\n",
      "time97,-1.38,2962882.93\n",
      "time98,-1.31,2964465.60\n",
      "time99,-1.38,2968393.41\n",
      "time100,-1.27,2976732.61\n",
      "time101,-1.42,2993289.74\n",
      "time102,-1.27,3025288.19\n",
      "time103,-1.61,3086312.51\n",
      "time104,-1.44,3201053.24\n",
      "time105,-2.26,3415456.33\n",
      "time106,-2.27,3803346.84\n",
      "time107,-4.37,4485879.47\n",
      "time108,-5.31,5565114.13\n",
      "time109,-10.34,7057552.05\n",
      "time110,-13.10,8383010.50\n",
      "time111,-20.65,8685633.87\n",
      "time112,-19.91,7194910.70\n",
      "time113,-21.80,5321242.68\n",
      "time114,-13.27,4018195.55\n",
      "time115,-15.58,3464184.75\n",
      "time116,-6.65,3227313.88\n",
      "time117,-13.11,3138233.54\n",
      "time118,-1.16,3113146.51\n",
      "time119,-13.05,3142802.89\n",
      "time120,7.53,3244599.05\n",
      "time121,-12.93,3496679.42\n",
      "time122,29.81,4037079.09\n",
      "time123,0.50,5250246.91\n"
     ]
    },
    {
     "ename": "KeyboardInterrupt",
     "evalue": "",
     "output_type": "error",
     "traceback": [
      "\u001b[0;31m---------------------------------------------------------------------------\u001b[0m",
      "\u001b[0;31mKeyboardInterrupt\u001b[0m                         Traceback (most recent call last)",
      "\u001b[0;32m<ipython-input-19-232c5783aee3>\u001b[0m in \u001b[0;36m<module>\u001b[0;34m\u001b[0m\n\u001b[1;32m      1\u001b[0m \u001b[0mstart\u001b[0m\u001b[0;34m=\u001b[0m\u001b[0mtime\u001b[0m\u001b[0;34m.\u001b[0m\u001b[0mtime\u001b[0m\u001b[0;34m(\u001b[0m\u001b[0;34m)\u001b[0m\u001b[0;34m\u001b[0m\u001b[0;34m\u001b[0m\u001b[0m\n\u001b[0;32m----> 2\u001b[0;31m \u001b[0mU\u001b[0m\u001b[0;34m,\u001b[0m\u001b[0mV\u001b[0m\u001b[0;34m,\u001b[0m\u001b[0mJ\u001b[0m\u001b[0;34m,\u001b[0m\u001b[0mlossValue\u001b[0m\u001b[0;34m=\u001b[0m\u001b[0mtrain\u001b[0m\u001b[0;34m(\u001b[0m\u001b[0mgradeMatrix\u001b[0m\u001b[0;34m,\u001b[0m\u001b[0mgradeMask\u001b[0m\u001b[0;34m)\u001b[0m\u001b[0;34m\u001b[0m\u001b[0;34m\u001b[0m\u001b[0m\n\u001b[0m\u001b[1;32m      3\u001b[0m \u001b[0mprint\u001b[0m\u001b[0;34m(\u001b[0m\u001b[0;34m'use time {:.2f}'\u001b[0m\u001b[0;34m.\u001b[0m\u001b[0mformat\u001b[0m\u001b[0;34m(\u001b[0m\u001b[0mtime\u001b[0m\u001b[0;34m.\u001b[0m\u001b[0mtime\u001b[0m\u001b[0;34m(\u001b[0m\u001b[0;34m)\u001b[0m\u001b[0;34m-\u001b[0m\u001b[0mstart\u001b[0m\u001b[0;34m)\u001b[0m\u001b[0;34m)\u001b[0m\u001b[0;34m\u001b[0m\u001b[0;34m\u001b[0m\u001b[0m\n",
      "\u001b[0;32m<ipython-input-18-f7b6422e4607>\u001b[0m in \u001b[0;36mtrain\u001b[0;34m(trainData, mask, k, lamb, alpha)\u001b[0m\n\u001b[1;32m     16\u001b[0m     \u001b[0;32mwhile\u001b[0m \u001b[0mdelta\u001b[0m\u001b[0;34m>\u001b[0m\u001b[0;36m1e-1\u001b[0m \u001b[0;32mor\u001b[0m \u001b[0mtimes\u001b[0m\u001b[0;34m>\u001b[0m\u001b[0;36m50\u001b[0m\u001b[0;34m:\u001b[0m\u001b[0;34m\u001b[0m\u001b[0;34m\u001b[0m\u001b[0m\n\u001b[1;32m     17\u001b[0m         \u001b[0mcoeff\u001b[0m \u001b[0;34m=\u001b[0m \u001b[0mmask\u001b[0m\u001b[0;34m*\u001b[0m\u001b[0;34m(\u001b[0m\u001b[0mU\u001b[0m\u001b[0;34m.\u001b[0m\u001b[0mdot\u001b[0m\u001b[0;34m(\u001b[0m\u001b[0mV\u001b[0m\u001b[0;34m.\u001b[0m\u001b[0mT\u001b[0m\u001b[0;34m)\u001b[0m\u001b[0;34m-\u001b[0m\u001b[0mtrainData\u001b[0m\u001b[0;34m)\u001b[0m\u001b[0;34m\u001b[0m\u001b[0;34m\u001b[0m\u001b[0m\n\u001b[0;32m---> 18\u001b[0;31m         \u001b[0mpartialU\u001b[0m \u001b[0;34m=\u001b[0m \u001b[0mcoeff\u001b[0m\u001b[0;34m.\u001b[0m\u001b[0mdot\u001b[0m\u001b[0;34m(\u001b[0m\u001b[0mV\u001b[0m\u001b[0;34m)\u001b[0m\u001b[0;34m+\u001b[0m\u001b[0;36m2\u001b[0m\u001b[0;34m*\u001b[0m\u001b[0mlamb\u001b[0m\u001b[0;34m*\u001b[0m\u001b[0mU\u001b[0m\u001b[0;34m\u001b[0m\u001b[0;34m\u001b[0m\u001b[0m\n\u001b[0m\u001b[1;32m     19\u001b[0m         \u001b[0mpartialV\u001b[0m \u001b[0;34m=\u001b[0m \u001b[0;34m(\u001b[0m\u001b[0mcoeff\u001b[0m\u001b[0;34m.\u001b[0m\u001b[0mT\u001b[0m\u001b[0;34m)\u001b[0m\u001b[0;34m.\u001b[0m\u001b[0mdot\u001b[0m\u001b[0;34m(\u001b[0m\u001b[0mU\u001b[0m\u001b[0;34m)\u001b[0m\u001b[0;34m+\u001b[0m\u001b[0;36m2\u001b[0m\u001b[0;34m*\u001b[0m\u001b[0mlamb\u001b[0m\u001b[0;34m*\u001b[0m\u001b[0mV\u001b[0m\u001b[0;34m\u001b[0m\u001b[0;34m\u001b[0m\u001b[0m\n\u001b[1;32m     20\u001b[0m         \u001b[0mJtemp\u001b[0m \u001b[0;34m=\u001b[0m \u001b[0;36m0.5\u001b[0m\u001b[0;34m*\u001b[0m\u001b[0mnp\u001b[0m\u001b[0;34m.\u001b[0m\u001b[0msum\u001b[0m\u001b[0;34m(\u001b[0m\u001b[0mcoeff\u001b[0m\u001b[0;34m**\u001b[0m\u001b[0;36m2\u001b[0m\u001b[0;34m)\u001b[0m\u001b[0;34m+\u001b[0m\u001b[0mnp\u001b[0m\u001b[0;34m.\u001b[0m\u001b[0msum\u001b[0m\u001b[0;34m(\u001b[0m\u001b[0mU\u001b[0m\u001b[0;34m**\u001b[0m\u001b[0;36m2\u001b[0m\u001b[0;34m)\u001b[0m\u001b[0;34m+\u001b[0m\u001b[0mnp\u001b[0m\u001b[0;34m.\u001b[0m\u001b[0msum\u001b[0m\u001b[0;34m(\u001b[0m\u001b[0mV\u001b[0m\u001b[0;34m**\u001b[0m\u001b[0;36m2\u001b[0m\u001b[0;34m)\u001b[0m\u001b[0;34m\u001b[0m\u001b[0;34m\u001b[0m\u001b[0m\n",
      "\u001b[0;31mKeyboardInterrupt\u001b[0m: "
     ]
    }
   ],
   "source": [
    "start=time.time()\n",
    "U,V,J,lossValue=train(gradeMatrix,gradeMask)\n",
    "print('use time {:.2f}'.format(time.time()-start))"
   ]
  },
  {
   "cell_type": "code",
   "execution_count": 91,
   "id": "multiple-toronto",
   "metadata": {},
   "outputs": [
    {
     "data": {
      "text/plain": [
       "array([0., 0., 0., 0., 0., 3., 0., 0., 0., 0.])"
      ]
     },
     "execution_count": 91,
     "metadata": {},
     "output_type": "execute_result"
    }
   ],
   "source": [
    "fig,ax=plt.subplots()\n",
    "ax.plot(lossValue,label='loss')\n",
    "ax2=ax.twinx()\n",
    "ax2.plot(J,label='J')\n",
    "ax.legend()\n",
    "ax.set_xlabel('iteration time')\n",
    "# plt.savefig('iteration.png')"
   ]
  },
  {
   "cell_type": "code",
   "execution_count": 92,
   "id": "collect-diamond",
   "metadata": {},
   "outputs": [
    {
     "data": {
      "text/plain": [
       "array([0., 0., 0., 0., 0., 1., 0., 0., 0., 0.])"
      ]
     },
     "execution_count": 92,
     "metadata": {},
     "output_type": "execute_result"
    }
   ],
   "source": [
    "for k in [10,50,100]:\n",
    "    for j in [1,0.1, 0.01,0.001]:\n",
    "        U,V,J,lossValue=train(gradeMatrix,gradeMask)\n",
    "        print('k,j:{},{};rmse:{:.2f}'.format(k,j,lossValue[-1]))"
   ]
  },
  {
   "cell_type": "code",
   "execution_count": 96,
   "id": "ordinary-praise",
   "metadata": {},
   "outputs": [
    {
     "data": {
      "text/plain": [
       "array([   -0.        ,     0.        ,     0.        ,     0.        ,\n",
       "           0.        , 11175.62516802,     0.        ,     0.        ,\n",
       "           0.        ,    -0.        ])"
      ]
     },
     "execution_count": 96,
     "metadata": {},
     "output_type": "execute_result"
    }
   ],
   "source": []
  },
  {
   "cell_type": "code",
   "execution_count": 97,
   "id": "favorite-stroke",
   "metadata": {},
   "outputs": [
    {
     "data": {
      "text/plain": [
       "array([ -372.23774298, 35196.42832002,  1368.69091902,   794.69715402,\n",
       "       39893.14623402, 11175.62516802, 48120.76171602,  4272.09627402,\n",
       "        7899.95977902,  -261.89719398])"
      ]
     },
     "execution_count": 97,
     "metadata": {},
     "output_type": "execute_result"
    }
   ],
   "source": [
    "U.dot(V.T)[0,120:130]"
   ]
  },
  {
   "cell_type": "code",
   "execution_count": 21,
   "id": "composed-target",
   "metadata": {},
   "outputs": [],
   "source": [
    "import torch\n",
    "import math"
   ]
  },
  {
   "cell_type": "code",
   "execution_count": 22,
   "id": "limited-trance",
   "metadata": {},
   "outputs": [
    {
     "data": {
      "text/plain": [
       "device(type='cuda', index=0)"
      ]
     },
     "execution_count": 22,
     "metadata": {},
     "output_type": "execute_result"
    }
   ],
   "source": [
    "device = torch.device(\"cuda:0\")\n",
    "device"
   ]
  },
  {
   "cell_type": "code",
   "execution_count": 33,
   "id": "living-sixth",
   "metadata": {},
   "outputs": [],
   "source": [
    "trainData= torch.from_numpy(gradeMatrix).cuda()\n",
    "testData = torch.from_numpy(gradeTest).cuda()"
   ]
  },
  {
   "cell_type": "code",
   "execution_count": 34,
   "id": "extraordinary-share",
   "metadata": {},
   "outputs": [],
   "source": [
    "maskData = torch.from_numpy(gradeMask).cuda()"
   ]
  },
  {
   "cell_type": "code",
   "execution_count": null,
   "id": "coral-freeware",
   "metadata": {},
   "outputs": [],
   "source": [
    "maskTest = torch.from_numpy(gradeTest).cuda()"
   ]
  },
  {
   "cell_type": "code",
   "execution_count": 25,
   "id": "pursuant-following",
   "metadata": {},
   "outputs": [],
   "source": [
    "k=50\n",
    "U = torch.randn((gradeMatrix.shape[0],k),device=device,requires_grad=True)\n",
    "V = torch.randn((gradeMatrix.shape[1],k),device=device,requires_grad=True)"
   ]
  },
  {
   "cell_type": "code",
   "execution_count": 51,
   "id": "three-cooking",
   "metadata": {},
   "outputs": [],
   "source": [
    "class poly(torch.nn.Module):\n",
    "    def __init__(self,k=50):\n",
    "        super().__init__()\n",
    "        self.U = torch.nn.Parameter(torch.randn((gradeMatrix.shape[0],k),device=device,requires_grad=True))\n",
    "        self.V = torch.nn.Parameter(torch.randn((gradeMatrix.shape[1],k),device=device,requires_grad=True))\n",
    "    def forward(self,y):\n",
    "        #torch.matmul(U,torch.transpose(V))\n",
    "        return 0.5*torch.norm(torch.mul(maskData,y-torch.matmul(self.U,self.V.transpose(0,1))))**2+lamb*(torch.norm(self.U)**2+torch.norm(self.V)**2)\n",
    "    def rmse(self,y):\n",
    "        return torch.norm(torch.mul(maskTest,y-torch.matmul(self.U,self.V.transpose(0,1))))"
   ]
  },
  {
   "cell_type": "code",
   "execution_count": null,
   "id": "protective-twins",
   "metadata": {},
   "outputs": [],
   "source": [
    "class My_loss(nn.Module):\n",
    "    def __init__(self):\n",
    "        super().__init__()\n",
    "        \n",
    "    def forward(self, x, y):\n",
    "        return 0.5*torch.norm(torch.mul(maskData,y-x))**2+lamb*(torch.norm(U)**2+torch.norm(V)**2)\n",
    "    "
   ]
  },
  {
   "cell_type": "code",
   "execution_count": 49,
   "id": "bigger-modification",
   "metadata": {},
   "outputs": [
    {
     "name": "stdout",
     "output_type": "stream",
     "text": [
      "0 216161771.04737476\n",
      "100 168513600.29834396\n",
      "200 136126463.34589657\n",
      "300 111804000.47308272\n",
      "400 88367039.8815375\n",
      "500 64856540.147545524\n",
      "600 48311188.31396722\n",
      "700 37961713.296979874\n",
      "800 30807699.607565857\n",
      "900 25466605.827187438\n",
      "1000 21316480.11159924\n",
      "1100 18013509.223536022\n",
      "1200 15339825.101951873\n",
      "1300 13147557.02499262\n",
      "1400 11332600.48053418\n",
      "1500 9819849.587626299\n",
      "1600 8553903.181041826\n",
      "1700 7492861.365028502\n",
      "1800 6604098.639670124\n",
      "1900 5861395.607031589\n",
      "2000 5243028.19871899\n",
      "2100 4730523.9417551365\n",
      "2200 4307874.016240554\n",
      "2300 3961043.3889205228\n",
      "2400 3677665.4861143907\n",
      "2500 3446841.9348259238\n",
      "2600 3258997.6341164117\n",
      "2700 3105769.361826546\n",
      "2800 2979928.0076151374\n",
      "2900 2875350.3171419636\n",
      "3000 2787053.015787406\n",
      "3100 2711267.318733903\n",
      "3200 2645466.1273034415\n",
      "3300 2588215.4148807977\n",
      "3400 2538793.297947314\n",
      "3500 2496696.7431069664\n",
      "3600 2461263.0860998086\n",
      "3700 2431542.400488162\n",
      "3800 2406375.753599012\n",
      "3900 2384547.9769915594\n",
      "4000 2364918.680809875\n",
      "4100 2346505.0854815026\n",
      "4200 2328529.477612723\n",
      "4300 2310446.265042342\n",
      "4400 2291947.93097397\n",
      "4500 2272939.0230329977\n",
      "4600 2253478.393032578\n",
      "4700 2233713.5821092906\n",
      "4800 2213837.944917535\n",
      "4900 2194076.812088534\n"
     ]
    }
   ],
   "source": [
    "learning_rate = 1e-3\n",
    "lamb=0.01\n",
    "model = poly()\n",
    "optimizer = torch.optim.Adam(model.parameters(),lr=learning_rate)\n",
    "for t in range(5000):\n",
    "    loss= model(trainData)\n",
    "    if t%100 ==0:\n",
    "        print(t,loss.item())\n",
    "    optimizer.zero_grad()\n",
    "    loss.backward()\n",
    "    optimizer.step()\n"
   ]
  },
  {
   "cell_type": "code",
   "execution_count": 50,
   "id": "decimal-pride",
   "metadata": {},
   "outputs": [
    {
     "data": {
      "text/plain": [
       "0.9027223843087977"
      ]
     },
     "execution_count": 50,
     "metadata": {},
     "output_type": "execute_result"
    }
   ],
   "source": [
    "rmse(model.U.cpu().detach().numpy().dot(model.V.cpu().detach().numpy().T),gradeTest)"
   ]
  },
  {
   "cell_type": "code",
   "execution_count": 47,
   "id": "alike-thesis",
   "metadata": {},
   "outputs": [
    {
     "data": {
      "text/plain": [
       "array([[-0.27325168, -0.5808143 , -0.95366865, ..., -0.9256683 ,\n",
       "         0.36562392,  0.3893332 ],\n",
       "       [-0.36387172, -1.348269  , -0.07453873, ..., -0.19496754,\n",
       "         0.43181995,  1.977597  ],\n",
       "       [ 0.9629586 ,  0.01253332,  0.1200662 , ...,  0.49402824,\n",
       "        -1.0437483 , -1.6892343 ],\n",
       "       ...,\n",
       "       [-0.50993484,  1.2763777 ,  0.06429432, ..., -0.46602723,\n",
       "         0.82997924,  1.229044  ],\n",
       "       [ 2.6294131 , -1.2693384 , -0.426589  , ...,  1.0714242 ,\n",
       "        -0.92700875,  0.36979368],\n",
       "       [ 0.36741003, -0.52827173, -0.51916987, ...,  1.2765571 ,\n",
       "         0.3302791 ,  0.77558845]], dtype=float32)"
      ]
     },
     "execution_count": 47,
     "metadata": {},
     "output_type": "execute_result"
    }
   ],
   "source": [
    "model.U.cpu().detach().numpy()"
   ]
  },
  {
   "cell_type": "code",
   "execution_count": 53,
   "id": "green-pierce",
   "metadata": {},
   "outputs": [
    {
     "name": "stdout",
     "output_type": "stream",
     "text": [
      "k,j:50,1;rmse:0.87\n",
      "k,j:50,0.1;rmse:0.89\n",
      "k,j:50,0.01;rmse:0.90\n",
      "k,j:50,0.001;rmse:0.91\n"
     ]
    }
   ],
   "source": [
    "for k in [50]:\n",
    "    for j in [1,0.1, 0.01,0.001]:\n",
    "        learning_rate = 1e-3\n",
    "        lamb=j\n",
    "        model = poly(k)\n",
    "        optimizer = torch.optim.Adam(model.parameters(),lr=learning_rate)\n",
    "        for t in range(5000):\n",
    "            loss= model(trainData)\n",
    "            optimizer.zero_grad()\n",
    "            loss.backward()\n",
    "            optimizer.step()\n",
    "        print('k,j:{},{};rmse:{:.2f}'.format(k,j,rmse(model.U.cpu().detach().numpy().dot(model.V.cpu().detach().numpy().T),gradeTest)))"
   ]
  },
  {
   "cell_type": "code",
   "execution_count": null,
   "id": "emotional-yield",
   "metadata": {},
   "outputs": [],
   "source": []
  },
  {
   "cell_type": "code",
   "execution_count": null,
   "id": "voluntary-nashville",
   "metadata": {},
   "outputs": [],
   "source": []
  }
 ],
 "metadata": {
  "kernelspec": {
   "display_name": "Python 3",
   "language": "python",
   "name": "python3"
  },
  "language_info": {
   "codemirror_mode": {
    "name": "ipython",
    "version": 3
   },
   "file_extension": ".py",
   "mimetype": "text/x-python",
   "name": "python",
   "nbconvert_exporter": "python",
   "pygments_lexer": "ipython3",
   "version": "3.9.2"
  }
 },
 "nbformat": 4,
 "nbformat_minor": 5
}
