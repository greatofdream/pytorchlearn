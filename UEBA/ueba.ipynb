{
 "cells": [
  {
   "cell_type": "code",
   "execution_count": 9,
   "metadata": {},
   "outputs": [],
   "source": [
    "import h5py\n",
    "with h5py.File('train.h5','r') as ipt:\n",
    "    trainx = ipt['x'][:]\n",
    "    trainy = ipt['y'][:]"
   ]
  },
  {
   "cell_type": "code",
   "execution_count": 21,
   "metadata": {},
   "outputs": [],
   "source": [
    "with h5py.File('test.h5','r') as ipt:\n",
    "    testx = ipt['x'][:]"
   ]
  },
  {
   "cell_type": "code",
   "execution_count": 35,
   "metadata": {},
   "outputs": [],
   "source": [
    "import pandas as pd,numpy as np"
   ]
  },
  {
   "cell_type": "code",
   "execution_count": 23,
   "metadata": {},
   "outputs": [
    {
     "name": "stdout",
     "output_type": "stream",
     "text": [
      "(528690, 3) (211403, 3)\n"
     ]
    }
   ],
   "source": [
    "print(trainx.shape,testx.shape)"
   ]
  },
  {
   "cell_type": "code",
   "execution_count": 2,
   "metadata": {},
   "outputs": [],
   "source": [
    "import torch\n",
    "from torch import nn\n",
    "import torch.optim as optim\n",
    "import torch.utils.data as Data\n",
    "import torch.nn.functional as F\n",
    "device = \"cuda\" if torch.cuda.is_available() else \"cpu\""
   ]
  },
  {
   "cell_type": "code",
   "execution_count": 17,
   "metadata": {},
   "outputs": [],
   "source": [
    "torch.cuda.set_device(1)"
   ]
  },
  {
   "cell_type": "code",
   "execution_count": 18,
   "metadata": {},
   "outputs": [
    {
     "data": {
      "text/plain": [
       "1"
      ]
     },
     "execution_count": 18,
     "metadata": {},
     "output_type": "execute_result"
    }
   ],
   "source": [
    "torch.cuda.current_device()"
   ]
  },
  {
   "cell_type": "code",
   "execution_count": 20,
   "metadata": {},
   "outputs": [
    {
     "data": {
      "text/plain": [
       "_CudaDeviceProperties(name='Tesla K80', major=3, minor=7, total_memory=12206MB, multi_processor_count=13)"
      ]
     },
     "execution_count": 20,
     "metadata": {},
     "output_type": "execute_result"
    }
   ],
   "source": [
    "torch.cuda.get_device_properties(1)"
   ]
  },
  {
   "cell_type": "code",
   "execution_count": 22,
   "metadata": {},
   "outputs": [],
   "source": [
    "x_train = torch.from_numpy(trainx).view(-1,3).cuda()\n",
    "y_train = torch.from_numpy(trainy).view(-1,1).cuda()\n",
    "x_test = torch.from_numpy(testx).view(-1,3).cuda()\n",
    "learning_rate=0.001"
   ]
  },
  {
   "cell_type": "code",
   "execution_count": 24,
   "metadata": {},
   "outputs": [],
   "source": [
    "splitnum = int(trainx.shape[0]*0.7)\n",
    "batch_size = 1000\n",
    "train_dataset = Data.TensorDataset(x_train[:splitnum],y_train[:splitnum])\n",
    "train_loader = Data.DataLoader(dataset=train_dataset,batch_size=batch_size,shuffle=False)\n",
    "test_dataset = Data.TensorDataset(x_train[splitnum:],y_train[splitnum:])\n",
    "test_loader = Data.DataLoader(dataset=test_dataset,batch_size=batch_size,shuffle=False)"
   ]
  },
  {
   "cell_type": "code",
   "execution_count": 25,
   "metadata": {},
   "outputs": [],
   "source": [
    "class Net(torch.nn.Module):\n",
    "    def __init__(self, nfeature, out):\n",
    "        super(Net, self).__init__()\n",
    "        self.hidden = torch.nn.Linear(nfeature,nfeature*4)\n",
    "        self.fc2 = torch.nn.Linear(nfeature*4,nfeature*8)\n",
    "        self.fc3 = torch.nn.Linear(nfeature*8,nfeature*8)\n",
    "        self.fc = torch.nn.Linear(nfeature*4,out)\n",
    "        self.conv1 = torch.nn.Conv1d(1,1,(1,3),padding=(0,1))\n",
    "        self.fc4 = torch.nn.Linear(nfeature*8,nfeature*4)\n",
    "    def forward(self, x):\n",
    "        x = F.relu(self.hidden(x))\n",
    "        #print(x.shape)\n",
    "        x = F.relu(self.fc2(x))\n",
    "        #print(x.shape)\n",
    "        x = F.relu(self.fc3(x))\n",
    "        #print(x.shape)\n",
    "        x = F.relu(self.fc4(x))\n",
    "        x = self.fc(x)\n",
    "        #x = self.hidden(x)\n",
    "        return x\n",
    "model = Net(3,1).to(device)"
   ]
  },
  {
   "cell_type": "code",
   "execution_count": 26,
   "metadata": {},
   "outputs": [],
   "source": [
    "optimizer = optim.Adam(model.parameters(), lr=learning_rate)\n",
    "#criterion = nn.MSELoss()\n",
    "criterion=nn.MSELoss()"
   ]
  },
  {
   "cell_type": "code",
   "execution_count": 29,
   "metadata": {},
   "outputs": [
    {
     "name": "stdout",
     "output_type": "stream",
     "text": [
      "Test Error: \n",
      " Accuracy: 0.0%, Avg loss:0.000037 \n",
      "\n",
      "Test Error: \n",
      " Accuracy: 0.0%, Avg loss:0.000034 \n",
      "\n",
      "Test Error: \n",
      " Accuracy: 0.0%, Avg loss:0.000034 \n",
      "\n",
      "Test Error: \n",
      " Accuracy: 0.0%, Avg loss:0.000034 \n",
      "\n",
      "Test Error: \n",
      " Accuracy: 0.0%, Avg loss:0.000034 \n",
      "\n",
      "Test Error: \n",
      " Accuracy: 0.0%, Avg loss:0.000033 \n",
      "\n",
      "Test Error: \n",
      " Accuracy: 0.0%, Avg loss:0.000034 \n",
      "\n",
      "Test Error: \n",
      " Accuracy: 0.0%, Avg loss:0.000033 \n",
      "\n",
      "Test Error: \n",
      " Accuracy: 0.0%, Avg loss:0.000032 \n",
      "\n",
      "Test Error: \n",
      " Accuracy: 0.0%, Avg loss:0.000032 \n",
      "\n",
      "Test Error: \n",
      " Accuracy: 0.0%, Avg loss:0.000033 \n",
      "\n",
      "Test Error: \n",
      " Accuracy: 0.0%, Avg loss:0.000032 \n",
      "\n",
      "Test Error: \n",
      " Accuracy: 0.0%, Avg loss:0.000032 \n",
      "\n",
      "Test Error: \n",
      " Accuracy: 0.0%, Avg loss:0.000032 \n",
      "\n",
      "Test Error: \n",
      " Accuracy: 0.0%, Avg loss:0.000032 \n",
      "\n",
      "Test Error: \n",
      " Accuracy: 0.0%, Avg loss:0.000032 \n",
      "\n",
      "Test Error: \n",
      " Accuracy: 0.0%, Avg loss:0.000032 \n",
      "\n",
      "Test Error: \n",
      " Accuracy: 0.0%, Avg loss:0.000032 \n",
      "\n",
      "Test Error: \n",
      " Accuracy: 0.0%, Avg loss:0.000032 \n",
      "\n",
      "Test Error: \n",
      " Accuracy: 0.0%, Avg loss:0.000032 \n",
      "\n",
      "Test Error: \n",
      " Accuracy: 0.0%, Avg loss:0.000032 \n",
      "\n",
      "Test Error: \n",
      " Accuracy: 0.0%, Avg loss:0.000032 \n",
      "\n",
      "Test Error: \n",
      " Accuracy: 0.0%, Avg loss:0.000031 \n",
      "\n",
      "Test Error: \n",
      " Accuracy: 0.0%, Avg loss:0.000031 \n",
      "\n",
      "Test Error: \n",
      " Accuracy: 0.0%, Avg loss:0.000032 \n",
      "\n",
      "Test Error: \n",
      " Accuracy: 0.0%, Avg loss:0.000032 \n",
      "\n",
      "Test Error: \n",
      " Accuracy: 0.0%, Avg loss:0.000032 \n",
      "\n",
      "Test Error: \n",
      " Accuracy: 0.0%, Avg loss:0.000031 \n",
      "\n",
      "Test Error: \n",
      " Accuracy: 0.0%, Avg loss:0.000032 \n",
      "\n",
      "Test Error: \n",
      " Accuracy: 0.0%, Avg loss:0.000032 \n",
      "\n",
      "Test Error: \n",
      " Accuracy: 0.0%, Avg loss:0.000032 \n",
      "\n",
      "Test Error: \n",
      " Accuracy: 0.0%, Avg loss:0.000032 \n",
      "\n",
      "Test Error: \n",
      " Accuracy: 0.0%, Avg loss:0.000032 \n",
      "\n",
      "Test Error: \n",
      " Accuracy: 0.0%, Avg loss:0.000032 \n",
      "\n",
      "Test Error: \n",
      " Accuracy: 0.0%, Avg loss:0.000032 \n",
      "\n",
      "Test Error: \n",
      " Accuracy: 0.0%, Avg loss:0.000032 \n",
      "\n",
      "Test Error: \n",
      " Accuracy: 0.0%, Avg loss:0.000032 \n",
      "\n",
      "Test Error: \n",
      " Accuracy: 0.0%, Avg loss:0.000032 \n",
      "\n",
      "Test Error: \n",
      " Accuracy: 0.0%, Avg loss:0.000032 \n",
      "\n",
      "Test Error: \n",
      " Accuracy: 0.0%, Avg loss:0.000031 \n",
      "\n",
      "Test Error: \n",
      " Accuracy: 0.0%, Avg loss:0.000032 \n",
      "\n",
      "Test Error: \n",
      " Accuracy: 0.0%, Avg loss:0.000032 \n",
      "\n",
      "Test Error: \n",
      " Accuracy: 0.0%, Avg loss:0.000031 \n",
      "\n",
      "Test Error: \n",
      " Accuracy: 0.0%, Avg loss:0.000032 \n",
      "\n",
      "Test Error: \n",
      " Accuracy: 0.0%, Avg loss:0.000031 \n",
      "\n",
      "Test Error: \n",
      " Accuracy: 0.0%, Avg loss:0.000031 \n",
      "\n",
      "Test Error: \n",
      " Accuracy: 0.0%, Avg loss:0.000031 \n",
      "\n",
      "Test Error: \n",
      " Accuracy: 0.0%, Avg loss:0.000031 \n",
      "\n",
      "Test Error: \n",
      " Accuracy: 0.0%, Avg loss:0.000031 \n",
      "\n",
      "Test Error: \n",
      " Accuracy: 0.0%, Avg loss:0.000031 \n",
      "\n",
      "Test Error: \n",
      " Accuracy: 0.0%, Avg loss:0.000031 \n",
      "\n",
      "Test Error: \n",
      " Accuracy: 0.0%, Avg loss:0.000031 \n",
      "\n",
      "Test Error: \n",
      " Accuracy: 0.0%, Avg loss:0.000031 \n",
      "\n",
      "Test Error: \n",
      " Accuracy: 0.0%, Avg loss:0.000031 \n",
      "\n",
      "Test Error: \n",
      " Accuracy: 0.0%, Avg loss:0.000031 \n",
      "\n",
      "Test Error: \n",
      " Accuracy: 0.0%, Avg loss:0.000031 \n",
      "\n",
      "Test Error: \n",
      " Accuracy: 0.0%, Avg loss:0.000031 \n",
      "\n",
      "Test Error: \n",
      " Accuracy: 0.0%, Avg loss:0.000031 \n",
      "\n",
      "Test Error: \n",
      " Accuracy: 0.0%, Avg loss:0.000031 \n",
      "\n",
      "Test Error: \n",
      " Accuracy: 0.0%, Avg loss:0.000031 \n",
      "\n",
      "Test Error: \n",
      " Accuracy: 0.0%, Avg loss:0.000031 \n",
      "\n",
      "Test Error: \n",
      " Accuracy: 0.0%, Avg loss:0.000031 \n",
      "\n",
      "Test Error: \n",
      " Accuracy: 0.0%, Avg loss:0.000031 \n",
      "\n",
      "Test Error: \n",
      " Accuracy: 0.0%, Avg loss:0.000031 \n",
      "\n"
     ]
    }
   ],
   "source": [
    "epochs = 64\n",
    "for epoch in range(epochs):\n",
    "    model.train()\n",
    "    for batch,(x,y) in enumerate(train_loader):\n",
    "        ypred = model(x.float())\n",
    "        loss = criterion(ypred, y.float())\n",
    "        optimizer.zero_grad()\n",
    "        loss.backward()\n",
    "        optimizer.step()\n",
    "    model.eval()\n",
    "    size = len(test_loader.dataset)\n",
    "    test_loss, correct = 0,0\n",
    "    with torch.no_grad():\n",
    "        for x,y in test_loader:\n",
    "            x = x.float()\n",
    "            pred = model(x)\n",
    "            test_loss += criterion(pred,y.float()).item()\n",
    "            correct += (pred.argmax(1) ==y).type(torch.float).sum().item()\n",
    "    test_loss /= size\n",
    "    correct /= size\n",
    "    print(f'Test Error: \\n Accuracy: {(100*correct):>0.1f}%, Avg loss:{test_loss:>8f} \\n')"
   ]
  },
  {
   "cell_type": "code",
   "execution_count": 30,
   "metadata": {},
   "outputs": [],
   "source": [
    "torch.save(model.state_dict(),'model0.pth')"
   ]
  },
  {
   "cell_type": "code",
   "execution_count": 38,
   "metadata": {},
   "outputs": [],
   "source": [
    "model.eval()\n",
    "with torch.no_grad():\n",
    "    x_test = x_test.float()\n",
    "    pred0 = model(x_test).cpu().numpy()\n",
    "realpredict = pd.DataFrame({'id': range(testx.shape[0]),'ret':np.array(pred0).reshape(-1)})\n",
    "realpredict.to_csv('submit0.csv',index=False)"
   ]
  },
  {
   "cell_type": "code",
   "execution_count": null,
   "metadata": {},
   "outputs": [],
   "source": []
  }
 ],
 "metadata": {
  "kernelspec": {
   "display_name": "Python 3",
   "language": "python",
   "name": "python3"
  },
  "language_info": {
   "codemirror_mode": {
    "name": "ipython",
    "version": 3
   },
   "file_extension": ".py",
   "mimetype": "text/x-python",
   "name": "python",
   "nbconvert_exporter": "python",
   "pygments_lexer": "ipython3",
   "version": "3.8.11"
  }
 },
 "nbformat": 4,
 "nbformat_minor": 4
}
