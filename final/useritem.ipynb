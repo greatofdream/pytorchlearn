{
 "cells": [
  {
   "cell_type": "code",
   "execution_count": 1,
   "metadata": {},
   "outputs": [],
   "source": [
    "import pandas as pd\n",
    "import numpy as np\n",
    "import h5py"
   ]
  },
  {
   "cell_type": "code",
   "execution_count": 2,
   "metadata": {},
   "outputs": [],
   "source": [
    "test = pd.read_hdf('test.h5','data')\n",
    "train = pd.read_hdf('train.h5','data')"
   ]
  },
  {
   "cell_type": "code",
   "execution_count": 4,
   "metadata": {},
   "outputs": [],
   "source": [
    "with h5py.File('product_info.h5', 'r') as ipt:\n",
    "    productinfo = ipt['info'][:]"
   ]
  },
  {
   "cell_type": "code",
   "execution_count": 11,
   "metadata": {},
   "outputs": [],
   "source": [
    "productindex = np.load('pindex.npy',allow_pickle=True).item()"
   ]
  },
  {
   "cell_type": "code",
   "execution_count": 14,
   "metadata": {},
   "outputs": [],
   "source": [
    "eventmap = {'cart':5, 'purchase':10, 'remove_from_cart':-5, 'view':1}"
   ]
  },
  {
   "cell_type": "code",
   "execution_count": 63,
   "metadata": {},
   "outputs": [],
   "source": [
    "productViews = np.sum(productinfo['view'])\n",
    "productCarts = np.sum(productinfo['cart'])\n",
    "productRcarts = np.sum(productinfo['remove_from_cart'])\n",
    "productPurchases = np.sum(productinfo['purchase'])\n"
   ]
  },
  {
   "cell_type": "code",
   "execution_count": 64,
   "metadata": {},
   "outputs": [],
   "source": [
    "plen = 100\n",
    "def transferTrain(df,eventmap):\n",
    "    gr = df.groupby('user_id').filter(lambda x: len(x)>=10).groupby('user_id')\n",
    "    xtrain = np.zeros((len(gr),plen,11))\n",
    "    ytrain = np.zeros(len(gr),dtype=int)\n",
    "    yreal = np.zeros((len(gr),plen),dtype=int)\n",
    "    for i,(usr_id,ur) in enumerate(gr):\n",
    "        predict = ur.iloc[-1]['product_id']\n",
    "        if np.where(ur.iloc[:-1]['product_id']==predict)[0].shape[0]==0:\n",
    "            predict = ur.iloc[-2]['product_id']\n",
    "        for j,(pid, upr) in enumerate(ur.iloc[:-1].groupby('product_id')):\n",
    "            for et in upr['event_type']:\n",
    "                if et==eventmap['cart']:\n",
    "                    xtrain[i,j,0] +=1\n",
    "                elif et==eventmap['purchase']:\n",
    "                    xtrain[i,j,1] +=1\n",
    "                elif et==eventmap['remove_from_cart']:\n",
    "                    xtrain[i,j,2] +=1\n",
    "                elif et==eventmap['view']:\n",
    "                    xtrain[i,j,3] +=1\n",
    "            xtrain[i,j,4] = productinfo[productindex[pid]]['cart-view']\n",
    "            xtrain[i,j,5] = productinfo[productindex[pid]]['purchase-view']\n",
    "            xtrain[i,j,6] = productinfo[productindex[pid]]['purchase-cart']\n",
    "            xtrain[i,j,7] = productinfo[productindex[pid]]['view']/productViews\n",
    "            xtrain[i,j,8] = productinfo[productindex[pid]]['cart']/productCarts\n",
    "            xtrain[i,j,9] = productinfo[productindex[pid]]['remove_from_cart']/productRcarts\n",
    "            xtrain[i,j,10] = productinfo[productindex[pid]]['purchase']/productPurchases\n",
    "            if pid == predict:\n",
    "                ytrain[i] = j\n",
    "            yreal[i][j] = pid\n",
    "            if j>=(plen-1):\n",
    "                break\n",
    "        yreal[i][j:] = ur.iloc[-2]['product_id']\n",
    "        #if i>2:\n",
    "        #    break\n",
    "    return xtrain,ytrain,yreal\n",
    "def transferTest(df,eventmap):\n",
    "    gr = df.groupby('user_id')\n",
    "    xtrain = np.zeros((len(gr),plen,11))\n",
    "    yreal = np.zeros((len(gr),plen),dtype=int)\n",
    "    for i,(usr_id,ur) in enumerate(gr):\n",
    "        for j,(pid, upr) in enumerate(ur.groupby('product_id')):\n",
    "            for et in upr['event_type']:\n",
    "                if et==eventmap['cart']:\n",
    "                    xtrain[i,j,0] +=1\n",
    "                elif et==eventmap['purchase']:\n",
    "                    xtrain[i,j,1] +=1\n",
    "                elif et==eventmap['remove_from_cart']:\n",
    "                    xtrain[i,j,2] +=1\n",
    "                elif et==eventmap['view']:\n",
    "                    xtrain[i,j,3] +=1\n",
    "            xtrain[i,j,4] = productinfo[productindex[pid]]['cart-view']\n",
    "            xtrain[i,j,5] = productinfo[productindex[pid]]['purchase-view']\n",
    "            xtrain[i,j,6] = productinfo[productindex[pid]]['purchase-cart']\n",
    "            xtrain[i,j,7] = productinfo[productindex[pid]]['view']/productViews\n",
    "            xtrain[i,j,8] = productinfo[productindex[pid]]['cart']/productCarts\n",
    "            xtrain[i,j,9] = productinfo[productindex[pid]]['remove_from_cart']/productRcarts\n",
    "            xtrain[i,j,10] = productinfo[productindex[pid]]['purchase']/productPurchases\n",
    "            yreal[i][j] = pid\n",
    "            if j>=(plen-1):\n",
    "                break\n",
    "        yreal[i][j:] = ur.iloc[-1]['product_id']\n",
    "        #if i>2:\n",
    "        #    break\n",
    "    return xtrain,yreal"
   ]
  },
  {
   "cell_type": "code",
   "execution_count": 65,
   "metadata": {},
   "outputs": [],
   "source": [
    "xtest,ytestreal=transferTest(test,eventmap)"
   ]
  },
  {
   "cell_type": "code",
   "execution_count": 66,
   "metadata": {},
   "outputs": [],
   "source": [
    "xtrain,ytrain,ytrainreal=transferTrain(train,eventmap)"
   ]
  },
  {
   "cell_type": "code",
   "execution_count": 17,
   "metadata": {},
   "outputs": [],
   "source": [
    "import torch\n",
    "from torch import nn\n",
    "import torch.optim as optim\n",
    "import torch.utils.data as Data\n",
    "import torch.nn.functional as F\n",
    "device = \"cuda\" if torch.cuda.is_available() else \"cpu\""
   ]
  },
  {
   "cell_type": "code",
   "execution_count": 67,
   "metadata": {},
   "outputs": [],
   "source": [
    "plen=100\n",
    "nfeature=11\n",
    "x_train = torch.from_numpy(xtrain).view(-1,plen,nfeature).cuda()\n",
    "y_train = torch.from_numpy(ytrain).view(-1,1).cuda()\n",
    "x_test = torch.from_numpy(xtest).view(-1,plen,nfeature).cuda()"
   ]
  },
  {
   "cell_type": "code",
   "execution_count": null,
   "metadata": {},
   "outputs": [],
   "source": [
    "y_train.shape"
   ]
  },
  {
   "cell_type": "code",
   "execution_count": 68,
   "metadata": {},
   "outputs": [],
   "source": [
    "batch_size=128\n",
    "seperate=5000\n",
    "train_dataset = Data.TensorDataset(x_train[:seperate],y_train[:seperate])\n",
    "train_loader = Data.DataLoader(dataset=train_dataset,batch_size=batch_size,shuffle=False)\n",
    "test_dataset = Data.TensorDataset(x_train[seperate:],y_train[seperate:])\n",
    "test_loader = Data.DataLoader(dataset=test_dataset,batch_size=batch_size,shuffle=False)"
   ]
  },
  {
   "cell_type": "code",
   "execution_count": 59,
   "metadata": {},
   "outputs": [],
   "source": [
    "class Net(torch.nn.Module):\n",
    "    def __init__(self, nfeature, out):\n",
    "        super(Net, self).__init__()\n",
    "        self.hidden = torch.nn.Linear(nfeature,nfeature*4)\n",
    "        self.fc2 = torch.nn.Linear(nfeature*4,nfeature*8)\n",
    "        self.fc3 = torch.nn.Linear(nfeature*8,nfeature*8)\n",
    "        self.fc = torch.nn.Linear(nfeature*4,out)\n",
    "        self.conv1 = torch.nn.Conv1d(1,1,(1,3),padding=(0,1))\n",
    "        self.fc4 = torch.nn.Linear(nfeature*8,nfeature*4)\n",
    "    def forward(self, x):\n",
    "        x = F.relu(self.hidden(x))\n",
    "        #print(x.shape)\n",
    "        x = F.relu(self.fc2(x))\n",
    "        #print(x.shape)\n",
    "        x = F.relu(self.fc3(x))\n",
    "        #print(x.shape)\n",
    "        x = F.relu(self.fc4(x))\n",
    "        x = self.fc(x)\n",
    "        #x = self.hidden(x)\n",
    "        return x\n",
    "model = Net(11,1).to(device)"
   ]
  },
  {
   "cell_type": "code",
   "execution_count": 69,
   "metadata": {},
   "outputs": [],
   "source": [
    "learning_rate=0.001\n",
    "optimizer = optim.Adam(model.parameters(), lr=learning_rate)\n",
    "#criterion = nn.MSELoss()\n",
    "criterion=nn.CrossEntropyLoss()"
   ]
  },
  {
   "cell_type": "code",
   "execution_count": 77,
   "metadata": {},
   "outputs": [
    {
     "name": "stdout",
     "output_type": "stream",
     "text": [
      "Test Error: \n",
      " Accuracy: 28.6%, Avg loss:0.020558 \n",
      "\n",
      "Test Error: \n",
      " Accuracy: 28.9%, Avg loss:0.020679 \n",
      "\n",
      "Test Error: \n",
      " Accuracy: 28.0%, Avg loss:0.020730 \n",
      "\n",
      "Test Error: \n",
      " Accuracy: 28.3%, Avg loss:0.020692 \n",
      "\n",
      "Test Error: \n",
      " Accuracy: 28.0%, Avg loss:0.020788 \n",
      "\n",
      "Test Error: \n",
      " Accuracy: 28.1%, Avg loss:0.020773 \n",
      "\n",
      "Test Error: \n",
      " Accuracy: 28.2%, Avg loss:0.020844 \n",
      "\n",
      "Test Error: \n",
      " Accuracy: 28.5%, Avg loss:0.020806 \n",
      "\n",
      "Test Error: \n",
      " Accuracy: 28.6%, Avg loss:0.020774 \n",
      "\n",
      "Test Error: \n",
      " Accuracy: 28.1%, Avg loss:0.020887 \n",
      "\n",
      "Test Error: \n",
      " Accuracy: 28.6%, Avg loss:0.020863 \n",
      "\n",
      "Test Error: \n",
      " Accuracy: 28.3%, Avg loss:0.020852 \n",
      "\n",
      "Test Error: \n",
      " Accuracy: 28.5%, Avg loss:0.020994 \n",
      "\n",
      "Test Error: \n",
      " Accuracy: 28.3%, Avg loss:0.020825 \n",
      "\n",
      "Test Error: \n",
      " Accuracy: 28.7%, Avg loss:0.020978 \n",
      "\n",
      "Test Error: \n",
      " Accuracy: 28.5%, Avg loss:0.020977 \n",
      "\n",
      "Test Error: \n",
      " Accuracy: 28.4%, Avg loss:0.020963 \n",
      "\n",
      "Test Error: \n",
      " Accuracy: 28.2%, Avg loss:0.020877 \n",
      "\n",
      "Test Error: \n",
      " Accuracy: 28.3%, Avg loss:0.020906 \n",
      "\n",
      "Test Error: \n",
      " Accuracy: 28.7%, Avg loss:0.021042 \n",
      "\n",
      "Test Error: \n",
      " Accuracy: 28.3%, Avg loss:0.020942 \n",
      "\n",
      "Test Error: \n",
      " Accuracy: 28.5%, Avg loss:0.020945 \n",
      "\n",
      "Test Error: \n",
      " Accuracy: 28.8%, Avg loss:0.020900 \n",
      "\n",
      "Test Error: \n",
      " Accuracy: 29.5%, Avg loss:0.020975 \n",
      "\n",
      "Test Error: \n",
      " Accuracy: 28.5%, Avg loss:0.020950 \n",
      "\n",
      "Test Error: \n",
      " Accuracy: 28.5%, Avg loss:0.021027 \n",
      "\n",
      "Test Error: \n",
      " Accuracy: 28.9%, Avg loss:0.020987 \n",
      "\n",
      "Test Error: \n",
      " Accuracy: 28.7%, Avg loss:0.021048 \n",
      "\n",
      "Test Error: \n",
      " Accuracy: 29.1%, Avg loss:0.021031 \n",
      "\n",
      "Test Error: \n",
      " Accuracy: 28.8%, Avg loss:0.021134 \n",
      "\n",
      "Test Error: \n",
      " Accuracy: 29.4%, Avg loss:0.021031 \n",
      "\n",
      "Test Error: \n",
      " Accuracy: 28.9%, Avg loss:0.021133 \n",
      "\n",
      "Test Error: \n",
      " Accuracy: 29.1%, Avg loss:0.020981 \n",
      "\n",
      "Test Error: \n",
      " Accuracy: 28.9%, Avg loss:0.021053 \n",
      "\n",
      "Test Error: \n",
      " Accuracy: 29.4%, Avg loss:0.021034 \n",
      "\n",
      "Test Error: \n",
      " Accuracy: 29.1%, Avg loss:0.021015 \n",
      "\n",
      "Test Error: \n",
      " Accuracy: 28.9%, Avg loss:0.021016 \n",
      "\n",
      "Test Error: \n",
      " Accuracy: 29.4%, Avg loss:0.021100 \n",
      "\n",
      "Test Error: \n",
      " Accuracy: 28.9%, Avg loss:0.020963 \n",
      "\n",
      "Test Error: \n",
      " Accuracy: 28.9%, Avg loss:0.021006 \n",
      "\n",
      "Test Error: \n",
      " Accuracy: 29.1%, Avg loss:0.021031 \n",
      "\n",
      "Test Error: \n",
      " Accuracy: 29.1%, Avg loss:0.020984 \n",
      "\n",
      "Test Error: \n",
      " Accuracy: 29.2%, Avg loss:0.021029 \n",
      "\n",
      "Test Error: \n",
      " Accuracy: 28.8%, Avg loss:0.021043 \n",
      "\n",
      "Test Error: \n",
      " Accuracy: 29.1%, Avg loss:0.020959 \n",
      "\n",
      "Test Error: \n",
      " Accuracy: 28.9%, Avg loss:0.020907 \n",
      "\n",
      "Test Error: \n",
      " Accuracy: 29.4%, Avg loss:0.020987 \n",
      "\n",
      "Test Error: \n",
      " Accuracy: 28.8%, Avg loss:0.020962 \n",
      "\n",
      "Test Error: \n",
      " Accuracy: 28.5%, Avg loss:0.021122 \n",
      "\n",
      "Test Error: \n",
      " Accuracy: 28.3%, Avg loss:0.021044 \n",
      "\n",
      "Test Error: \n",
      " Accuracy: 28.0%, Avg loss:0.021152 \n",
      "\n",
      "Test Error: \n",
      " Accuracy: 28.1%, Avg loss:0.021193 \n",
      "\n",
      "Test Error: \n",
      " Accuracy: 28.5%, Avg loss:0.021050 \n",
      "\n",
      "Test Error: \n",
      " Accuracy: 29.1%, Avg loss:0.021093 \n",
      "\n",
      "Test Error: \n",
      " Accuracy: 28.8%, Avg loss:0.021053 \n",
      "\n",
      "Test Error: \n",
      " Accuracy: 28.9%, Avg loss:0.021075 \n",
      "\n",
      "Test Error: \n",
      " Accuracy: 28.6%, Avg loss:0.021152 \n",
      "\n",
      "Test Error: \n",
      " Accuracy: 28.8%, Avg loss:0.021207 \n",
      "\n",
      "Test Error: \n",
      " Accuracy: 28.5%, Avg loss:0.021094 \n",
      "\n",
      "Test Error: \n",
      " Accuracy: 28.6%, Avg loss:0.021338 \n",
      "\n",
      "Test Error: \n",
      " Accuracy: 28.6%, Avg loss:0.021210 \n",
      "\n",
      "Test Error: \n",
      " Accuracy: 28.7%, Avg loss:0.021353 \n",
      "\n",
      "Test Error: \n",
      " Accuracy: 28.5%, Avg loss:0.021233 \n",
      "\n",
      "Test Error: \n",
      " Accuracy: 28.6%, Avg loss:0.021351 \n",
      "\n"
     ]
    }
   ],
   "source": [
    "epochs = 64\n",
    "errrate = 0\n",
    "for epoch in range(epochs):\n",
    "    model.train()\n",
    "    for batch,(x,y) in enumerate(train_loader):\n",
    "        ypred = model(x.float())\n",
    "        loss = criterion(ypred, y)\n",
    "        optimizer.zero_grad()\n",
    "        loss.backward()\n",
    "        optimizer.step()\n",
    "    model.eval()\n",
    "    size = len(test_loader.dataset)\n",
    "    test_loss, correct = 0,0\n",
    "    with torch.no_grad():\n",
    "        for x,y in test_loader:\n",
    "            x = x.float()\n",
    "            pred = model(x)\n",
    "            test_loss += criterion(pred,y).item()\n",
    "            correct += (pred.argmax(1) ==y).type(torch.float).sum().item()\n",
    "    test_loss /= size\n",
    "    correct /= size\n",
    "    if correct>errrate:\n",
    "        errrate = correct\n",
    "        torch.save(model.state_dict(),'itemUser2.pth')\n",
    "    print(f'Test Error: \\n Accuracy: {(100*correct):>0.1f}%, Avg loss:{test_loss:>8f} \\n')"
   ]
  },
  {
   "cell_type": "code",
   "execution_count": 76,
   "metadata": {},
   "outputs": [
    {
     "name": "stdout",
     "output_type": "stream",
     "text": [
      "0.29605263157894735\n"
     ]
    }
   ],
   "source": [
    "print(errrate)"
   ]
  },
  {
   "cell_type": "code",
   "execution_count": 78,
   "metadata": {},
   "outputs": [
    {
     "data": {
      "text/plain": [
       "<All keys matched successfully>"
      ]
     },
     "execution_count": 78,
     "metadata": {},
     "output_type": "execute_result"
    }
   ],
   "source": [
    "model.load_state_dict(torch.load('itemUser2.pth'))"
   ]
  },
  {
   "cell_type": "code",
   "execution_count": 25,
   "metadata": {},
   "outputs": [],
   "source": [
    "torch.save(model.state_dict(),'itemUser.pth')"
   ]
  },
  {
   "cell_type": "code",
   "execution_count": 79,
   "metadata": {},
   "outputs": [],
   "source": [
    "model.eval()\n",
    "with torch.no_grad():\n",
    "    x_test = x_test.float()\n",
    "    predO = model(x_test)\n",
    "    pred = np.argmax(predO.cpu().numpy(),axis=1)\n",
    "realpred = [ytestreal[i,j] for i,j in enumerate(pred)]"
   ]
  },
  {
   "cell_type": "code",
   "execution_count": 27,
   "metadata": {},
   "outputs": [],
   "source": [
    "sampleSubmit = pd.read_csv('./submit_example.csv')"
   ]
  },
  {
   "cell_type": "code",
   "execution_count": 80,
   "metadata": {},
   "outputs": [],
   "source": [
    "realpredict = pd.DataFrame({'user_id':sampleSubmit['user_id'],'product_id':np.array(realpred).reshape(-1)})"
   ]
  },
  {
   "cell_type": "code",
   "execution_count": 81,
   "metadata": {},
   "outputs": [],
   "source": [
    "realpredict.to_csv('itemuserOF2.csv',index=False)"
   ]
  },
  {
   "cell_type": "code",
   "execution_count": null,
   "metadata": {},
   "outputs": [],
   "source": []
  }
 ],
 "metadata": {
  "kernelspec": {
   "display_name": "Python 3",
   "language": "python",
   "name": "python3"
  },
  "language_info": {
   "codemirror_mode": {
    "name": "ipython",
    "version": 3
   },
   "file_extension": ".py",
   "mimetype": "text/x-python",
   "name": "python",
   "nbconvert_exporter": "python",
   "pygments_lexer": "ipython3",
   "version": "3.8.7rc1"
  }
 },
 "nbformat": 4,
 "nbformat_minor": 4
}
