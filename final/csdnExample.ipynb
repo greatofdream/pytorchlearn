{
 "cells": [
  {
   "cell_type": "code",
   "execution_count": 7,
   "metadata": {},
   "outputs": [],
   "source": [
    "import pandas as pd\n",
    "import xgboost as xgb\n",
    "import numpy as np\n",
    "from sklearn.preprocessing import LabelEncoder"
   ]
  },
  {
   "cell_type": "code",
   "execution_count": 2,
   "metadata": {},
   "outputs": [],
   "source": [
    "trainDf = pd.read_csv('./train.csv')\n",
    "test = pd.read_csv('./test.csv')\n",
    "submit = pd.read_csv('./submit_example.csv')"
   ]
  },
  {
   "cell_type": "code",
   "execution_count": 3,
   "metadata": {},
   "outputs": [
    {
     "data": {
      "text/html": [
       "<div>\n",
       "<style scoped>\n",
       "    .dataframe tbody tr th:only-of-type {\n",
       "        vertical-align: middle;\n",
       "    }\n",
       "\n",
       "    .dataframe tbody tr th {\n",
       "        vertical-align: top;\n",
       "    }\n",
       "\n",
       "    .dataframe thead th {\n",
       "        text-align: right;\n",
       "    }\n",
       "</style>\n",
       "<table border=\"1\" class=\"dataframe\">\n",
       "  <thead>\n",
       "    <tr style=\"text-align: right;\">\n",
       "      <th></th>\n",
       "      <th>event_time</th>\n",
       "      <th>event_type</th>\n",
       "      <th>product_id</th>\n",
       "      <th>category_id</th>\n",
       "      <th>category_code</th>\n",
       "      <th>brand</th>\n",
       "      <th>price</th>\n",
       "      <th>user_id</th>\n",
       "      <th>user_session</th>\n",
       "    </tr>\n",
       "  </thead>\n",
       "  <tbody>\n",
       "    <tr>\n",
       "      <th>0</th>\n",
       "      <td>2019-10-01 00:00:00 UTC</td>\n",
       "      <td>cart</td>\n",
       "      <td>5773203</td>\n",
       "      <td>1.490000e+18</td>\n",
       "      <td>NaN</td>\n",
       "      <td>runail</td>\n",
       "      <td>2.62</td>\n",
       "      <td>1</td>\n",
       "      <td>26dd6e6e-4dac-4778-8d2c-92e149dab885</td>\n",
       "    </tr>\n",
       "    <tr>\n",
       "      <th>1</th>\n",
       "      <td>2019-10-01 00:00:03 UTC</td>\n",
       "      <td>cart</td>\n",
       "      <td>5773353</td>\n",
       "      <td>1.490000e+18</td>\n",
       "      <td>NaN</td>\n",
       "      <td>runail</td>\n",
       "      <td>2.62</td>\n",
       "      <td>1</td>\n",
       "      <td>26dd6e6e-4dac-4778-8d2c-92e149dab885</td>\n",
       "    </tr>\n",
       "    <tr>\n",
       "      <th>2</th>\n",
       "      <td>2019-10-01 00:00:07 UTC</td>\n",
       "      <td>cart</td>\n",
       "      <td>5723490</td>\n",
       "      <td>1.490000e+18</td>\n",
       "      <td>NaN</td>\n",
       "      <td>runail</td>\n",
       "      <td>2.62</td>\n",
       "      <td>1</td>\n",
       "      <td>26dd6e6e-4dac-4778-8d2c-92e149dab885</td>\n",
       "    </tr>\n",
       "    <tr>\n",
       "      <th>3</th>\n",
       "      <td>2019-10-01 00:02:32 UTC</td>\n",
       "      <td>cart</td>\n",
       "      <td>5857283</td>\n",
       "      <td>1.490000e+18</td>\n",
       "      <td>NaN</td>\n",
       "      <td>runail</td>\n",
       "      <td>2.62</td>\n",
       "      <td>1</td>\n",
       "      <td>26dd6e6e-4dac-4778-8d2c-92e149dab885</td>\n",
       "    </tr>\n",
       "    <tr>\n",
       "      <th>4</th>\n",
       "      <td>2019-10-01 00:02:40 UTC</td>\n",
       "      <td>cart</td>\n",
       "      <td>5723523</td>\n",
       "      <td>1.490000e+18</td>\n",
       "      <td>NaN</td>\n",
       "      <td>runail</td>\n",
       "      <td>2.62</td>\n",
       "      <td>1</td>\n",
       "      <td>26dd6e6e-4dac-4778-8d2c-92e149dab885</td>\n",
       "    </tr>\n",
       "  </tbody>\n",
       "</table>\n",
       "</div>"
      ],
      "text/plain": [
       "                event_time event_type  product_id   category_id category_code  \\\n",
       "0  2019-10-01 00:00:00 UTC       cart     5773203  1.490000e+18           NaN   \n",
       "1  2019-10-01 00:00:03 UTC       cart     5773353  1.490000e+18           NaN   \n",
       "2  2019-10-01 00:00:07 UTC       cart     5723490  1.490000e+18           NaN   \n",
       "3  2019-10-01 00:02:32 UTC       cart     5857283  1.490000e+18           NaN   \n",
       "4  2019-10-01 00:02:40 UTC       cart     5723523  1.490000e+18           NaN   \n",
       "\n",
       "    brand  price  user_id                          user_session  \n",
       "0  runail   2.62        1  26dd6e6e-4dac-4778-8d2c-92e149dab885  \n",
       "1  runail   2.62        1  26dd6e6e-4dac-4778-8d2c-92e149dab885  \n",
       "2  runail   2.62        1  26dd6e6e-4dac-4778-8d2c-92e149dab885  \n",
       "3  runail   2.62        1  26dd6e6e-4dac-4778-8d2c-92e149dab885  \n",
       "4  runail   2.62        1  26dd6e6e-4dac-4778-8d2c-92e149dab885  "
      ]
     },
     "execution_count": 3,
     "metadata": {},
     "output_type": "execute_result"
    }
   ],
   "source": [
    "trainDf.head()"
   ]
  },
  {
   "cell_type": "code",
   "execution_count": 44,
   "metadata": {},
   "outputs": [
    {
     "name": "stdout",
     "output_type": "stream",
     "text": [
      "(array([5723491, 5723518, 5773173, 5773216, 5773351, 5773379, 5814828,\n",
      "       5814869, 5823288, 5857269, 5857343]), array([1, 2, 3, 1, 3, 1, 1, 4, 1, 2, 1]))\n"
     ]
    }
   ],
   "source": [
    "def check(df,user_id=1):\n",
    "    gr = df.groupby('user_id')\n",
    "    for i,ur in gr:\n",
    "        if i!=user_id:\n",
    "            continue\n",
    "        #print(ur[['event_time','event_type','product_id','category_id','price','user_id']])\n",
    "        print(np.unique(ur[['product_id']],return_counts=True))\n",
    "        break\n",
    "check(trainDf,3)\n",
    "check(test,3)"
   ]
  },
  {
   "cell_type": "code",
   "execution_count": 48,
   "metadata": {},
   "outputs": [
    {
     "data": {
      "text/plain": [
       "(32734,)"
      ]
     },
     "execution_count": 48,
     "metadata": {},
     "output_type": "execute_result"
    }
   ],
   "source": [
    "np.unique(trainDf['product_id'].to_numpy()).shape"
   ]
  },
  {
   "cell_type": "code",
   "execution_count": 49,
   "metadata": {},
   "outputs": [
    {
     "data": {
      "text/plain": [
       "count    4.169620e+05\n",
       "mean     5.498023e+06\n",
       "std      1.268676e+06\n",
       "min      3.752000e+03\n",
       "25%      5.729011e+06\n",
       "50%      5.809809e+06\n",
       "75%      5.850305e+06\n",
       "max      5.892800e+06\n",
       "Name: product_id, dtype: float64"
      ]
     },
     "execution_count": 49,
     "metadata": {},
     "output_type": "execute_result"
    }
   ],
   "source": [
    "trainDf['product_id'].describe()"
   ]
  },
  {
   "cell_type": "code",
   "execution_count": 46,
   "metadata": {},
   "outputs": [
    {
     "data": {
      "text/plain": [
       "count    5.164000e+03\n",
       "mean     5.452999e+06\n",
       "std      1.342040e+06\n",
       "min      3.762000e+03\n",
       "25%      5.711138e+06\n",
       "50%      5.799410e+06\n",
       "75%      5.848896e+06\n",
       "max      5.892678e+06\n",
       "Name: product_id, dtype: float64"
      ]
     },
     "execution_count": 46,
     "metadata": {},
     "output_type": "execute_result"
    }
   ],
   "source": [
    "test['product_id'].describe()"
   ]
  },
  {
   "cell_type": "code",
   "execution_count": 50,
   "metadata": {},
   "outputs": [
    {
     "data": {
      "text/plain": [
       "(2691,)"
      ]
     },
     "execution_count": 50,
     "metadata": {},
     "output_type": "execute_result"
    }
   ],
   "source": [
    "np.unique(test['product_id'].to_numpy()).shape"
   ]
  },
  {
   "cell_type": "code",
   "execution_count": 51,
   "metadata": {},
   "outputs": [
    {
     "data": {
      "text/plain": [
       "False"
      ]
     },
     "execution_count": 51,
     "metadata": {},
     "output_type": "execute_result"
    }
   ],
   "source": [
    "b=set(test['product_id'].to_numpy())\n",
    "b.issubset(trainDf['product_id'].to_numpy())"
   ]
  },
  {
   "cell_type": "code",
   "execution_count": 53,
   "metadata": {},
   "outputs": [
    {
     "name": "stdout",
     "output_type": "stream",
     "text": [
      "5813942\n",
      "5873068\n",
      "5837436\n",
      "5763624\n",
      "5815681\n",
      "5815681\n",
      "5815681\n",
      "5845219\n",
      "5854967\n",
      "5845220\n",
      "5845220\n",
      "5845219\n",
      "5845219\n",
      "5837803\n",
      "5837803\n",
      "5847229\n",
      "5847229\n",
      "5873063\n",
      "5868869\n",
      "5674716\n",
      "5829781\n",
      "5822733\n",
      "5877549\n",
      "5878911\n",
      "5805908\n",
      "5540773\n",
      "5766066\n",
      "5765739\n",
      "5859333\n",
      "5800947\n",
      "5816633\n",
      "5671067\n",
      "5822497\n",
      "5885135\n",
      "5885135\n",
      "5885133\n",
      "5885133\n",
      "5691629\n",
      "5889160\n",
      "5835137\n",
      "5857894\n",
      "5857894\n",
      "5857895\n",
      "5736285\n",
      "5821166\n",
      "5770528\n",
      "5770528\n",
      "5854118\n",
      "5711027\n",
      "5798780\n",
      "5838089\n"
     ]
    },
    {
     "ename": "KeyboardInterrupt",
     "evalue": "",
     "output_type": "error",
     "traceback": [
      "\u001b[0;31m---------------------------------------------------------------------------\u001b[0m",
      "\u001b[0;31mKeyboardInterrupt\u001b[0m                         Traceback (most recent call last)",
      "\u001b[0;32m<ipython-input-53-562d50765490>\u001b[0m in \u001b[0;36m<module>\u001b[0;34m\u001b[0m\n\u001b[1;32m      1\u001b[0m \u001b[0;32mfor\u001b[0m \u001b[0mi\u001b[0m \u001b[0;32min\u001b[0m \u001b[0mtest\u001b[0m\u001b[0;34m[\u001b[0m\u001b[0;34m'product_id'\u001b[0m\u001b[0;34m]\u001b[0m\u001b[0;34m.\u001b[0m\u001b[0mto_numpy\u001b[0m\u001b[0;34m(\u001b[0m\u001b[0;34m)\u001b[0m\u001b[0;34m:\u001b[0m\u001b[0;34m\u001b[0m\u001b[0;34m\u001b[0m\u001b[0m\n\u001b[0;32m----> 2\u001b[0;31m     \u001b[0;32mif\u001b[0m \u001b[0;32mnot\u001b[0m \u001b[0mnp\u001b[0m\u001b[0;34m.\u001b[0m\u001b[0misin\u001b[0m\u001b[0;34m(\u001b[0m\u001b[0mi\u001b[0m\u001b[0;34m,\u001b[0m\u001b[0mtrainDf\u001b[0m\u001b[0;34m[\u001b[0m\u001b[0;34m'product_id'\u001b[0m\u001b[0;34m]\u001b[0m\u001b[0;34m)\u001b[0m\u001b[0;34m:\u001b[0m\u001b[0;34m\u001b[0m\u001b[0;34m\u001b[0m\u001b[0m\n\u001b[0m\u001b[1;32m      3\u001b[0m         \u001b[0mprint\u001b[0m\u001b[0;34m(\u001b[0m\u001b[0mi\u001b[0m\u001b[0;34m)\u001b[0m\u001b[0;34m\u001b[0m\u001b[0;34m\u001b[0m\u001b[0m\n",
      "\u001b[0;32m<__array_function__ internals>\u001b[0m in \u001b[0;36misin\u001b[0;34m(*args, **kwargs)\u001b[0m\n",
      "\u001b[0;32m/opt/gentoo/usr/lib/python3.8/site-packages/numpy/lib/arraysetops.py\u001b[0m in \u001b[0;36misin\u001b[0;34m(element, test_elements, assume_unique, invert)\u001b[0m\n\u001b[1;32m    708\u001b[0m     \"\"\"\n\u001b[1;32m    709\u001b[0m     \u001b[0melement\u001b[0m \u001b[0;34m=\u001b[0m \u001b[0mnp\u001b[0m\u001b[0;34m.\u001b[0m\u001b[0masarray\u001b[0m\u001b[0;34m(\u001b[0m\u001b[0melement\u001b[0m\u001b[0;34m)\u001b[0m\u001b[0;34m\u001b[0m\u001b[0;34m\u001b[0m\u001b[0m\n\u001b[0;32m--> 710\u001b[0;31m     return in1d(element, test_elements, assume_unique=assume_unique,\n\u001b[0m\u001b[1;32m    711\u001b[0m                 invert=invert).reshape(element.shape)\n\u001b[1;32m    712\u001b[0m \u001b[0;34m\u001b[0m\u001b[0m\n",
      "\u001b[0;32m<__array_function__ internals>\u001b[0m in \u001b[0;36min1d\u001b[0;34m(*args, **kwargs)\u001b[0m\n",
      "\u001b[0;32m/opt/gentoo/usr/lib/python3.8/site-packages/numpy/lib/arraysetops.py\u001b[0m in \u001b[0;36min1d\u001b[0;34m(ar1, ar2, assume_unique, invert)\u001b[0m\n\u001b[1;32m    587\u001b[0m     \u001b[0;32mif\u001b[0m \u001b[0;32mnot\u001b[0m \u001b[0massume_unique\u001b[0m\u001b[0;34m:\u001b[0m\u001b[0;34m\u001b[0m\u001b[0;34m\u001b[0m\u001b[0m\n\u001b[1;32m    588\u001b[0m         \u001b[0mar1\u001b[0m\u001b[0;34m,\u001b[0m \u001b[0mrev_idx\u001b[0m \u001b[0;34m=\u001b[0m \u001b[0mnp\u001b[0m\u001b[0;34m.\u001b[0m\u001b[0munique\u001b[0m\u001b[0;34m(\u001b[0m\u001b[0mar1\u001b[0m\u001b[0;34m,\u001b[0m \u001b[0mreturn_inverse\u001b[0m\u001b[0;34m=\u001b[0m\u001b[0;32mTrue\u001b[0m\u001b[0;34m)\u001b[0m\u001b[0;34m\u001b[0m\u001b[0;34m\u001b[0m\u001b[0m\n\u001b[0;32m--> 589\u001b[0;31m         \u001b[0mar2\u001b[0m \u001b[0;34m=\u001b[0m \u001b[0mnp\u001b[0m\u001b[0;34m.\u001b[0m\u001b[0munique\u001b[0m\u001b[0;34m(\u001b[0m\u001b[0mar2\u001b[0m\u001b[0;34m)\u001b[0m\u001b[0;34m\u001b[0m\u001b[0;34m\u001b[0m\u001b[0m\n\u001b[0m\u001b[1;32m    590\u001b[0m \u001b[0;34m\u001b[0m\u001b[0m\n\u001b[1;32m    591\u001b[0m     \u001b[0mar\u001b[0m \u001b[0;34m=\u001b[0m \u001b[0mnp\u001b[0m\u001b[0;34m.\u001b[0m\u001b[0mconcatenate\u001b[0m\u001b[0;34m(\u001b[0m\u001b[0;34m(\u001b[0m\u001b[0mar1\u001b[0m\u001b[0;34m,\u001b[0m \u001b[0mar2\u001b[0m\u001b[0;34m)\u001b[0m\u001b[0;34m)\u001b[0m\u001b[0;34m\u001b[0m\u001b[0;34m\u001b[0m\u001b[0m\n",
      "\u001b[0;32m<__array_function__ internals>\u001b[0m in \u001b[0;36munique\u001b[0;34m(*args, **kwargs)\u001b[0m\n",
      "\u001b[0;32m/opt/gentoo/usr/lib/python3.8/site-packages/numpy/lib/arraysetops.py\u001b[0m in \u001b[0;36munique\u001b[0;34m(ar, return_index, return_inverse, return_counts, axis)\u001b[0m\n\u001b[1;32m    260\u001b[0m     \u001b[0mar\u001b[0m \u001b[0;34m=\u001b[0m \u001b[0mnp\u001b[0m\u001b[0;34m.\u001b[0m\u001b[0masanyarray\u001b[0m\u001b[0;34m(\u001b[0m\u001b[0mar\u001b[0m\u001b[0;34m)\u001b[0m\u001b[0;34m\u001b[0m\u001b[0;34m\u001b[0m\u001b[0m\n\u001b[1;32m    261\u001b[0m     \u001b[0;32mif\u001b[0m \u001b[0maxis\u001b[0m \u001b[0;32mis\u001b[0m \u001b[0;32mNone\u001b[0m\u001b[0;34m:\u001b[0m\u001b[0;34m\u001b[0m\u001b[0;34m\u001b[0m\u001b[0m\n\u001b[0;32m--> 262\u001b[0;31m         \u001b[0mret\u001b[0m \u001b[0;34m=\u001b[0m \u001b[0m_unique1d\u001b[0m\u001b[0;34m(\u001b[0m\u001b[0mar\u001b[0m\u001b[0;34m,\u001b[0m \u001b[0mreturn_index\u001b[0m\u001b[0;34m,\u001b[0m \u001b[0mreturn_inverse\u001b[0m\u001b[0;34m,\u001b[0m \u001b[0mreturn_counts\u001b[0m\u001b[0;34m)\u001b[0m\u001b[0;34m\u001b[0m\u001b[0;34m\u001b[0m\u001b[0m\n\u001b[0m\u001b[1;32m    263\u001b[0m         \u001b[0;32mreturn\u001b[0m \u001b[0m_unpack_tuple\u001b[0m\u001b[0;34m(\u001b[0m\u001b[0mret\u001b[0m\u001b[0;34m)\u001b[0m\u001b[0;34m\u001b[0m\u001b[0;34m\u001b[0m\u001b[0m\n\u001b[1;32m    264\u001b[0m \u001b[0;34m\u001b[0m\u001b[0m\n",
      "\u001b[0;32m/opt/gentoo/usr/lib/python3.8/site-packages/numpy/lib/arraysetops.py\u001b[0m in \u001b[0;36m_unique1d\u001b[0;34m(ar, return_index, return_inverse, return_counts)\u001b[0m\n\u001b[1;32m    321\u001b[0m         \u001b[0maux\u001b[0m \u001b[0;34m=\u001b[0m \u001b[0mar\u001b[0m\u001b[0;34m[\u001b[0m\u001b[0mperm\u001b[0m\u001b[0;34m]\u001b[0m\u001b[0;34m\u001b[0m\u001b[0;34m\u001b[0m\u001b[0m\n\u001b[1;32m    322\u001b[0m     \u001b[0;32melse\u001b[0m\u001b[0;34m:\u001b[0m\u001b[0;34m\u001b[0m\u001b[0;34m\u001b[0m\u001b[0m\n\u001b[0;32m--> 323\u001b[0;31m         \u001b[0mar\u001b[0m\u001b[0;34m.\u001b[0m\u001b[0msort\u001b[0m\u001b[0;34m(\u001b[0m\u001b[0;34m)\u001b[0m\u001b[0;34m\u001b[0m\u001b[0;34m\u001b[0m\u001b[0m\n\u001b[0m\u001b[1;32m    324\u001b[0m         \u001b[0maux\u001b[0m \u001b[0;34m=\u001b[0m \u001b[0mar\u001b[0m\u001b[0;34m\u001b[0m\u001b[0;34m\u001b[0m\u001b[0m\n\u001b[1;32m    325\u001b[0m     \u001b[0mmask\u001b[0m \u001b[0;34m=\u001b[0m \u001b[0mnp\u001b[0m\u001b[0;34m.\u001b[0m\u001b[0mempty\u001b[0m\u001b[0;34m(\u001b[0m\u001b[0maux\u001b[0m\u001b[0;34m.\u001b[0m\u001b[0mshape\u001b[0m\u001b[0;34m,\u001b[0m \u001b[0mdtype\u001b[0m\u001b[0;34m=\u001b[0m\u001b[0mnp\u001b[0m\u001b[0;34m.\u001b[0m\u001b[0mbool_\u001b[0m\u001b[0;34m)\u001b[0m\u001b[0;34m\u001b[0m\u001b[0;34m\u001b[0m\u001b[0m\n",
      "\u001b[0;31mKeyboardInterrupt\u001b[0m: "
     ]
    }
   ],
   "source": [
    "for i in test['product_id'].to_numpy():\n",
    "    if not np.isin(i,trainDf['product_id']):\n",
    "        print(i)"
   ]
  },
  {
   "cell_type": "code",
   "execution_count": 35,
   "metadata": {},
   "outputs": [
    {
     "name": "stdout",
     "output_type": "stream",
     "text": [
      "(1, 5385)\n",
      "                 event_time event_type   category_id  price  user_id\n",
      "26  2019-10-01 00:12:50 UTC   purchase  1.490000e+18   3.89        1\n",
      "(1, 5659639)\n",
      "                event_time event_type   category_id  price  user_id\n",
      "8  2019-10-01 00:12:50 UTC   purchase  1.490000e+18   0.95        1\n",
      "(1, 5659825)\n",
      "                event_time        event_type   category_id  price  user_id\n",
      "6  2019-10-01 00:05:27 UTC              cart  1.490000e+18   0.95        1\n",
      "7  2019-10-01 00:08:08 UTC  remove_from_cart  1.490000e+18   0.95        1\n",
      "(1, 5688124)\n",
      "                 event_time event_type   category_id  price  user_id\n",
      "25  2019-10-01 00:12:50 UTC   purchase  1.490000e+18   0.32        1\n",
      "(1, 5700046)\n",
      "                 event_time event_type   category_id  price  user_id\n",
      "24  2019-10-01 00:12:50 UTC   purchase  1.490000e+18    0.4        1\n",
      "(1, 5723490)\n",
      "                 event_time event_type   category_id  price  user_id\n",
      "2   2019-10-01 00:00:07 UTC       cart  1.490000e+18   2.62        1\n",
      "23  2019-10-01 00:12:50 UTC   purchase  1.490000e+18   2.62        1\n",
      "(1, 5723523)\n",
      "                 event_time event_type   category_id  price  user_id\n",
      "4   2019-10-01 00:02:40 UTC       cart  1.490000e+18   2.62        1\n",
      "22  2019-10-01 00:12:50 UTC   purchase  1.490000e+18   2.62        1\n",
      "(1, 5723529)\n",
      "                 event_time event_type   category_id  price  user_id\n",
      "21  2019-10-01 00:12:50 UTC   purchase  1.490000e+18   2.94        1\n",
      "(1, 5739989)\n",
      "                 event_time event_type   category_id  price  user_id\n",
      "20  2019-10-01 00:12:50 UTC   purchase  1.490000e+18   3.49        1\n",
      "(1, 5770041)\n",
      "                 event_time event_type   category_id  price  user_id\n",
      "19  2019-10-01 00:12:50 UTC   purchase  1.490000e+18   2.81        1\n",
      "(1, 5770051)\n",
      "                 event_time event_type   category_id  price  user_id\n",
      "18  2019-10-01 00:12:50 UTC   purchase  1.490000e+18   2.81        1\n",
      "(1, 5773201)\n",
      "                 event_time event_type   category_id  price  user_id\n",
      "17  2019-10-01 00:12:50 UTC   purchase  1.490000e+18   2.62        1\n",
      "(1, 5773203)\n",
      "                 event_time event_type   category_id  price  user_id\n",
      "0   2019-10-01 00:00:00 UTC       cart  1.490000e+18   2.62        1\n",
      "16  2019-10-01 00:12:50 UTC   purchase  1.490000e+18   2.62        1\n",
      "(1, 5773313)\n",
      "                 event_time event_type   category_id  price  user_id\n",
      "5   2019-10-01 00:03:23 UTC       cart  1.490000e+18   2.62        1\n",
      "15  2019-10-01 00:12:50 UTC   purchase  1.490000e+18   2.62        1\n",
      "(1, 5773353)\n",
      "                 event_time event_type   category_id  price  user_id\n",
      "1   2019-10-01 00:00:03 UTC       cart  1.490000e+18   2.62        1\n",
      "14  2019-10-01 00:12:50 UTC   purchase  1.490000e+18   2.62        1\n",
      "(1, 5784983)\n",
      "                 event_time event_type   category_id  price  user_id\n",
      "13  2019-10-01 00:12:50 UTC   purchase  2.200000e+18   1.24        1\n",
      "(1, 5802428)\n",
      "                 event_time event_type   category_id  price  user_id\n",
      "12  2019-10-01 00:12:50 UTC   purchase  1.490000e+18   0.44        1\n",
      "(1, 5834462)\n",
      "                 event_time event_type   category_id  price  user_id\n",
      "11  2019-10-01 00:12:50 UTC   purchase  1.490000e+18   0.79        1\n",
      "(1, 5853646)\n",
      "                 event_time event_type   category_id  price  user_id\n",
      "10  2019-10-01 00:12:50 UTC   purchase  1.490000e+18   0.79        1\n",
      "(1, 5857283)\n",
      "                event_time event_type   category_id  price  user_id\n",
      "3  2019-10-01 00:02:32 UTC       cart  1.490000e+18   2.62        1\n",
      "9  2019-10-01 00:12:50 UTC   purchase  1.490000e+18   2.62        1\n",
      "(2, 60183)\n",
      "                 event_time        event_type   category_id  price  user_id\n",
      "57  2019-10-01 00:01:45 UTC  remove_from_cart  1.490000e+18   1.98        2\n",
      "58  2019-10-01 00:01:45 UTC  remove_from_cart  1.490000e+18   1.98        2\n"
     ]
    }
   ],
   "source": [
    "gr = trainDf.groupby(['user_id','product_id'])\n",
    "for i,ur in gr:\n",
    "    print(i)\n",
    "    print(ur[['event_time','event_type','category_id','price','user_id']])\n",
    "    if i[0]>1:\n",
    "        break"
   ]
  },
  {
   "cell_type": "code",
   "execution_count": 57,
   "metadata": {},
   "outputs": [
    {
     "data": {
      "text/plain": [
       "user_id  product_id\n",
       "1        5385          1\n",
       "         5659639       1\n",
       "         5659825       2\n",
       "         5688124       1\n",
       "         5700046       1\n",
       "                      ..\n",
       "53972    5807884       2\n",
       "         5877795       1\n",
       "53973    5689159       1\n",
       "53974    5809856       1\n",
       "53975    5877385       1\n",
       "Length: 213548, dtype: int64"
      ]
     },
     "execution_count": 57,
     "metadata": {},
     "output_type": "execute_result"
    }
   ],
   "source": [
    "gr.size()"
   ]
  },
  {
   "cell_type": "code",
   "execution_count": 23,
   "metadata": {},
   "outputs": [
    {
     "name": "stdout",
     "output_type": "stream",
     "text": [
      "(416962, 9)\n"
     ]
    },
    {
     "data": {
      "text/plain": [
       "array(['accessories.bag', 'accessories.cosmetic_bag', 'apparel.glove',\n",
       "       'appliances.environment.air_conditioner',\n",
       "       'appliances.environment.vacuum', 'appliances.personal.hair_cutter',\n",
       "       'furniture.bathroom.bath', 'furniture.living_room.cabinet',\n",
       "       'furniture.living_room.chair', 'stationery.cartrige'], dtype=object)"
      ]
     },
     "execution_count": 23,
     "metadata": {},
     "output_type": "execute_result"
    }
   ],
   "source": [
    "print(trainDf.shape)\n",
    "np.unique(trainDf['category_code'][trainDf['category_code'].notna()])"
   ]
  },
  {
   "cell_type": "code",
   "execution_count": 29,
   "metadata": {},
   "outputs": [
    {
     "data": {
      "text/plain": [
       "array([1.49e+18, 1.50e+18, 1.51e+18, 1.52e+18, 1.53e+18, 1.54e+18,\n",
       "       1.55e+18, 1.56e+18, 1.58e+18, 1.59e+18, 1.60e+18, 1.61e+18,\n",
       "       1.63e+18, 1.64e+18, 1.65e+18, 1.66e+18, 1.72e+18, 1.73e+18,\n",
       "       1.75e+18, 1.76e+18, 1.78e+18, 1.79e+18, 1.80e+18, 1.81e+18,\n",
       "       1.82e+18, 1.84e+18, 1.86e+18, 1.87e+18, 1.89e+18, 1.90e+18,\n",
       "       1.91e+18, 1.92e+18, 1.93e+18, 1.94e+18, 1.96e+18, 1.98e+18,\n",
       "       1.99e+18, 2.00e+18, 2.01e+18, 2.02e+18, 2.03e+18, 2.04e+18,\n",
       "       2.06e+18, 2.07e+18, 2.08e+18, 2.09e+18, 2.10e+18, 2.11e+18,\n",
       "       2.12e+18, 2.13e+18, 2.14e+18, 2.15e+18, 2.16e+18, 2.19e+18,\n",
       "       2.20e+18])"
      ]
     },
     "execution_count": 29,
     "metadata": {},
     "output_type": "execute_result"
    }
   ],
   "source": [
    "np.unique(trainDf['category_id'][trainDf['category_id'].notna()])"
   ]
  },
  {
   "cell_type": "code",
   "execution_count": 31,
   "metadata": {},
   "outputs": [
    {
     "data": {
      "text/plain": [
       "array(['cart', 'purchase', 'remove_from_cart', 'view'], dtype=object)"
      ]
     },
     "execution_count": 31,
     "metadata": {},
     "output_type": "execute_result"
    }
   ],
   "source": [
    "np.unique(trainDf['event_type'][trainDf['event_type'].notna()])"
   ]
  },
  {
   "cell_type": "code",
   "execution_count": 24,
   "metadata": {},
   "outputs": [
    {
     "data": {
      "text/plain": [
       "array(['airnails', 'almea', 'andrea', 'ardell', 'art-visage', 'artex',\n",
       "       'australis', 'balbcare', 'barbie', 'batiste', 'beautix',\n",
       "       'beauty-free', 'beautyblender', 'beauugreen', 'benovy', 'bergamo',\n",
       "       'bespecial', 'binacil', 'bioaqua', 'biofollica', 'biore', 'blise',\n",
       "       'blixz', 'bluesky', 'bodipure', 'bodyton', 'bosnic', 'bpw.style',\n",
       "       'browxenna', 'busch', 'candy', 'carmex', 'chi', 'cnd', 'coifin',\n",
       "       'concept', 'consly', 'coocla', 'cosima', 'cosmoprofi', 'coxir',\n",
       "       'cruset', 'cuccio', 'cutrin', 'de.lux', 'deoproce', 'depilflax',\n",
       "       'dermacol', 'dermal', 'dizao', 'domix', 'dorena', 'dr.gloderm',\n",
       "       'egomania', 'elizavecca', 'ellips', 'elskin', 'embryolisse',\n",
       "       'emil', 'enas', 'enigma', 'enjoy', 'entity', 'eos', 'estel',\n",
       "       'estelare', 'eunyul', 'f.o.x', 'fancy', 'farmavita', 'farmona',\n",
       "       'farmstay', 'fedua', 'finish', 'fly', 'foamie', 'freedecor',\n",
       "       'freshbubble', 'frozen', 'gehwol', 'glysolid', 'godefroy', 'grace',\n",
       "       'grattol', 'happyfons', 'haruyama', 'helloganic', 'i-laq',\n",
       "       'igrobeauty', 'ingarden', 'inm', 'inoface', 'insight', 'irisk',\n",
       "       'italwax', 'jaguar', 'jas', 'jessnail', 'joico', 'juno', 'kaaral',\n",
       "       'kamill', 'kapous', 'kares', 'kaypro', 'keen', 'kerasys', 'keune',\n",
       "       'kims', 'kinetics', 'kiss', 'kocostar', 'koelcia', 'koelf',\n",
       "       'konad', 'koreatida', 'kosmekka', 'labay', 'laboratorium', 'lador',\n",
       "       'ladykin', 'lakme', 'lamixx', 'latinoil', 'lebelage', 'levissime',\n",
       "       'levrana', 'lianail', 'likato', 'limoni', 'litaline', 'lovely',\n",
       "       'lowence', 'lsanic', 'lunaris', 'macadamia', 'mane', 'marathon',\n",
       "       'markell', 'marutaka-foot', 'masura', 'matrix', 'mavala', 'max',\n",
       "       'meisterwerk', 'metzger', 'mielle', 'milv', 'miskin', 'missha',\n",
       "       'moyou', 'nagaraku', 'naturmed', 'nefertiti', 'neoleor', 'nirvel',\n",
       "       'nitrile', 'nitrimax', 'oniq', 'opi', 'orly', 'osmo', 'ovale',\n",
       "       'parachute', 'petitfee', 'philips', 'plazan', 'pnb', 'polarus',\n",
       "       'pole', 'profepil', 'profhenna', 'protokeratin', 'provoc',\n",
       "       'radius', 'rasyan', 'refectocil', 'riche', 'rocknailstar', 'rosi',\n",
       "       'roubloff', 'runail', 's.care', 'sanoto', 'sawa', 'severina',\n",
       "       'shary', 'shik', 'siberina', 'skinity', 'skinlite', 'skipofit',\n",
       "       'smart', 'soleo', 'solomeya', 'sophin', 'staleks', 'strong', 'sun',\n",
       "       'sunuv', 'supertan', 'swarovski', 'tannymaxx', 'tazol', 'tertio',\n",
       "       'thuya', 'tosowoong', 'treaclemoon', 'trind', 'uno', 'uskusi',\n",
       "       'veraclara', 'vilenta', 'voesh', 'vosev', 'weaver', 'yoko',\n",
       "       'ypsed', 'yu-r', 'zab', 'zeitun', 'zinger'], dtype=object)"
      ]
     },
     "execution_count": 24,
     "metadata": {},
     "output_type": "execute_result"
    }
   ],
   "source": [
    "np.unique(trainDf['brand'][trainDf['brand'].notna()])"
   ]
  },
  {
   "cell_type": "code",
   "execution_count": 19,
   "metadata": {},
   "outputs": [
    {
     "name": "stdout",
     "output_type": "stream",
     "text": [
      "event_time: 416962/416962 1.00000\n",
      "event_type: 416962/416962 1.00000\n",
      "product_id: 416962/416962 1.00000\n",
      "category_id: 416962/416962 1.00000\n",
      "category_code: 6164/416962 0.01478\n",
      "brand: 252018/416962 0.60441\n",
      "price: 416962/416962 1.00000\n",
      "user_id: 416962/416962 1.00000\n",
      "user_session: 416924/416962 0.99991\n"
     ]
    }
   ],
   "source": [
    "def nonanRatio(df):\n",
    "    entries = df.shape[0]\n",
    "    for col in list(trainDf.columns):\n",
    "        print('{}: {}/{} {:.5f}'.format(col, df[col][df[col].notna()].shape[0], entries, df[col][df[col].notna()].shape[0]/entries ))\n",
    "nonanRatio(trainDf)"
   ]
  },
  {
   "cell_type": "code",
   "execution_count": 21,
   "metadata": {},
   "outputs": [
    {
     "name": "stdout",
     "output_type": "stream",
     "text": [
      "event_time: 5164/5164 1.00000\n",
      "event_type: 5164/5164 1.00000\n",
      "product_id: 5164/5164 1.00000\n",
      "category_id: 5164/5164 1.00000\n",
      "category_code: 99/5164 0.01917\n",
      "brand: 3088/5164 0.59799\n",
      "price: 5164/5164 1.00000\n",
      "user_id: 5164/5164 1.00000\n",
      "user_session: 5162/5164 0.99961\n"
     ]
    }
   ],
   "source": [
    "nonanRatio(test)"
   ]
  },
  {
   "cell_type": "code",
   "execution_count": 11,
   "metadata": {},
   "outputs": [
    {
     "data": {
      "text/plain": [
       "0         149\n",
       "1         149\n",
       "2         149\n",
       "3         149\n",
       "4         149\n",
       "         ... \n",
       "416957    149\n",
       "416958    149\n",
       "416959    149\n",
       "416960    178\n",
       "416961    190\n",
       "Name: category_id, Length: 416962, dtype: int64"
      ]
     },
     "execution_count": 11,
     "metadata": {},
     "output_type": "execute_result"
    }
   ],
   "source": [
    "(trainDf['category_id']/1e16).astype(int)"
   ]
  },
  {
   "cell_type": "code",
   "execution_count": 23,
   "metadata": {},
   "outputs": [],
   "source": [
    "train=trainDf[['event_time','event_type','product_id','category_id','price','user_id']]"
   ]
  },
  {
   "cell_type": "code",
   "execution_count": 27,
   "metadata": {},
   "outputs": [],
   "source": [
    "train.loc[:,('category_id',)] = (trainDf['category_id']/1e16).astype(int)"
   ]
  },
  {
   "cell_type": "code",
   "execution_count": 41,
   "metadata": {},
   "outputs": [
    {
     "name": "stderr",
     "output_type": "stream",
     "text": [
      "/opt/gentoo/usr/lib/python3.8/site-packages/pandas/core/indexing.py:1676: SettingWithCopyWarning: \n",
      "A value is trying to be set on a copy of a slice from a DataFrame.\n",
      "Try using .loc[row_indexer,col_indexer] = value instead\n",
      "\n",
      "See the caveats in the documentation: https://pandas.pydata.org/pandas-docs/stable/user_guide/indexing.html#returning-a-view-versus-a-copy\n",
      "  self._setitem_single_column(ilocs[0], value, pi)\n"
     ]
    }
   ],
   "source": [
    "#lbe = LabelEncoder()\n",
    "#train.loc[:,('event_type')] = lbe.fit_transform(trainDf['event_type'])\n",
    "train.loc[:,('event_type')] = trainDf['event_type'].apply(lambda x: eventmap[x])"
   ]
  },
  {
   "cell_type": "code",
   "execution_count": 40,
   "metadata": {},
   "outputs": [],
   "source": [
    "event_type = ['cart', 'purchase', 'remove_from_cart', 'view']\n",
    "eventmap = {'cart':5, 'purchase':10, 'remove_from_cart':-5, 'view':1}"
   ]
  },
  {
   "cell_type": "code",
   "execution_count": 42,
   "metadata": {},
   "outputs": [],
   "source": [
    "def selectData(df):\n",
    "    d=df[['event_time','event_type','product_id','category_id','price','user_id']]\n",
    "    d.loc[:,('category_id',)] = (df['category_id']/1e16).astype(int)\n",
    "    d.loc[:,('event_type')] = df['event_type'].apply(lambda x: eventmap[x])\n",
    "    return d\n",
    "test = selectData(test)"
   ]
  },
  {
   "cell_type": "code",
   "execution_count": 43,
   "metadata": {},
   "outputs": [
    {
     "data": {
      "text/html": [
       "<div>\n",
       "<style scoped>\n",
       "    .dataframe tbody tr th:only-of-type {\n",
       "        vertical-align: middle;\n",
       "    }\n",
       "\n",
       "    .dataframe tbody tr th {\n",
       "        vertical-align: top;\n",
       "    }\n",
       "\n",
       "    .dataframe thead th {\n",
       "        text-align: right;\n",
       "    }\n",
       "</style>\n",
       "<table border=\"1\" class=\"dataframe\">\n",
       "  <thead>\n",
       "    <tr style=\"text-align: right;\">\n",
       "      <th></th>\n",
       "      <th>event_time</th>\n",
       "      <th>event_type</th>\n",
       "      <th>product_id</th>\n",
       "      <th>category_id</th>\n",
       "      <th>price</th>\n",
       "      <th>user_id</th>\n",
       "    </tr>\n",
       "  </thead>\n",
       "  <tbody>\n",
       "    <tr>\n",
       "      <th>0</th>\n",
       "      <td>2019-10-03 08:14:04 UTC</td>\n",
       "      <td>1</td>\n",
       "      <td>5651977</td>\n",
       "      <td>149</td>\n",
       "      <td>31.73</td>\n",
       "      <td>53978</td>\n",
       "    </tr>\n",
       "    <tr>\n",
       "      <th>1</th>\n",
       "      <td>2019-10-03 08:14:41 UTC</td>\n",
       "      <td>1</td>\n",
       "      <td>37987</td>\n",
       "      <td>149</td>\n",
       "      <td>42.86</td>\n",
       "      <td>53978</td>\n",
       "    </tr>\n",
       "    <tr>\n",
       "      <th>2</th>\n",
       "      <td>2019-10-03 08:14:08 UTC</td>\n",
       "      <td>1</td>\n",
       "      <td>5753054</td>\n",
       "      <td>149</td>\n",
       "      <td>0.79</td>\n",
       "      <td>53980</td>\n",
       "    </tr>\n",
       "    <tr>\n",
       "      <th>3</th>\n",
       "      <td>2019-10-03 08:17:21 UTC</td>\n",
       "      <td>5</td>\n",
       "      <td>5753054</td>\n",
       "      <td>149</td>\n",
       "      <td>0.79</td>\n",
       "      <td>53980</td>\n",
       "    </tr>\n",
       "    <tr>\n",
       "      <th>4</th>\n",
       "      <td>2019-10-03 08:17:24 UTC</td>\n",
       "      <td>5</td>\n",
       "      <td>5753054</td>\n",
       "      <td>149</td>\n",
       "      <td>0.79</td>\n",
       "      <td>53980</td>\n",
       "    </tr>\n",
       "  </tbody>\n",
       "</table>\n",
       "</div>"
      ],
      "text/plain": [
       "                event_time  event_type  product_id  category_id  price  \\\n",
       "0  2019-10-03 08:14:04 UTC           1     5651977          149  31.73   \n",
       "1  2019-10-03 08:14:41 UTC           1       37987          149  42.86   \n",
       "2  2019-10-03 08:14:08 UTC           1     5753054          149   0.79   \n",
       "3  2019-10-03 08:17:21 UTC           5     5753054          149   0.79   \n",
       "4  2019-10-03 08:17:24 UTC           5     5753054          149   0.79   \n",
       "\n",
       "   user_id  \n",
       "0    53978  \n",
       "1    53978  \n",
       "2    53980  \n",
       "3    53980  \n",
       "4    53980  "
      ]
     },
     "execution_count": 43,
     "metadata": {},
     "output_type": "execute_result"
    }
   ],
   "source": [
    "test.head()"
   ]
  },
  {
   "cell_type": "code",
   "execution_count": 46,
   "metadata": {},
   "outputs": [],
   "source": [
    "test.to_hdf('test.h5','data')\n",
    "train.to_hdf('train.h5','data')"
   ]
  },
  {
   "cell_type": "code",
   "execution_count": 2,
   "metadata": {},
   "outputs": [],
   "source": [
    "test = pd.read_hdf('test.h5','data')\n",
    "train = pd.read_hdf('train.h5','data')"
   ]
  },
  {
   "cell_type": "code",
   "execution_count": 3,
   "metadata": {},
   "outputs": [],
   "source": [
    "def groupData(df):\n",
    "    gr = df.groupby('user_id')\n",
    "    matrix = gr.size().reset_index().rename(columns={0:'counts'})\n",
    "    #print(matrix.head())\n",
    "    temp = gr['product_id'].agg([('product_count','nunique')]).reset_index()\n",
    "    #print(temp.head())\n",
    "    matrix = matrix.merge(temp,on='user_id',how='left')\n",
    "    #print(matrix.head())\n",
    "    temp = gr['category_id'].agg([('category_count','nunique')]).reset_index()\n",
    "    #print(temp.head())\n",
    "    matrix = matrix.merge(temp,on='user_id',how='left')\n",
    "    #print(matrix.head())\n",
    "    label_list=[]\n",
    "    for name, group in gr:\n",
    "        product_id = int(group.iloc[-1,2])\n",
    "        label_list.append([name,product_id])\n",
    "    return matrix.merge(pd.DataFrame(label_list, columns=['user_id', 'label'], dtype=int), on='user_id', how='left')"
   ]
  },
  {
   "cell_type": "code",
   "execution_count": 4,
   "metadata": {},
   "outputs": [],
   "source": [
    "testdata = groupData(test)"
   ]
  },
  {
   "cell_type": "code",
   "execution_count": 5,
   "metadata": {},
   "outputs": [],
   "source": [
    "traindata = groupData(train)"
   ]
  },
  {
   "cell_type": "code",
   "execution_count": 6,
   "metadata": {},
   "outputs": [],
   "source": [
    "x_train, y_train = traindata.drop(['label','user_id'], axis=1),traindata['label']"
   ]
  },
  {
   "cell_type": "code",
   "execution_count": 7,
   "metadata": {},
   "outputs": [
    {
     "name": "stderr",
     "output_type": "stream",
     "text": [
      "/opt/gentoo/usr/lib/python3.8/site-packages/xgboost/sklearn.py:892: UserWarning: The use of label encoder in XGBClassifier is deprecated and will be removed in a future release. To remove this warning, do the following: 1) Pass option use_label_encoder=False when constructing XGBClassifier object; and 2) Encode your labels (y) as integers starting with 0, i.e. 0, 1, 2, ..., [num_class - 1].\n",
      "  warnings.warn(label_encoder_deprecation_msg, UserWarning)\n"
     ]
    },
    {
     "ename": "KeyboardInterrupt",
     "evalue": "",
     "output_type": "error",
     "traceback": [
      "\u001b[0;31m---------------------------------------------------------------------------\u001b[0m",
      "\u001b[0;31mKeyboardInterrupt\u001b[0m                         Traceback (most recent call last)",
      "\u001b[0;32m<ipython-input-7-2795d0f91134>\u001b[0m in \u001b[0;36m<module>\u001b[0;34m\u001b[0m\n\u001b[1;32m      8\u001b[0m     \u001b[0mseed\u001b[0m\u001b[0;34m=\u001b[0m\u001b[0;36m42\u001b[0m\u001b[0;34m\u001b[0m\u001b[0;34m\u001b[0m\u001b[0m\n\u001b[1;32m      9\u001b[0m )\n\u001b[0;32m---> 10\u001b[0;31m \u001b[0mmodel\u001b[0m\u001b[0;34m.\u001b[0m\u001b[0mfit\u001b[0m\u001b[0;34m(\u001b[0m\u001b[0mx_train\u001b[0m\u001b[0;34m,\u001b[0m\u001b[0my_train\u001b[0m\u001b[0;34m,\u001b[0m\u001b[0meval_metric\u001b[0m\u001b[0;34m=\u001b[0m\u001b[0;34m'auc'\u001b[0m\u001b[0;34m)\u001b[0m\u001b[0;34m\u001b[0m\u001b[0;34m\u001b[0m\u001b[0m\n\u001b[0m",
      "\u001b[0;32m/opt/gentoo/usr/lib/python3.8/site-packages/xgboost/core.py\u001b[0m in \u001b[0;36minner_f\u001b[0;34m(*args, **kwargs)\u001b[0m\n\u001b[1;32m    420\u001b[0m         \u001b[0;32mfor\u001b[0m \u001b[0mk\u001b[0m\u001b[0;34m,\u001b[0m \u001b[0marg\u001b[0m \u001b[0;32min\u001b[0m \u001b[0mzip\u001b[0m\u001b[0;34m(\u001b[0m\u001b[0msig\u001b[0m\u001b[0;34m.\u001b[0m\u001b[0mparameters\u001b[0m\u001b[0;34m,\u001b[0m \u001b[0margs\u001b[0m\u001b[0;34m)\u001b[0m\u001b[0;34m:\u001b[0m\u001b[0;34m\u001b[0m\u001b[0;34m\u001b[0m\u001b[0m\n\u001b[1;32m    421\u001b[0m             \u001b[0mkwargs\u001b[0m\u001b[0;34m[\u001b[0m\u001b[0mk\u001b[0m\u001b[0;34m]\u001b[0m \u001b[0;34m=\u001b[0m \u001b[0marg\u001b[0m\u001b[0;34m\u001b[0m\u001b[0;34m\u001b[0m\u001b[0m\n\u001b[0;32m--> 422\u001b[0;31m         \u001b[0;32mreturn\u001b[0m \u001b[0mf\u001b[0m\u001b[0;34m(\u001b[0m\u001b[0;34m**\u001b[0m\u001b[0mkwargs\u001b[0m\u001b[0;34m)\u001b[0m\u001b[0;34m\u001b[0m\u001b[0;34m\u001b[0m\u001b[0m\n\u001b[0m\u001b[1;32m    423\u001b[0m \u001b[0;34m\u001b[0m\u001b[0m\n\u001b[1;32m    424\u001b[0m     \u001b[0;32mreturn\u001b[0m \u001b[0minner_f\u001b[0m\u001b[0;34m\u001b[0m\u001b[0;34m\u001b[0m\u001b[0m\n",
      "\u001b[0;32m/opt/gentoo/usr/lib/python3.8/site-packages/xgboost/sklearn.py\u001b[0m in \u001b[0;36mfit\u001b[0;34m(self, X, y, sample_weight, base_margin, eval_set, eval_metric, early_stopping_rounds, verbose, xgb_model, sample_weight_eval_set, feature_weights, callbacks)\u001b[0m\n\u001b[1;32m    911\u001b[0m             eval_group=None, label_transform=label_transform)\n\u001b[1;32m    912\u001b[0m \u001b[0;34m\u001b[0m\u001b[0m\n\u001b[0;32m--> 913\u001b[0;31m         self._Booster = train(xgb_options, train_dmatrix,\n\u001b[0m\u001b[1;32m    914\u001b[0m                               \u001b[0mself\u001b[0m\u001b[0;34m.\u001b[0m\u001b[0mget_num_boosting_rounds\u001b[0m\u001b[0;34m(\u001b[0m\u001b[0;34m)\u001b[0m\u001b[0;34m,\u001b[0m\u001b[0;34m\u001b[0m\u001b[0;34m\u001b[0m\u001b[0m\n\u001b[1;32m    915\u001b[0m                               \u001b[0mevals\u001b[0m\u001b[0;34m=\u001b[0m\u001b[0mevals\u001b[0m\u001b[0;34m,\u001b[0m\u001b[0;34m\u001b[0m\u001b[0;34m\u001b[0m\u001b[0m\n",
      "\u001b[0;32m/opt/gentoo/usr/lib/python3.8/site-packages/xgboost/training.py\u001b[0m in \u001b[0;36mtrain\u001b[0;34m(params, dtrain, num_boost_round, evals, obj, feval, maximize, early_stopping_rounds, evals_result, verbose_eval, xgb_model, callbacks)\u001b[0m\n\u001b[1;32m    204\u001b[0m     \u001b[0mBooster\u001b[0m \u001b[0;34m:\u001b[0m \u001b[0ma\u001b[0m \u001b[0mtrained\u001b[0m \u001b[0mbooster\u001b[0m \u001b[0mmodel\u001b[0m\u001b[0;34m\u001b[0m\u001b[0;34m\u001b[0m\u001b[0m\n\u001b[1;32m    205\u001b[0m     \"\"\"\n\u001b[0;32m--> 206\u001b[0;31m     bst = _train_internal(params, dtrain,\n\u001b[0m\u001b[1;32m    207\u001b[0m                           \u001b[0mnum_boost_round\u001b[0m\u001b[0;34m=\u001b[0m\u001b[0mnum_boost_round\u001b[0m\u001b[0;34m,\u001b[0m\u001b[0;34m\u001b[0m\u001b[0;34m\u001b[0m\u001b[0m\n\u001b[1;32m    208\u001b[0m                           \u001b[0mevals\u001b[0m\u001b[0;34m=\u001b[0m\u001b[0mevals\u001b[0m\u001b[0;34m,\u001b[0m\u001b[0;34m\u001b[0m\u001b[0;34m\u001b[0m\u001b[0m\n",
      "\u001b[0;32m/opt/gentoo/usr/lib/python3.8/site-packages/xgboost/training.py\u001b[0m in \u001b[0;36m_train_internal\u001b[0;34m(params, dtrain, num_boost_round, evals, obj, feval, xgb_model, callbacks, evals_result, maximize, verbose_eval, early_stopping_rounds)\u001b[0m\n\u001b[1;32m     99\u001b[0m         \u001b[0;31m# Skip the first update if it is a recovery step.\u001b[0m\u001b[0;34m\u001b[0m\u001b[0;34m\u001b[0m\u001b[0;34m\u001b[0m\u001b[0m\n\u001b[1;32m    100\u001b[0m         \u001b[0;32mif\u001b[0m \u001b[0mversion\u001b[0m \u001b[0;34m%\u001b[0m \u001b[0;36m2\u001b[0m \u001b[0;34m==\u001b[0m \u001b[0;36m0\u001b[0m\u001b[0;34m:\u001b[0m\u001b[0;34m\u001b[0m\u001b[0;34m\u001b[0m\u001b[0m\n\u001b[0;32m--> 101\u001b[0;31m             \u001b[0mbst\u001b[0m\u001b[0;34m.\u001b[0m\u001b[0mupdate\u001b[0m\u001b[0;34m(\u001b[0m\u001b[0mdtrain\u001b[0m\u001b[0;34m,\u001b[0m \u001b[0mi\u001b[0m\u001b[0;34m,\u001b[0m \u001b[0mobj\u001b[0m\u001b[0;34m)\u001b[0m\u001b[0;34m\u001b[0m\u001b[0;34m\u001b[0m\u001b[0m\n\u001b[0m\u001b[1;32m    102\u001b[0m             \u001b[0mbst\u001b[0m\u001b[0;34m.\u001b[0m\u001b[0msave_rabit_checkpoint\u001b[0m\u001b[0;34m(\u001b[0m\u001b[0;34m)\u001b[0m\u001b[0;34m\u001b[0m\u001b[0;34m\u001b[0m\u001b[0m\n\u001b[1;32m    103\u001b[0m             \u001b[0mversion\u001b[0m \u001b[0;34m+=\u001b[0m \u001b[0;36m1\u001b[0m\u001b[0;34m\u001b[0m\u001b[0;34m\u001b[0m\u001b[0m\n",
      "\u001b[0;32m/opt/gentoo/usr/lib/python3.8/site-packages/xgboost/core.py\u001b[0m in \u001b[0;36mupdate\u001b[0;34m(self, dtrain, iteration, fobj)\u001b[0m\n\u001b[1;32m   1278\u001b[0m \u001b[0;34m\u001b[0m\u001b[0m\n\u001b[1;32m   1279\u001b[0m         \u001b[0;32mif\u001b[0m \u001b[0mfobj\u001b[0m \u001b[0;32mis\u001b[0m \u001b[0;32mNone\u001b[0m\u001b[0;34m:\u001b[0m\u001b[0;34m\u001b[0m\u001b[0;34m\u001b[0m\u001b[0m\n\u001b[0;32m-> 1280\u001b[0;31m             _check_call(_LIB.XGBoosterUpdateOneIter(self.handle,\n\u001b[0m\u001b[1;32m   1281\u001b[0m                                                     \u001b[0mctypes\u001b[0m\u001b[0;34m.\u001b[0m\u001b[0mc_int\u001b[0m\u001b[0;34m(\u001b[0m\u001b[0miteration\u001b[0m\u001b[0;34m)\u001b[0m\u001b[0;34m,\u001b[0m\u001b[0;34m\u001b[0m\u001b[0;34m\u001b[0m\u001b[0m\n\u001b[1;32m   1282\u001b[0m                                                     dtrain.handle))\n",
      "\u001b[0;31mKeyboardInterrupt\u001b[0m: "
     ]
    }
   ],
   "source": [
    "model =xgb.XGBClassifier(\n",
    "    max_depth=8,\n",
    "    n_estimators=1000,\n",
    "    min_child_weight=300,\n",
    "    colsample_bytree=0.8,\n",
    "    subsample=0.8,\n",
    "    eta=0.3,\n",
    "    seed=42\n",
    ")\n",
    "model.fit(x_train,y_train,eval_metric='auc')"
   ]
  },
  {
   "cell_type": "code",
   "execution_count": null,
   "metadata": {},
   "outputs": [],
   "source": [
    "ytrain.head()"
   ]
  },
  {
   "cell_type": "code",
   "execution_count": null,
   "metadata": {},
   "outputs": [],
   "source": [
    "test_data = test_data.drop(['user_id'], axis=1)\n",
    "predict_test = model.predict(test_data)"
   ]
  },
  {
   "cell_type": "code",
   "execution_count": null,
   "metadata": {},
   "outputs": [],
   "source": [
    "submit_example = pd.read_csv('./submit_example.csv')\n",
    "submit_example['product_id'] = pd.Series(predict_test[:,0])\n",
    "submit_example.to_csv('./xgb.csv',index=False)"
   ]
  },
  {
   "cell_type": "code",
   "execution_count": null,
   "metadata": {},
   "outputs": [],
   "source": []
  }
 ],
 "metadata": {
  "kernelspec": {
   "display_name": "Python 3",
   "language": "python",
   "name": "python3"
  },
  "language_info": {
   "codemirror_mode": {
    "name": "ipython",
    "version": 3
   },
   "file_extension": ".py",
   "mimetype": "text/x-python",
   "name": "python",
   "nbconvert_exporter": "python",
   "pygments_lexer": "ipython3",
   "version": "3.8.11"
  }
 },
 "nbformat": 4,
 "nbformat_minor": 4
}
