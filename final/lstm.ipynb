{
 "cells": [
  {
   "cell_type": "code",
   "execution_count": 1,
   "metadata": {},
   "outputs": [],
   "source": [
    "import pandas as pd\n",
    "import numpy as np"
   ]
  },
  {
   "cell_type": "code",
   "execution_count": 24,
   "metadata": {},
   "outputs": [],
   "source": [
    "test = pd.read_hdf('test.h5','data')\n",
    "train = pd.read_hdf('train.h5','data')"
   ]
  },
  {
   "cell_type": "code",
   "execution_count": 25,
   "metadata": {},
   "outputs": [],
   "source": [
    "eventmap = {'cart':5, 'purchase':10, 'remove_from_cart':-5, 'view':1}"
   ]
  },
  {
   "cell_type": "code",
   "execution_count": 26,
   "metadata": {},
   "outputs": [],
   "source": [
    "plen = 200\n",
    "tlen = 200\n",
    "def transferTrain(df,eventmap):\n",
    "    gr = df.groupby('user_id').filter(lambda x: len(x)>=5).groupby('user_id')\n",
    "    xtrain = np.zeros((len(gr),tlen, plen*4))\n",
    "    ytrain = np.zeros(len(gr),dtype=int)\n",
    "    yreal = np.zeros((len(gr),plen),dtype=int)\n",
    "    for i,(usr_id,ur) in enumerate(gr):\n",
    "        urlen = len(ur)\n",
    "        predict = ur.iloc[-1]['product_id']\n",
    "        if np.where(ur.iloc[-np.min([tlen+1,urlen]):-1]['product_id']==predict)[0].shape[0]==0:\n",
    "            predict = ur.iloc[-2]['product_id']\n",
    "        products = np.unique(ur.iloc[-np.min([tlen+1,urlen]):-1]['product_id'])\n",
    "        productsmap = {}\n",
    "        for pi,p in enumerate(products):\n",
    "            productsmap[p] = pi\n",
    "        ytrain[i] = productsmap[predict]\n",
    "        for k,(_,upr) in enumerate(ur.iloc[-np.min([tlen+1,urlen]):-1].iterrows()):\n",
    "            et = upr['event_type']\n",
    "            j = productsmap[upr['product_id']]\n",
    "            if et==eventmap['cart']:\n",
    "                xtrain[i,k,j*4+0] =1\n",
    "            elif et==eventmap['purchase']:\n",
    "                xtrain[i,k,j*4+1] =1\n",
    "            elif et==eventmap['remove_from_cart']:\n",
    "                xtrain[i,k,j*4+2] =1\n",
    "            elif et==eventmap['view']:\n",
    "                xtrain[i,k,j*4+3] =1   \n",
    "            yreal[i][j] = upr['product_id']\n",
    "            if j>=(plen-1):\n",
    "                break\n",
    "        yreal[i][(j+1):] = ur.iloc[-2]['product_id']\n",
    "        #if i>2:\n",
    "        #    break\n",
    "    return xtrain,ytrain,yreal\n",
    "def transferTest(df,eventmap):\n",
    "    gr = df.groupby('user_id')\n",
    "    xtrain = np.zeros((len(gr),tlen, plen*4))\n",
    "    yreal = np.zeros((len(gr),plen),dtype=int)\n",
    "    for i,(usr_id,ur) in enumerate(gr):\n",
    "        urlen = len(ur)\n",
    "        products = np.unique(ur.iloc[-np.min([tlen,urlen]):]['product_id'])\n",
    "        productsmap = {}\n",
    "        for pi,p in enumerate(products):\n",
    "            productsmap[p] = pi\n",
    "        for k,(_,upr) in enumerate(ur.iloc[-np.min([tlen,urlen]):].iterrows()):\n",
    "            et = upr['event_type']\n",
    "            j = productsmap[upr['product_id']]\n",
    "        \n",
    "            if et==eventmap['cart']:\n",
    "                xtrain[i,k,j*4+0] =1\n",
    "            elif et==eventmap['purchase']:\n",
    "                xtrain[i,k,j*4+1] =1\n",
    "            elif et==eventmap['remove_from_cart']:\n",
    "                xtrain[i,k,j*4+2] =1\n",
    "            elif et==eventmap['view']:\n",
    "                xtrain[i,k,j*4+3] =1   \n",
    "            yreal[i][j] = upr['product_id']\n",
    "        yreal[i][(j+1):] = ur.iloc[-1]['product_id']\n",
    "        #if i>2:\n",
    "        #    break\n",
    "    return xtrain,yreal"
   ]
  },
  {
   "cell_type": "code",
   "execution_count": 27,
   "metadata": {},
   "outputs": [],
   "source": [
    "xtest,ytestreal=transferTest(test,eventmap)"
   ]
  },
  {
   "cell_type": "code",
   "execution_count": 56,
   "metadata": {},
   "outputs": [],
   "source": [
    "xtrain,ytrain,ytrainreal=transferTrain(train,eventmap)"
   ]
  },
  {
   "cell_type": "code",
   "execution_count": 54,
   "metadata": {},
   "outputs": [
    {
     "name": "stdout",
     "output_type": "stream",
     "text": [
      "> \u001b[0;32m<ipython-input-51-ca3267e2e1f7>\u001b[0m(17)\u001b[0;36mtransferTrain\u001b[0;34m()\u001b[0m\n",
      "\u001b[0;32m     15 \u001b[0;31m        \u001b[0;32mfor\u001b[0m \u001b[0mpi\u001b[0m\u001b[0;34m,\u001b[0m\u001b[0mp\u001b[0m \u001b[0;32min\u001b[0m \u001b[0menumerate\u001b[0m\u001b[0;34m(\u001b[0m\u001b[0mproducts\u001b[0m\u001b[0;34m)\u001b[0m\u001b[0;34m:\u001b[0m\u001b[0;34m\u001b[0m\u001b[0;34m\u001b[0m\u001b[0m\n",
      "\u001b[0m\u001b[0;32m     16 \u001b[0;31m            \u001b[0mproductsmap\u001b[0m\u001b[0;34m[\u001b[0m\u001b[0mp\u001b[0m\u001b[0;34m]\u001b[0m \u001b[0;34m=\u001b[0m \u001b[0mpi\u001b[0m\u001b[0;34m\u001b[0m\u001b[0;34m\u001b[0m\u001b[0m\n",
      "\u001b[0m\u001b[0;32m---> 17 \u001b[0;31m        \u001b[0mytrain\u001b[0m\u001b[0;34m[\u001b[0m\u001b[0mi\u001b[0m\u001b[0;34m]\u001b[0m \u001b[0;34m=\u001b[0m \u001b[0mproductsmap\u001b[0m\u001b[0;34m[\u001b[0m\u001b[0mpredict\u001b[0m\u001b[0;34m]\u001b[0m\u001b[0;34m\u001b[0m\u001b[0;34m\u001b[0m\u001b[0m\n",
      "\u001b[0m\u001b[0;32m     18 \u001b[0;31m        \u001b[0;32mfor\u001b[0m \u001b[0mk\u001b[0m\u001b[0;34m,\u001b[0m\u001b[0;34m(\u001b[0m\u001b[0m_\u001b[0m\u001b[0;34m,\u001b[0m\u001b[0mupr\u001b[0m\u001b[0;34m)\u001b[0m \u001b[0;32min\u001b[0m \u001b[0menumerate\u001b[0m\u001b[0;34m(\u001b[0m\u001b[0mur\u001b[0m\u001b[0;34m.\u001b[0m\u001b[0miloc\u001b[0m\u001b[0;34m[\u001b[0m\u001b[0;34m-\u001b[0m\u001b[0mnp\u001b[0m\u001b[0;34m.\u001b[0m\u001b[0mmin\u001b[0m\u001b[0;34m(\u001b[0m\u001b[0;34m[\u001b[0m\u001b[0mtlen\u001b[0m\u001b[0;34m+\u001b[0m\u001b[0;36m1\u001b[0m\u001b[0;34m,\u001b[0m\u001b[0murlen\u001b[0m\u001b[0;34m]\u001b[0m\u001b[0;34m)\u001b[0m\u001b[0;34m:\u001b[0m\u001b[0;34m-\u001b[0m\u001b[0;36m1\u001b[0m\u001b[0;34m]\u001b[0m\u001b[0;34m.\u001b[0m\u001b[0miterrows\u001b[0m\u001b[0;34m(\u001b[0m\u001b[0;34m)\u001b[0m\u001b[0;34m)\u001b[0m\u001b[0;34m:\u001b[0m\u001b[0;34m\u001b[0m\u001b[0;34m\u001b[0m\u001b[0m\n",
      "\u001b[0m\u001b[0;32m     19 \u001b[0;31m            \u001b[0met\u001b[0m \u001b[0;34m=\u001b[0m \u001b[0mupr\u001b[0m\u001b[0;34m[\u001b[0m\u001b[0;34m'event_type'\u001b[0m\u001b[0;34m]\u001b[0m\u001b[0;34m\u001b[0m\u001b[0;34m\u001b[0m\u001b[0m\n",
      "\u001b[0m\n"
     ]
    },
    {
     "name": "stdin",
     "output_type": "stream",
     "text": [
      "ipdb>  predict\n"
     ]
    },
    {
     "name": "stdout",
     "output_type": "stream",
     "text": [
      "5787561\n"
     ]
    },
    {
     "name": "stdin",
     "output_type": "stream",
     "text": [
      "ipdb>  productsmap\n"
     ]
    },
    {
     "name": "stdout",
     "output_type": "stream",
     "text": [
      "{4938: 0, 5013: 1, 6977: 2, 6978: 3, 8098: 4, 5561488: 5, 5700039: 6, 5712801: 7, 5716556: 8, 5730207: 9, 5734477: 10, 5734534: 11, 5734569: 12, 5736189: 13, 5736325: 14, 5736501: 15, 5742401: 16, 5744388: 17, 5763413: 18, 5774340: 19, 5780927: 20, 5783547: 21, 5784039: 22, 5784570: 23, 5788712: 24, 5792800: 25, 5793704: 26, 5802649: 27, 5809912: 28, 5810145: 29, 5817702: 30, 5837635: 31, 5843546: 32, 5849033: 33, 5853536: 34, 5853698: 35, 5853712: 36, 5853713: 37, 5854897: 38, 5857360: 39}\n"
     ]
    },
    {
     "name": "stdin",
     "output_type": "stream",
     "text": [
      "ipdb>  ur.iloc[-1]\n"
     ]
    },
    {
     "name": "stdout",
     "output_type": "stream",
     "text": [
      "event_time     2019-10-04 06:50:48 UTC\n",
      "event_type                          10\n",
      "product_id                     5787561\n",
      "category_id                        166\n",
      "price                             3.97\n",
      "user_id                           3226\n",
      "Name: 46368, dtype: object\n"
     ]
    },
    {
     "name": "stdin",
     "output_type": "stream",
     "text": [
      "ipdb>  exit\n"
     ]
    }
   ],
   "source": [
    "%debug"
   ]
  },
  {
   "cell_type": "code",
   "execution_count": 57,
   "metadata": {},
   "outputs": [],
   "source": [
    "import h5py\n",
    "with h5py.File('train2.h5','w') as opt:\n",
    "    opt.create_dataset('x',data=xtrain,compression='gzip')\n",
    "    opt.create_dataset('y', data=ytrain,compression='gzip')\n",
    "    opt.create_dataset('test', data=xtest,compression='gzip')\n",
    "    opt.create_dataset('yreal',data=ytrainreal,compression='gzip')\n",
    "    opt.create_dataset('ytestreal',data=ytestreal,compression='gzip')"
   ]
  },
  {
   "cell_type": "code",
   "execution_count": 2,
   "metadata": {},
   "outputs": [],
   "source": [
    "import h5py\n",
    "with h5py.File('train2.h5','r') as ipt:\n",
    "    xtrain = ipt['x'][:]\n",
    "    ytrain = ipt['y'][:]\n",
    "    ytrainreal = ipt['yreal']\n",
    "    xtest = ipt['test'][:]\n",
    "    ytestreal = ipt['ytestreal'][:]"
   ]
  },
  {
   "cell_type": "code",
   "execution_count": 14,
   "metadata": {},
   "outputs": [
    {
     "name": "stdout",
     "output_type": "stream",
     "text": [
      "(10099,)\n"
     ]
    },
    {
     "data": {
      "image/png": "[encoded data removed]",
      "text/plain": [
       "<Figure size 432x288 with 1 Axes>"
      ]
     },
     "metadata": {
      "needs_background": "light"
     },
     "output_type": "display_data"
    }
   ],
   "source": [
    "import matplotlib.pyplot as plt\n",
    "plt.hist(ytrain,range=[0,200],bins=200)\n",
    "print(ytrain.shape)"
   ]
  },
  {
   "cell_type": "code",
   "execution_count": 3,
   "metadata": {},
   "outputs": [
    {
     "name": "stdout",
     "output_type": "stream",
     "text": [
      "cuda\n"
     ]
    }
   ],
   "source": [
    "import torch\n",
    "from torch import nn\n",
    "import torch.optim as optim\n",
    "import torch.utils.data as Data\n",
    "import torch.nn.functional as F\n",
    "device = \"cuda\" if torch.cuda.is_available() else \"cpu\"\n",
    "print(device)"
   ]
  },
  {
   "cell_type": "code",
   "execution_count": 5,
   "metadata": {},
   "outputs": [],
   "source": [
    "plen = 200\n",
    "tlen = 200\n",
    "x_train = torch.from_numpy(xtrain).view(-1,tlen,plen*4).cuda()\n",
    "y_train = torch.from_numpy(ytrain).view(-1).cuda()\n",
    "x_test = torch.from_numpy(xtest).view(-1,tlen,plen*4).cuda()"
   ]
  },
  {
   "cell_type": "code",
   "execution_count": 6,
   "metadata": {},
   "outputs": [
    {
     "name": "stdout",
     "output_type": "stream",
     "text": [
      "(10099, 200, 800) (10099,)\n"
     ]
    }
   ],
   "source": [
    "print(xtrain.shape,ytrain.shape)"
   ]
  },
  {
   "cell_type": "code",
   "execution_count": 7,
   "metadata": {},
   "outputs": [],
   "source": [
    "batch_size=512\n",
    "train_dataset = Data.TensorDataset(x_train[:7000],y_train[:7000])\n",
    "train_loader = Data.DataLoader(dataset=train_dataset,batch_size=batch_size,shuffle=False)\n",
    "test_dataset = Data.TensorDataset(x_train[7000:],y_train[7000:])\n",
    "test_loader = Data.DataLoader(dataset=test_dataset,batch_size=batch_size,shuffle=False)"
   ]
  },
  {
   "cell_type": "code",
   "execution_count": 15,
   "metadata": {},
   "outputs": [],
   "source": [
    "class Net(torch.nn.Module):\n",
    "    def __init__(self, input_size=800,hidden_size=16,out_size=200,num_layers=4):\n",
    "        super(Net, self).__init__()\n",
    "        self.rnn = nn.LSTM(\n",
    "            input_size=input_size,\n",
    "            hidden_size = hidden_size,\n",
    "            num_layers = num_layers,\n",
    "            batch_first = True\n",
    "        )\n",
    "        self.out = nn.Linear(hidden_size, out_size)\n",
    "    def forward(self, x):\n",
    "        rout, (hn,hc) = self.rnn(x,None)\n",
    "        x = self.out(rout)\n",
    "        return x\n",
    "model = Net().to(device)"
   ]
  },
  {
   "cell_type": "code",
   "execution_count": 16,
   "metadata": {},
   "outputs": [],
   "source": [
    "learning_rate=0.01\n",
    "optimizer = optim.Adam(model.parameters(), lr=learning_rate)\n",
    "#criterion = nn.MSELoss()\n",
    "criterion=nn.CrossEntropyLoss()"
   ]
  },
  {
   "cell_type": "code",
   "execution_count": 17,
   "metadata": {},
   "outputs": [
    {
     "name": "stdout",
     "output_type": "stream",
     "text": [
      "Test Error: \n",
      " Accuracy: 19.7%, Avg loss:0.023206 \n",
      "\n",
      "Test Error: \n",
      " Accuracy: 19.7%, Avg loss:0.023202 \n",
      "\n",
      "Test Error: \n",
      " Accuracy: 19.7%, Avg loss:0.023198 \n",
      "\n",
      "Test Error: \n",
      " Accuracy: 19.7%, Avg loss:0.023198 \n",
      "\n",
      "Test Error: \n",
      " Accuracy: 19.7%, Avg loss:0.023199 \n",
      "\n",
      "Test Error: \n",
      " Accuracy: 19.7%, Avg loss:0.023200 \n",
      "\n",
      "Test Error: \n",
      " Accuracy: 19.7%, Avg loss:0.023202 \n",
      "\n",
      "Test Error: \n",
      " Accuracy: 19.7%, Avg loss:0.023202 \n",
      "\n",
      "Test Error: \n",
      " Accuracy: 19.7%, Avg loss:0.023192 \n",
      "\n",
      "Test Error: \n",
      " Accuracy: 19.7%, Avg loss:0.023188 \n",
      "\n",
      "Test Error: \n",
      " Accuracy: 19.7%, Avg loss:0.023188 \n",
      "\n",
      "Test Error: \n",
      " Accuracy: 19.7%, Avg loss:0.023187 \n",
      "\n",
      "Test Error: \n",
      " Accuracy: 19.7%, Avg loss:0.023186 \n",
      "\n",
      "Test Error: \n",
      " Accuracy: 19.7%, Avg loss:0.023181 \n",
      "\n",
      "Test Error: \n",
      " Accuracy: 19.7%, Avg loss:0.023172 \n",
      "\n",
      "Test Error: \n",
      " Accuracy: 19.7%, Avg loss:0.023163 \n",
      "\n",
      "Test Error: \n",
      " Accuracy: 19.7%, Avg loss:0.023158 \n",
      "\n",
      "Test Error: \n",
      " Accuracy: 19.7%, Avg loss:0.023158 \n",
      "\n",
      "Test Error: \n",
      " Accuracy: 19.7%, Avg loss:0.023161 \n",
      "\n",
      "Test Error: \n",
      " Accuracy: 19.7%, Avg loss:0.023163 \n",
      "\n",
      "Test Error: \n",
      " Accuracy: 19.7%, Avg loss:0.023165 \n",
      "\n",
      "Test Error: \n",
      " Accuracy: 19.7%, Avg loss:0.023165 \n",
      "\n",
      "Test Error: \n",
      " Accuracy: 19.7%, Avg loss:0.023166 \n",
      "\n",
      "Test Error: \n",
      " Accuracy: 19.7%, Avg loss:0.023167 \n",
      "\n",
      "Test Error: \n",
      " Accuracy: 19.7%, Avg loss:0.023168 \n",
      "\n",
      "Test Error: \n",
      " Accuracy: 19.7%, Avg loss:0.023168 \n",
      "\n",
      "Test Error: \n",
      " Accuracy: 19.7%, Avg loss:0.023169 \n",
      "\n",
      "Test Error: \n",
      " Accuracy: 19.7%, Avg loss:0.023170 \n",
      "\n",
      "Test Error: \n",
      " Accuracy: 19.7%, Avg loss:0.023171 \n",
      "\n",
      "Test Error: \n",
      " Accuracy: 19.7%, Avg loss:0.023169 \n",
      "\n",
      "Test Error: \n",
      " Accuracy: 19.7%, Avg loss:0.023166 \n",
      "\n",
      "Test Error: \n",
      " Accuracy: 19.7%, Avg loss:0.023164 \n",
      "\n",
      "Test Error: \n",
      " Accuracy: 19.7%, Avg loss:0.023162 \n",
      "\n",
      "Test Error: \n",
      " Accuracy: 19.7%, Avg loss:0.023162 \n",
      "\n",
      "Test Error: \n",
      " Accuracy: 19.7%, Avg loss:0.023163 \n",
      "\n",
      "Test Error: \n",
      " Accuracy: 19.7%, Avg loss:0.023164 \n",
      "\n",
      "Test Error: \n",
      " Accuracy: 19.7%, Avg loss:0.023164 \n",
      "\n",
      "Test Error: \n",
      " Accuracy: 19.7%, Avg loss:0.023161 \n",
      "\n",
      "Test Error: \n",
      " Accuracy: 19.7%, Avg loss:0.023157 \n",
      "\n",
      "Test Error: \n",
      " Accuracy: 19.7%, Avg loss:0.023153 \n",
      "\n",
      "Test Error: \n",
      " Accuracy: 19.7%, Avg loss:0.023151 \n",
      "\n",
      "Test Error: \n",
      " Accuracy: 19.7%, Avg loss:0.023149 \n",
      "\n",
      "Test Error: \n",
      " Accuracy: 19.7%, Avg loss:0.023146 \n",
      "\n",
      "Test Error: \n",
      " Accuracy: 19.7%, Avg loss:0.023145 \n",
      "\n",
      "Test Error: \n",
      " Accuracy: 19.7%, Avg loss:0.023146 \n",
      "\n",
      "Test Error: \n",
      " Accuracy: 19.7%, Avg loss:0.023148 \n",
      "\n",
      "Test Error: \n",
      " Accuracy: 19.7%, Avg loss:0.023149 \n",
      "\n",
      "Test Error: \n",
      " Accuracy: 19.7%, Avg loss:0.023150 \n",
      "\n",
      "Test Error: \n",
      " Accuracy: 19.7%, Avg loss:0.023149 \n",
      "\n",
      "Test Error: \n",
      " Accuracy: 19.7%, Avg loss:0.023147 \n",
      "\n",
      "Test Error: \n",
      " Accuracy: 19.7%, Avg loss:0.023144 \n",
      "\n",
      "Test Error: \n",
      " Accuracy: 19.7%, Avg loss:0.023143 \n",
      "\n",
      "Test Error: \n",
      " Accuracy: 19.7%, Avg loss:0.023143 \n",
      "\n",
      "Test Error: \n",
      " Accuracy: 19.7%, Avg loss:0.023143 \n",
      "\n",
      "Test Error: \n",
      " Accuracy: 19.7%, Avg loss:0.023144 \n",
      "\n",
      "Test Error: \n",
      " Accuracy: 19.7%, Avg loss:0.023145 \n",
      "\n",
      "Test Error: \n",
      " Accuracy: 19.7%, Avg loss:0.023146 \n",
      "\n",
      "Test Error: \n",
      " Accuracy: 19.7%, Avg loss:0.023147 \n",
      "\n",
      "Test Error: \n",
      " Accuracy: 19.7%, Avg loss:0.023148 \n",
      "\n",
      "Test Error: \n",
      " Accuracy: 19.7%, Avg loss:0.023149 \n",
      "\n",
      "Test Error: \n",
      " Accuracy: 19.7%, Avg loss:0.023150 \n",
      "\n",
      "Test Error: \n",
      " Accuracy: 19.7%, Avg loss:0.023150 \n",
      "\n",
      "Test Error: \n",
      " Accuracy: 19.7%, Avg loss:0.023151 \n",
      "\n",
      "Test Error: \n",
      " Accuracy: 19.7%, Avg loss:0.023152 \n",
      "\n"
     ]
    }
   ],
   "source": [
    "epochs = 64\n",
    "for epoch in range(epochs):\n",
    "    model.train()\n",
    "    for batch,(x,y) in enumerate(train_loader):\n",
    "        ypred = model(x.float())\n",
    "        ypred = ypred[:,-1,:]\n",
    "        #print(ypred.shape,y.shape)\n",
    "        loss = criterion(ypred, y)\n",
    "        optimizer.zero_grad()\n",
    "        loss.backward()\n",
    "        optimizer.step()\n",
    "    model.eval()\n",
    "    size = len(test_loader.dataset)\n",
    "    test_loss, correct = 0,0\n",
    "    with torch.no_grad():\n",
    "        for x,y in test_loader:\n",
    "            x = x.float()\n",
    "            pred = model(x)\n",
    "            pred = pred[:,-1,:]\n",
    "            test_loss += criterion(pred,y).item()\n",
    "            correct += (pred.argmax(1) ==y).type(torch.float).sum().item()\n",
    "    test_loss /= size\n",
    "    correct /= size\n",
    "    print(f'Test Error: \\n Accuracy: {(100*correct):>0.1f}%, Avg loss:{test_loss:>8f} \\n')"
   ]
  },
  {
   "cell_type": "code",
   "execution_count": 31,
   "metadata": {},
   "outputs": [],
   "source": [
    "model.eval()\n",
    "with torch.no_grad():\n",
    "    x_test = x_test.float()\n",
    "    predO = model(x_test)\n",
    "    predO=predO[:,-1,:]\n",
    "    pred = np.argmax(predO.cpu().numpy(),axis=1)\n",
    "realpred = [ytestreal[i,j] for i,j in enumerate(pred)]"
   ]
  },
  {
   "cell_type": "code",
   "execution_count": 32,
   "metadata": {},
   "outputs": [
    {
     "data": {
      "text/plain": [
       "37987"
      ]
     },
     "execution_count": 32,
     "metadata": {},
     "output_type": "execute_result"
    }
   ],
   "source": [
    "realpred[0]"
   ]
  },
  {
   "cell_type": "code",
   "execution_count": 19,
   "metadata": {},
   "outputs": [],
   "source": [
    "sampleSubmit = pd.read_csv('./submit_example.csv')"
   ]
  },
  {
   "cell_type": "code",
   "execution_count": 33,
   "metadata": {},
   "outputs": [],
   "source": [
    "realpredict = pd.DataFrame({'user_id':sampleSubmit['user_id'],'product_id':np.array(realpred).reshape(-1)})"
   ]
  },
  {
   "cell_type": "code",
   "execution_count": 34,
   "metadata": {},
   "outputs": [],
   "source": [
    "realpredict.to_csv('itemTrainFilterLSTM.csv',index=False)"
   ]
  },
  {
   "cell_type": "code",
   "execution_count": null,
   "metadata": {},
   "outputs": [],
   "source": []
  }
 ],
 "metadata": {
  "kernelspec": {
   "display_name": "Python 3",
   "language": "python",
   "name": "python3"
  },
  "language_info": {
   "codemirror_mode": {
    "name": "ipython",
    "version": 3
   },
   "file_extension": ".py",
   "mimetype": "text/x-python",
   "name": "python",
   "nbconvert_exporter": "python",
   "pygments_lexer": "ipython3",
   "version": "3.8.7rc1"
  }
 },
 "nbformat": 4,
 "nbformat_minor": 4
}
