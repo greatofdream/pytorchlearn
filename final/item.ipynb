{
 "cells": [
  {
   "cell_type": "code",
   "execution_count": 1,
   "metadata": {},
   "outputs": [],
   "source": [
    "import pandas as pd\n",
    "import numpy as np"
   ]
  },
  {
   "cell_type": "code",
   "execution_count": 2,
   "metadata": {},
   "outputs": [],
   "source": [
    "test = pd.read_hdf('test.h5','data')\n",
    "train = pd.read_hdf('train.h5','data')"
   ]
  },
  {
   "cell_type": "code",
   "execution_count": 68,
   "metadata": {},
   "outputs": [],
   "source": [
    "\n",
    "def maxtimeGroup(df):\n",
    "    gr = df.groupby('user_id')\n",
    "    predict = np.zeros(len(gr),dtype=[('user_id','<i4'),('product_id','<i4')])\n",
    "    for i,(user_id, ur) in enumerate(gr):\n",
    "        r,ri, rc = np.unique(ur[['product_id']][::-1],return_counts=True,return_index=True)\n",
    "        selectur = ur[['event_time','product_id']][::-1].iloc[ri]\n",
    "        selectur['count'] = rc\n",
    "        sur = np.sort(selectur.to_records(index=False),order=['count','event_time'])\n",
    "        predict[i] = (user_id, sur[-1]['product_id'])\n",
    "    return predict"
   ]
  },
  {
   "cell_type": "code",
   "execution_count": 69,
   "metadata": {},
   "outputs": [],
   "source": [
    "predict = maxtimeGroup(test)"
   ]
  },
  {
   "cell_type": "code",
   "execution_count": 53,
   "metadata": {},
   "outputs": [],
   "source": [
    "def lasttimeGroup(df):\n",
    "    gr = df.groupby('user_id')\n",
    "    predict = np.zeros(len(gr),dtype=[('user_id','<i4'),('product_id','<i4')])\n",
    "    for i,(user_id, ur) in enumerate(gr):\n",
    "        predict[i] = (user_id, ur.iloc[-1]['product_id'])\n",
    "    return predict"
   ]
  },
  {
   "cell_type": "code",
   "execution_count": 70,
   "metadata": {},
   "outputs": [],
   "source": [
    "pd.DataFrame(predict).to_csv('item.csv',index=False)"
   ]
  },
  {
   "cell_type": "code",
   "execution_count": 54,
   "metadata": {},
   "outputs": [],
   "source": [
    "lastpredict=lasttimeGroup(test)"
   ]
  },
  {
   "cell_type": "code",
   "execution_count": 55,
   "metadata": {},
   "outputs": [],
   "source": [
    "pd.DataFrame(lastpredict).to_csv('item1.csv',index=False)"
   ]
  },
  {
   "cell_type": "code",
   "execution_count": 75,
   "metadata": {},
   "outputs": [],
   "source": [
    "def maxtimeGradeGroup(df):\n",
    "    gr = df.groupby('user_id')\n",
    "    predict = np.zeros(len(gr),dtype=[('user_id','<i4'),('product_id','<i4')])\n",
    "    for i,(user_id, ur) in enumerate(gr):\n",
    "        r,ri, rc = np.unique(ur[['product_id']][::-1],return_counts=True,return_index=True)\n",
    "        grade = ur.groupby('product_id')['event_type'].sum()\n",
    "        selectur = ur[['event_time','product_id']][::-1].iloc[ri]\n",
    "        selectur['count'] = rc\n",
    "        selectur = selectur.merge(grade,on='product_id')\n",
    "        sur = np.sort(selectur.to_records(index=False),order=['event_type','event_time','count'])\n",
    "        \n",
    "        predict[i] = (user_id, sur[-1]['product_id'])\n",
    "    return predict"
   ]
  },
  {
   "cell_type": "code",
   "execution_count": null,
   "metadata": {},
   "outputs": [],
   "source": [
    "test.loc[:,('event_type')] = test['event_type'].apply(lambda x: -10 if x==10 else x)"
   ]
  },
  {
   "cell_type": "code",
   "execution_count": 76,
   "metadata": {},
   "outputs": [],
   "source": [
    "gradepredict=maxtimeGradeGroup(test)"
   ]
  },
  {
   "cell_type": "code",
   "execution_count": 77,
   "metadata": {},
   "outputs": [],
   "source": [
    "pd.DataFrame(gradepredict).to_csv('item2.csv',index=False)"
   ]
  },
  {
   "cell_type": "code",
   "execution_count": 78,
   "metadata": {},
   "outputs": [],
   "source": [
    "test.loc[:,('event_type')] = test['event_type'].apply(lambda x: 2 if x==1 else x)"
   ]
  },
  {
   "cell_type": "code",
   "execution_count": 79,
   "metadata": {},
   "outputs": [],
   "source": [
    "gradepredict=maxtimeGradeGroup(test)\n",
    "pd.DataFrame(gradepredict).to_csv('item3.csv',index=False)"
   ]
  },
  {
   "cell_type": "code",
   "execution_count": null,
   "metadata": {},
   "outputs": [],
   "source": []
  }
 ],
 "metadata": {
  "kernelspec": {
   "display_name": "Python 3",
   "language": "python",
   "name": "python3"
  },
  "language_info": {
   "codemirror_mode": {
    "name": "ipython",
    "version": 3
   },
   "file_extension": ".py",
   "mimetype": "text/x-python",
   "name": "python",
   "nbconvert_exporter": "python",
   "pygments_lexer": "ipython3",
   "version": "3.8.7rc1"
  }
 },
 "nbformat": 4,
 "nbformat_minor": 4
}
