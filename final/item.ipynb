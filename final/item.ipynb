{
 "cells": [
  {
   "cell_type": "code",
   "execution_count": 19,
   "metadata": {},
   "outputs": [],
   "source": [
    "import pandas as pd\n",
    "import numpy as np\n",
    "import h5py"
   ]
  },
  {
   "cell_type": "code",
   "execution_count": 3,
   "metadata": {},
   "outputs": [],
   "source": [
    "test = pd.read_hdf('test.h5','data')\n",
    "train = pd.read_hdf('train.h5','data')"
   ]
  },
  {
   "cell_type": "code",
   "execution_count": 4,
   "metadata": {},
   "outputs": [
    {
     "name": "stdout",
     "output_type": "stream",
     "text": [
      "(422126, 6)\n"
     ]
    }
   ],
   "source": [
    "alldata = pd.concat([train,test],axis=0)\n",
    "print(alldata.shape)"
   ]
  },
  {
   "cell_type": "code",
   "execution_count": 14,
   "metadata": {},
   "outputs": [],
   "source": [
    "eventInversemap = {5:'cart', 10:'purchase', -5:'remove_from_cart', 1:'view'}"
   ]
  },
  {
   "cell_type": "code",
   "execution_count": 17,
   "metadata": {},
   "outputs": [],
   "source": [
    "times = 0\n",
    "ag = alldata.groupby('product_id')\n",
    "productsInfo = np.zeros(len(ag),dtype=[('view','<i4'),('cart','<i4'),('remove_from_cart','<i4'),('purchase','<i4'),('cart-view','<f4'),('purchase-cart','<f4'),('purchase-view','<f4')])\n",
    "productsIndex = {}\n",
    "for i,(product_id,ur) in enumerate(alldata.groupby('product_id')):\n",
    "    ru = ur['event_type'].value_counts()\n",
    "    for key in ru.keys():\n",
    "        productsInfo[i][eventInversemap[key]] = ru[key]\n",
    "    if productsInfo[i]['view']!=0:\n",
    "        productsInfo[i]['cart-view'] = productsInfo[i]['cart']/productsInfo[i]['view']\n",
    "        productsInfo[i]['purchase-view'] = productsInfo[i]['purchase']/productsInfo[i]['view']\n",
    "    if productsInfo[i]['cart']!=0:\n",
    "        productsInfo[i]['purchase-cart'] = productsInfo[i]['purchase']/productsInfo[i]['cart']\n",
    "    productsIndex[product_id] = i"
   ]
  },
  {
   "cell_type": "code",
   "execution_count": 21,
   "metadata": {},
   "outputs": [],
   "source": [
    "with h5py.File('product_info.h5','w') as opt:\n",
    "    opt.create_dataset('info', data=productsInfo, compression='gzip')\n",
    "    #opt.create_dataset('index', data=productsIndex,compression='gzip')\n",
    "np.save('pindex.npy',productsIndex)"
   ]
  },
  {
   "cell_type": "code",
   "execution_count": 68,
   "metadata": {},
   "outputs": [],
   "source": [
    "\n",
    "def maxtimeGroup(df):\n",
    "    gr = df.groupby('user_id')\n",
    "    predict = np.zeros(len(gr),dtype=[('user_id','<i4'),('product_id','<i4')])\n",
    "    for i,(user_id, ur) in enumerate(gr):\n",
    "        r,ri, rc = np.unique(ur[['product_id']][::-1],return_counts=True,return_index=True)\n",
    "        selectur = ur[['event_time','product_id']][::-1].iloc[ri]\n",
    "        selectur['count'] = rc\n",
    "        sur = np.sort(selectur.to_records(index=False),order=['count','event_time'])\n",
    "        predict[i] = (user_id, sur[-1]['product_id'])\n",
    "    return predict"
   ]
  },
  {
   "cell_type": "code",
   "execution_count": 69,
   "metadata": {},
   "outputs": [],
   "source": [
    "predict = maxtimeGroup(test)"
   ]
  },
  {
   "cell_type": "code",
   "execution_count": 53,
   "metadata": {},
   "outputs": [],
   "source": [
    "def lasttimeGroup(df):\n",
    "    gr = df.groupby('user_id')\n",
    "    predict = np.zeros(len(gr),dtype=[('user_id','<i4'),('product_id','<i4')])\n",
    "    for i,(user_id, ur) in enumerate(gr):\n",
    "        predict[i] = (user_id, ur.iloc[-1]['product_id'])\n",
    "    return predict"
   ]
  },
  {
   "cell_type": "code",
   "execution_count": 70,
   "metadata": {},
   "outputs": [],
   "source": [
    "pd.DataFrame(predict).to_csv('item.csv',index=False)"
   ]
  },
  {
   "cell_type": "code",
   "execution_count": 54,
   "metadata": {},
   "outputs": [],
   "source": [
    "lastpredict=lasttimeGroup(test)"
   ]
  },
  {
   "cell_type": "code",
   "execution_count": 55,
   "metadata": {},
   "outputs": [],
   "source": [
    "pd.DataFrame(lastpredict).to_csv('item1.csv',index=False)"
   ]
  },
  {
   "cell_type": "code",
   "execution_count": 75,
   "metadata": {},
   "outputs": [],
   "source": [
    "def maxtimeGradeGroup(df):\n",
    "    gr = df.groupby('user_id')\n",
    "    predict = np.zeros(len(gr),dtype=[('user_id','<i4'),('product_id','<i4')])\n",
    "    for i,(user_id, ur) in enumerate(gr):\n",
    "        r,ri, rc = np.unique(ur[['product_id']][::-1],return_counts=True,return_index=True)\n",
    "        grade = ur.groupby('product_id')['event_type'].sum()\n",
    "        selectur = ur[['event_time','product_id']][::-1].iloc[ri]\n",
    "        selectur['count'] = rc\n",
    "        selectur = selectur.merge(grade,on='product_id')\n",
    "        sur = np.sort(selectur.to_records(index=False),order=['event_type','event_time','count'])\n",
    "        \n",
    "        predict[i] = (user_id, sur[-1]['product_id'])\n",
    "    return predict"
   ]
  },
  {
   "cell_type": "code",
   "execution_count": null,
   "metadata": {},
   "outputs": [],
   "source": [
    "test.loc[:,('event_type')] = test['event_type'].apply(lambda x: -10 if x==10 else x)"
   ]
  },
  {
   "cell_type": "code",
   "execution_count": 76,
   "metadata": {},
   "outputs": [],
   "source": [
    "gradepredict=maxtimeGradeGroup(test)"
   ]
  },
  {
   "cell_type": "code",
   "execution_count": 77,
   "metadata": {},
   "outputs": [],
   "source": [
    "pd.DataFrame(gradepredict).to_csv('item2.csv',index=False)"
   ]
  },
  {
   "cell_type": "code",
   "execution_count": 78,
   "metadata": {},
   "outputs": [],
   "source": [
    "test.loc[:,('event_type')] = test['event_type'].apply(lambda x: 2 if x==1 else x)"
   ]
  },
  {
   "cell_type": "code",
   "execution_count": 79,
   "metadata": {},
   "outputs": [],
   "source": [
    "gradepredict=maxtimeGradeGroup(test)\n",
    "pd.DataFrame(gradepredict).to_csv('item3.csv',index=False)"
   ]
  },
  {
   "cell_type": "code",
   "execution_count": 13,
   "metadata": {},
   "outputs": [],
   "source": [
    "eventmap = {'cart':5, 'purchase':10, 'remove_from_cart':-5, 'view':1}"
   ]
  },
  {
   "cell_type": "code",
   "execution_count": 7,
   "metadata": {},
   "outputs": [
    {
     "data": {
      "text/plain": [
       "53975"
      ]
     },
     "execution_count": 7,
     "metadata": {},
     "output_type": "execute_result"
    }
   ],
   "source": [
    "len(train.groupby('user_id'))"
   ]
  },
  {
   "cell_type": "code",
   "execution_count": 46,
   "metadata": {},
   "outputs": [
    {
     "data": {
      "text/html": [
       "<div>\n",
       "<style scoped>\n",
       "    .dataframe tbody tr th:only-of-type {\n",
       "        vertical-align: middle;\n",
       "    }\n",
       "\n",
       "    .dataframe tbody tr th {\n",
       "        vertical-align: top;\n",
       "    }\n",
       "\n",
       "    .dataframe thead th {\n",
       "        text-align: right;\n",
       "    }\n",
       "</style>\n",
       "<table border=\"1\" class=\"dataframe\">\n",
       "  <thead>\n",
       "    <tr style=\"text-align: right;\">\n",
       "      <th></th>\n",
       "      <th>event_time</th>\n",
       "      <th>event_type</th>\n",
       "      <th>product_id</th>\n",
       "      <th>category_id</th>\n",
       "      <th>price</th>\n",
       "      <th>user_id</th>\n",
       "    </tr>\n",
       "  </thead>\n",
       "  <tbody>\n",
       "    <tr>\n",
       "      <th>799</th>\n",
       "      <td>2019-10-01 00:00:53 UTC</td>\n",
       "      <td>1</td>\n",
       "      <td>5856191</td>\n",
       "      <td>149</td>\n",
       "      <td>24.44</td>\n",
       "      <td>11</td>\n",
       "    </tr>\n",
       "    <tr>\n",
       "      <th>800</th>\n",
       "      <td>2019-10-01 02:13:27 UTC</td>\n",
       "      <td>1</td>\n",
       "      <td>5856191</td>\n",
       "      <td>149</td>\n",
       "      <td>24.44</td>\n",
       "      <td>11</td>\n",
       "    </tr>\n",
       "    <tr>\n",
       "      <th>801</th>\n",
       "      <td>2019-10-03 02:10:34 UTC</td>\n",
       "      <td>1</td>\n",
       "      <td>5856191</td>\n",
       "      <td>149</td>\n",
       "      <td>24.44</td>\n",
       "      <td>11</td>\n",
       "    </tr>\n",
       "  </tbody>\n",
       "</table>\n",
       "</div>"
      ],
      "text/plain": [
       "                  event_time  event_type  product_id  category_id  price  \\\n",
       "799  2019-10-01 00:00:53 UTC           1     5856191          149  24.44   \n",
       "800  2019-10-01 02:13:27 UTC           1     5856191          149  24.44   \n",
       "801  2019-10-03 02:10:34 UTC           1     5856191          149  24.44   \n",
       "\n",
       "     user_id  \n",
       "799       11  \n",
       "800       11  \n",
       "801       11  "
      ]
     },
     "execution_count": 46,
     "metadata": {},
     "output_type": "execute_result"
    }
   ],
   "source": [
    "train2[train2['user_id']==11]"
   ]
  },
  {
   "cell_type": "code",
   "execution_count": 8,
   "metadata": {},
   "outputs": [
    {
     "name": "stdout",
     "output_type": "stream",
     "text": [
      "39398\n",
      "34778\n"
     ]
    }
   ],
   "source": [
    "train2=train.groupby('user_id').filter(lambda x: len(x)>=2)\n",
    "print(len(train2.groupby('user_id')))\n",
    "train3=train.groupby('user_id').filter(lambda x: len(x)>=3)\n",
    "print(len(train3.groupby('user_id')))"
   ]
  },
  {
   "cell_type": "code",
   "execution_count": 53,
   "metadata": {},
   "outputs": [],
   "source": [
    "def transferCheck(df,eventmap):\n",
    "    plen = 100\n",
    "    gr = df.groupby('user_id').filter(lambda x: len(x)>=10).groupby('user_id')\n",
    "    xtrain = np.zeros((len(gr),plen,4))\n",
    "    ytrain = np.zeros(len(gr),dtype=int)\n",
    "    yreal = np.zeros((len(gr),plen),dtype=int)\n",
    "    count = 0\n",
    "    for i,(usr_id,ur) in enumerate(gr):\n",
    "        predict = ur.iloc[-1]['product_id']\n",
    "        if np.where(ur.iloc[:-1]['product_id']==predict)[0].shape[0]==0:\n",
    "            predict = ur.iloc[-2]['product_id']\n",
    "        for j,(pid, upr) in enumerate(ur.iloc[:-1].groupby('product_id')):\n",
    "            for et in upr['event_type']:\n",
    "                if et==eventmap['cart']:\n",
    "                    xtrain[i,j,0] +=1\n",
    "                elif et==eventmap['purchase']:\n",
    "                    xtrain[i,j,1] +=1\n",
    "                elif et==eventmap['remove_from_cart']:\n",
    "                    xtrain[i,j,2] +=1\n",
    "                elif et==eventmap['view']:\n",
    "                    xtrain[i,j,3] +=1\n",
    "            if pid == predict:\n",
    "                ytrain[i] = j\n",
    "                if j==0:\n",
    "                    count += 1\n",
    "            yreal[i][j] = pid\n",
    "            if j>=(plen-1):\n",
    "                break\n",
    "        yreal[i][j:] = ur.iloc[-2]['product_id']\n",
    "    print('{}/{}'.format(count,len(gr)))\n",
    "    return xtrain,ytrain,yreal"
   ]
  },
  {
   "cell_type": "code",
   "execution_count": 50,
   "metadata": {},
   "outputs": [
    {
     "data": {
      "text/plain": [
       "array([5529447, 5643943, 5691640, 5729012, 5758501, 5809921, 5838568,\n",
       "       5847178, 5860441, 5860445])"
      ]
     },
     "execution_count": 50,
     "metadata": {},
     "output_type": "execute_result"
    }
   ],
   "source": [
    "ytrainreal[38,:10]"
   ]
  },
  {
   "cell_type": "code",
   "execution_count": 36,
   "metadata": {},
   "outputs": [
    {
     "data": {
      "text/plain": [
       "0"
      ]
     },
     "execution_count": 36,
     "metadata": {},
     "output_type": "execute_result"
    }
   ],
   "source": [
    "ytrain[14]"
   ]
  },
  {
   "cell_type": "code",
   "execution_count": 54,
   "metadata": {},
   "outputs": [
    {
     "name": "stdout",
     "output_type": "stream",
     "text": [
      "765/6672\n"
     ]
    }
   ],
   "source": [
    "xtrain,ytrain,ytrainreal=transferCheck(train,eventmap)"
   ]
  },
  {
   "cell_type": "code",
   "execution_count": 261,
   "metadata": {},
   "outputs": [],
   "source": [
    "plen = 100\n",
    "def transferTrain(df,eventmap):\n",
    "    gr = df.groupby('user_id').filter(lambda x: len(x)>=5).groupby('user_id')\n",
    "    xtrain = np.zeros((len(gr),plen,4))\n",
    "    ytrain = np.zeros(len(gr),dtype=int)\n",
    "    yreal = np.zeros((len(gr),plen),dtype=int)\n",
    "    for i,(usr_id,ur) in enumerate(gr):\n",
    "        predict = ur.iloc[-1]['product_id']\n",
    "        if np.where(ur.iloc[:-1]['product_id']==predict)[0].shape[0]==0:\n",
    "            predict = ur.iloc[-2]['product_id']\n",
    "        for j,(pid, upr) in enumerate(ur.iloc[:-1].groupby('product_id')):\n",
    "            for et in upr['event_type']:\n",
    "                if et==eventmap['cart']:\n",
    "                    xtrain[i,j,0] +=1\n",
    "                elif et==eventmap['purchase']:\n",
    "                    xtrain[i,j,1] +=1\n",
    "                elif et==eventmap['remove_from_cart']:\n",
    "                    xtrain[i,j,2] +=1\n",
    "                elif et==eventmap['view']:\n",
    "                    xtrain[i,j,3] +=1\n",
    "            if pid == predict:\n",
    "                ytrain[i] = j\n",
    "            yreal[i][j] = pid\n",
    "            if j>=(plen-1):\n",
    "                break\n",
    "        yreal[i][j:] = ur.iloc[-2]['product_id']\n",
    "        #if i>2:\n",
    "        #    break\n",
    "    return xtrain,ytrain,yreal\n",
    "def transferTest(df,eventmap):\n",
    "    gr = df.groupby('user_id')\n",
    "    xtrain = np.zeros((len(gr),plen,4))\n",
    "    yreal = np.zeros((len(gr),plen),dtype=int)\n",
    "    for i,(usr_id,ur) in enumerate(gr):\n",
    "        for j,(pid, upr) in enumerate(ur.groupby('product_id')):\n",
    "            for et in upr['event_type']:\n",
    "                if et==eventmap['cart']:\n",
    "                    xtrain[i,j,0] +=1\n",
    "                elif et==eventmap['purchase']:\n",
    "                    xtrain[i,j,1] +=1\n",
    "                elif et==eventmap['remove_from_cart']:\n",
    "                    xtrain[i,j,2] +=1\n",
    "                elif et==eventmap['view']:\n",
    "                    xtrain[i,j,3] +=1\n",
    "            yreal[i][j] = pid\n",
    "            if j>=(plen-1):\n",
    "                break\n",
    "        yreal[i][j:] = ur.iloc[-1]['product_id']\n",
    "        #if i>2:\n",
    "        #    break\n",
    "    return xtrain,yreal"
   ]
  },
  {
   "cell_type": "code",
   "execution_count": 262,
   "metadata": {},
   "outputs": [],
   "source": [
    "xtest,ytestreal=transferTest(test,eventmap)"
   ]
  },
  {
   "cell_type": "code",
   "execution_count": 263,
   "metadata": {},
   "outputs": [],
   "source": [
    "xtrain,ytrain,ytrainreal=transferTrain(train,eventmap)"
   ]
  },
  {
   "cell_type": "code",
   "execution_count": 264,
   "metadata": {},
   "outputs": [],
   "source": [
    "import h5py\n",
    "with h5py.File('train1.h5','w') as opt:\n",
    "    opt.create_dataset('x',data=xtrain,compression='gzip')\n",
    "    opt.create_dataset('y', data=ytrain,compression='gzip')\n",
    "    opt.create_dataset('test', data=xtest,compression='gzip')\n",
    "    opt.create_dataset('yreal',data=ytrainreal,compression='gzip')\n",
    "    opt.create_dataset('ytestreal',data=ytestreal,compression='gzip')"
   ]
  },
  {
   "cell_type": "code",
   "execution_count": 1,
   "metadata": {},
   "outputs": [],
   "source": [
    "import h5py\n",
    "with h5py.File('train1.h5','r') as ipt:\n",
    "    xtrain = ipt['x'][:]\n",
    "    ytrain = ipt['y'][:]\n",
    "    ytrainreal = ipt['yreal']\n",
    "    xtest = ipt['test'][:]\n",
    "    ytestreal = ipt['ytestreal'][:]"
   ]
  },
  {
   "cell_type": "code",
   "execution_count": 2,
   "metadata": {},
   "outputs": [
    {
     "data": {
      "text/plain": [
       "(558, 100, 4)"
      ]
     },
     "execution_count": 2,
     "metadata": {},
     "output_type": "execute_result"
    }
   ],
   "source": [
    "xtest.shape"
   ]
  },
  {
   "cell_type": "code",
   "execution_count": 55,
   "metadata": {},
   "outputs": [
    {
     "name": "stdout",
     "output_type": "stream",
     "text": [
      "(6672,)\n"
     ]
    },
    {
     "data": {
      "image/png": "[encoded data removed]",
      "text/plain": [
       "<Figure size 432x288 with 1 Axes>"
      ]
     },
     "metadata": {
      "needs_background": "light"
     },
     "output_type": "display_data"
    }
   ],
   "source": [
    "import matplotlib.pyplot as plt\n",
    "plt.hist(ytrain,range=[0,100],bins=100)\n",
    "print(ytrain.shape)\n",
    "plt.savefig('weightfiter10.png')"
   ]
  },
  {
   "cell_type": "code",
   "execution_count": 56,
   "metadata": {},
   "outputs": [],
   "source": [
    "import torch\n",
    "from torch import nn\n",
    "import torch.optim as optim\n",
    "import torch.utils.data as Data\n",
    "import torch.nn.functional as F\n",
    "device = \"cuda\" if torch.cuda.is_available() else \"cpu\""
   ]
  },
  {
   "cell_type": "code",
   "execution_count": 57,
   "metadata": {},
   "outputs": [],
   "source": [
    "weight = torch.randn((),device=device,dtype=torch.float,requires_grad=True).cuda()\n",
    "learning_rate=0.001"
   ]
  },
  {
   "cell_type": "code",
   "execution_count": 58,
   "metadata": {},
   "outputs": [
    {
     "data": {
      "text/plain": [
       "(6672,)"
      ]
     },
     "execution_count": 58,
     "metadata": {},
     "output_type": "execute_result"
    }
   ],
   "source": [
    "ytrain.shape"
   ]
  },
  {
   "cell_type": "code",
   "execution_count": 143,
   "metadata": {},
   "outputs": [],
   "source": [
    "plen=100\n",
    "x_train = torch.from_numpy(xtrain).view(-1,plen,4).cuda()\n",
    "y_train = torch.from_numpy(ytrain).view(-1,1).cuda()\n",
    "x_test = torch.from_numpy(xtest).view(-1,plen,4).cuda()"
   ]
  },
  {
   "cell_type": "code",
   "execution_count": 144,
   "metadata": {},
   "outputs": [],
   "source": [
    "batch_size=128\n",
    "train_dataset = Data.TensorDataset(x_train[:5000],y_train[:5000])\n",
    "train_loader = Data.DataLoader(dataset=train_dataset,batch_size=batch_size,shuffle=False)\n",
    "test_dataset = Data.TensorDataset(x_train[5000:],y_train[5000:])\n",
    "test_loader = Data.DataLoader(dataset=test_dataset,batch_size=batch_size,shuffle=False)"
   ]
  },
  {
   "cell_type": "code",
   "execution_count": 145,
   "metadata": {},
   "outputs": [],
   "source": [
    "class Net(torch.nn.Module):\n",
    "    def __init__(self, nfeature, out):\n",
    "        super(Net, self).__init__()\n",
    "        self.hidden = torch.nn.Linear(nfeature,nfeature*4)\n",
    "        self.fc2 = torch.nn.Linear(nfeature*4,nfeature*8)\n",
    "        self.fc3 = torch.nn.Linear(nfeature*8,nfeature*8)\n",
    "        self.fc = torch.nn.Linear(nfeature*4,out)\n",
    "        self.conv1 = torch.nn.Conv1d(1,1,(1,3),padding=(0,1))\n",
    "        self.fc4 = torch.nn.Linear(nfeature*8,nfeature*4)\n",
    "    def forward(self, x):\n",
    "        x = F.relu(self.hidden(x))\n",
    "        #print(x.shape)\n",
    "        x = F.relu(self.fc2(x))\n",
    "        #print(x.shape)\n",
    "        x = F.relu(self.fc3(x))\n",
    "        #print(x.shape)\n",
    "        x = F.relu(self.fc4(x))\n",
    "        x = self.fc(x)\n",
    "        #x = self.hidden(x)\n",
    "        return x\n",
    "model = Net(4,1).to(device)"
   ]
  },
  {
   "cell_type": "code",
   "execution_count": 146,
   "metadata": {},
   "outputs": [],
   "source": [
    "optimizer = optim.Adam(model.parameters(), lr=learning_rate)\n",
    "#criterion = nn.MSELoss()\n",
    "criterion=nn.CrossEntropyLoss()"
   ]
  },
  {
   "cell_type": "code",
   "execution_count": 148,
   "metadata": {},
   "outputs": [
    {
     "name": "stdout",
     "output_type": "stream",
     "text": [
      "Test Error: \n",
      " Accuracy: 29.9%, Avg loss:0.019742 \n",
      "\n",
      "Test Error: \n",
      " Accuracy: 30.0%, Avg loss:0.019736 \n",
      "\n",
      "Test Error: \n",
      " Accuracy: 30.0%, Avg loss:0.019739 \n",
      "\n",
      "Test Error: \n",
      " Accuracy: 30.0%, Avg loss:0.019737 \n",
      "\n",
      "Test Error: \n",
      " Accuracy: 29.9%, Avg loss:0.019742 \n",
      "\n",
      "Test Error: \n",
      " Accuracy: 30.0%, Avg loss:0.019737 \n",
      "\n",
      "Test Error: \n",
      " Accuracy: 29.9%, Avg loss:0.019743 \n",
      "\n",
      "Test Error: \n",
      " Accuracy: 30.1%, Avg loss:0.019737 \n",
      "\n",
      "Test Error: \n",
      " Accuracy: 30.0%, Avg loss:0.019740 \n",
      "\n",
      "Test Error: \n",
      " Accuracy: 30.1%, Avg loss:0.019737 \n",
      "\n",
      "Test Error: \n",
      " Accuracy: 30.0%, Avg loss:0.019738 \n",
      "\n",
      "Test Error: \n",
      " Accuracy: 30.0%, Avg loss:0.019741 \n",
      "\n",
      "Test Error: \n",
      " Accuracy: 30.0%, Avg loss:0.019738 \n",
      "\n",
      "Test Error: \n",
      " Accuracy: 30.0%, Avg loss:0.019743 \n",
      "\n",
      "Test Error: \n",
      " Accuracy: 30.0%, Avg loss:0.019742 \n",
      "\n",
      "Test Error: \n",
      " Accuracy: 30.0%, Avg loss:0.019744 \n",
      "\n",
      "Test Error: \n",
      " Accuracy: 29.9%, Avg loss:0.019743 \n",
      "\n",
      "Test Error: \n",
      " Accuracy: 29.8%, Avg loss:0.019742 \n",
      "\n",
      "Test Error: \n",
      " Accuracy: 30.0%, Avg loss:0.019737 \n",
      "\n",
      "Test Error: \n",
      " Accuracy: 30.0%, Avg loss:0.019738 \n",
      "\n",
      "Test Error: \n",
      " Accuracy: 30.0%, Avg loss:0.019736 \n",
      "\n",
      "Test Error: \n",
      " Accuracy: 30.1%, Avg loss:0.019738 \n",
      "\n",
      "Test Error: \n",
      " Accuracy: 29.9%, Avg loss:0.019743 \n",
      "\n",
      "Test Error: \n",
      " Accuracy: 30.0%, Avg loss:0.019735 \n",
      "\n",
      "Test Error: \n",
      " Accuracy: 29.9%, Avg loss:0.019739 \n",
      "\n",
      "Test Error: \n",
      " Accuracy: 29.8%, Avg loss:0.019742 \n",
      "\n",
      "Test Error: \n",
      " Accuracy: 30.0%, Avg loss:0.019738 \n",
      "\n",
      "Test Error: \n",
      " Accuracy: 30.0%, Avg loss:0.019738 \n",
      "\n",
      "Test Error: \n",
      " Accuracy: 29.8%, Avg loss:0.019743 \n",
      "\n",
      "Test Error: \n",
      " Accuracy: 29.8%, Avg loss:0.019746 \n",
      "\n",
      "Test Error: \n",
      " Accuracy: 29.9%, Avg loss:0.019740 \n",
      "\n",
      "Test Error: \n",
      " Accuracy: 29.8%, Avg loss:0.019741 \n",
      "\n",
      "Test Error: \n",
      " Accuracy: 29.9%, Avg loss:0.019739 \n",
      "\n",
      "Test Error: \n",
      " Accuracy: 29.8%, Avg loss:0.019743 \n",
      "\n",
      "Test Error: \n",
      " Accuracy: 29.7%, Avg loss:0.019744 \n",
      "\n",
      "Test Error: \n",
      " Accuracy: 29.8%, Avg loss:0.019742 \n",
      "\n",
      "Test Error: \n",
      " Accuracy: 29.8%, Avg loss:0.019738 \n",
      "\n",
      "Test Error: \n",
      " Accuracy: 29.8%, Avg loss:0.019740 \n",
      "\n",
      "Test Error: \n",
      " Accuracy: 29.8%, Avg loss:0.019742 \n",
      "\n",
      "Test Error: \n",
      " Accuracy: 29.8%, Avg loss:0.019742 \n",
      "\n",
      "Test Error: \n",
      " Accuracy: 29.8%, Avg loss:0.019741 \n",
      "\n",
      "Test Error: \n",
      " Accuracy: 29.7%, Avg loss:0.019741 \n",
      "\n",
      "Test Error: \n",
      " Accuracy: 29.9%, Avg loss:0.019738 \n",
      "\n",
      "Test Error: \n",
      " Accuracy: 29.9%, Avg loss:0.019741 \n",
      "\n",
      "Test Error: \n",
      " Accuracy: 29.9%, Avg loss:0.019739 \n",
      "\n",
      "Test Error: \n",
      " Accuracy: 29.8%, Avg loss:0.019740 \n",
      "\n",
      "Test Error: \n",
      " Accuracy: 30.0%, Avg loss:0.019734 \n",
      "\n",
      "Test Error: \n",
      " Accuracy: 30.0%, Avg loss:0.019732 \n",
      "\n",
      "Test Error: \n",
      " Accuracy: 29.8%, Avg loss:0.019737 \n",
      "\n",
      "Test Error: \n",
      " Accuracy: 29.8%, Avg loss:0.019740 \n",
      "\n",
      "Test Error: \n",
      " Accuracy: 30.1%, Avg loss:0.019734 \n",
      "\n",
      "Test Error: \n",
      " Accuracy: 29.9%, Avg loss:0.019737 \n",
      "\n",
      "Test Error: \n",
      " Accuracy: 29.8%, Avg loss:0.019736 \n",
      "\n",
      "Test Error: \n",
      " Accuracy: 29.9%, Avg loss:0.019733 \n",
      "\n",
      "Test Error: \n",
      " Accuracy: 29.9%, Avg loss:0.019737 \n",
      "\n",
      "Test Error: \n",
      " Accuracy: 29.9%, Avg loss:0.019734 \n",
      "\n",
      "Test Error: \n",
      " Accuracy: 29.8%, Avg loss:0.019736 \n",
      "\n",
      "Test Error: \n",
      " Accuracy: 29.8%, Avg loss:0.019738 \n",
      "\n",
      "Test Error: \n",
      " Accuracy: 29.8%, Avg loss:0.019738 \n",
      "\n",
      "Test Error: \n",
      " Accuracy: 29.9%, Avg loss:0.019735 \n",
      "\n",
      "Test Error: \n",
      " Accuracy: 29.9%, Avg loss:0.019732 \n",
      "\n",
      "Test Error: \n",
      " Accuracy: 29.9%, Avg loss:0.019739 \n",
      "\n",
      "Test Error: \n",
      " Accuracy: 29.8%, Avg loss:0.019724 \n",
      "\n",
      "Test Error: \n",
      " Accuracy: 30.1%, Avg loss:0.019723 \n",
      "\n"
     ]
    }
   ],
   "source": [
    "epochs = 64\n",
    "for epoch in range(epochs):\n",
    "    model.train()\n",
    "    for batch,(x,y) in enumerate(train_loader):\n",
    "        ypred = model(x.float())\n",
    "        loss = criterion(ypred, y)\n",
    "        optimizer.zero_grad()\n",
    "        loss.backward()\n",
    "        optimizer.step()\n",
    "    model.eval()\n",
    "    size = len(test_loader.dataset)\n",
    "    test_loss, correct = 0,0\n",
    "    with torch.no_grad():\n",
    "        for x,y in test_loader:\n",
    "            x = x.float()\n",
    "            pred = model(x)\n",
    "            test_loss += criterion(pred,y).item()\n",
    "            correct += (pred.argmax(1) ==y).type(torch.float).sum().item()\n",
    "    test_loss /= size\n",
    "    correct /= size\n",
    "    print(f'Test Error: \\n Accuracy: {(100*correct):>0.1f}%, Avg loss:{test_loss:>8f} \\n')"
   ]
  },
  {
   "cell_type": "code",
   "execution_count": 137,
   "metadata": {},
   "outputs": [],
   "source": [
    "torch.save(model.state_dict(),'itemFilter1.pth')"
   ]
  },
  {
   "cell_type": "code",
   "execution_count": 149,
   "metadata": {},
   "outputs": [],
   "source": [
    "model.eval()\n",
    "with torch.no_grad():\n",
    "    x_test = x_test.float()\n",
    "    predO = model(x_test)\n",
    "    pred = np.argmax(predO.cpu().numpy(),axis=1)\n",
    "realpred = [ytestreal[i,j] for i,j in enumerate(pred)]"
   ]
  },
  {
   "cell_type": "code",
   "execution_count": 240,
   "metadata": {},
   "outputs": [
    {
     "data": {
      "text/plain": [
       "tensor([[0., 0., 0., 1.],\n",
       "        [1., 0., 1., 0.],\n",
       "        [1., 1., 0., 0.],\n",
       "        [0., 0., 0., 1.],\n",
       "        [1., 0., 1., 0.],\n",
       "        [2., 1., 0., 1.],\n",
       "        [0., 0., 0., 1.],\n",
       "        [0., 0., 0., 1.],\n",
       "        [1., 1., 0., 0.],\n",
       "        [1., 0., 0., 0.],\n",
       "        [0., 0., 0., 0.],\n",
       "        [0., 0., 0., 0.],\n",
       "        [0., 0., 0., 0.],\n",
       "        [0., 0., 0., 0.],\n",
       "        [0., 0., 0., 0.],\n",
       "        [0., 0., 0., 0.],\n",
       "        [0., 0., 0., 0.],\n",
       "        [0., 0., 0., 0.],\n",
       "        [0., 0., 0., 0.],\n",
       "        [0., 0., 0., 0.],\n",
       "        [0., 0., 0., 0.],\n",
       "        [0., 0., 0., 0.],\n",
       "        [0., 0., 0., 0.],\n",
       "        [0., 0., 0., 0.],\n",
       "        [0., 0., 0., 0.],\n",
       "        [0., 0., 0., 0.],\n",
       "        [0., 0., 0., 0.],\n",
       "        [0., 0., 0., 0.],\n",
       "        [0., 0., 0., 0.],\n",
       "        [0., 0., 0., 0.],\n",
       "        [0., 0., 0., 0.],\n",
       "        [0., 0., 0., 0.],\n",
       "        [0., 0., 0., 0.],\n",
       "        [0., 0., 0., 0.],\n",
       "        [0., 0., 0., 0.],\n",
       "        [0., 0., 0., 0.],\n",
       "        [0., 0., 0., 0.],\n",
       "        [0., 0., 0., 0.],\n",
       "        [0., 0., 0., 0.],\n",
       "        [0., 0., 0., 0.],\n",
       "        [0., 0., 0., 0.],\n",
       "        [0., 0., 0., 0.],\n",
       "        [0., 0., 0., 0.],\n",
       "        [0., 0., 0., 0.],\n",
       "        [0., 0., 0., 0.],\n",
       "        [0., 0., 0., 0.],\n",
       "        [0., 0., 0., 0.],\n",
       "        [0., 0., 0., 0.],\n",
       "        [0., 0., 0., 0.],\n",
       "        [0., 0., 0., 0.],\n",
       "        [0., 0., 0., 0.],\n",
       "        [0., 0., 0., 0.],\n",
       "        [0., 0., 0., 0.],\n",
       "        [0., 0., 0., 0.],\n",
       "        [0., 0., 0., 0.],\n",
       "        [0., 0., 0., 0.],\n",
       "        [0., 0., 0., 0.],\n",
       "        [0., 0., 0., 0.],\n",
       "        [0., 0., 0., 0.],\n",
       "        [0., 0., 0., 0.],\n",
       "        [0., 0., 0., 0.],\n",
       "        [0., 0., 0., 0.],\n",
       "        [0., 0., 0., 0.],\n",
       "        [0., 0., 0., 0.],\n",
       "        [0., 0., 0., 0.],\n",
       "        [0., 0., 0., 0.],\n",
       "        [0., 0., 0., 0.],\n",
       "        [0., 0., 0., 0.],\n",
       "        [0., 0., 0., 0.],\n",
       "        [0., 0., 0., 0.],\n",
       "        [0., 0., 0., 0.],\n",
       "        [0., 0., 0., 0.],\n",
       "        [0., 0., 0., 0.],\n",
       "        [0., 0., 0., 0.],\n",
       "        [0., 0., 0., 0.],\n",
       "        [0., 0., 0., 0.],\n",
       "        [0., 0., 0., 0.],\n",
       "        [0., 0., 0., 0.],\n",
       "        [0., 0., 0., 0.],\n",
       "        [0., 0., 0., 0.],\n",
       "        [0., 0., 0., 0.],\n",
       "        [0., 0., 0., 0.],\n",
       "        [0., 0., 0., 0.],\n",
       "        [0., 0., 0., 0.],\n",
       "        [0., 0., 0., 0.],\n",
       "        [0., 0., 0., 0.],\n",
       "        [0., 0., 0., 0.],\n",
       "        [0., 0., 0., 0.],\n",
       "        [0., 0., 0., 0.],\n",
       "        [0., 0., 0., 0.],\n",
       "        [0., 0., 0., 0.],\n",
       "        [0., 0., 0., 0.],\n",
       "        [0., 0., 0., 0.],\n",
       "        [0., 0., 0., 0.],\n",
       "        [0., 0., 0., 0.],\n",
       "        [0., 0., 0., 0.],\n",
       "        [0., 0., 0., 0.],\n",
       "        [0., 0., 0., 0.],\n",
       "        [0., 0., 0., 0.],\n",
       "        [0., 0., 0., 0.]], device='cuda:0')"
      ]
     },
     "execution_count": 240,
     "metadata": {},
     "output_type": "execute_result"
    }
   ],
   "source": [
    "x_test[1,:]"
   ]
  },
  {
   "cell_type": "code",
   "execution_count": 70,
   "metadata": {},
   "outputs": [
    {
     "data": {
      "text/plain": [
       "array([   5024, 5700854, 5708653, 5729883, 5742717, 5753054, 5861100,\n",
       "       5865793, 5873653, 5873653, 5873653, 5873653, 5873653, 5873653,\n",
       "       5873653, 5873653, 5873653, 5873653, 5873653, 5873653, 5873653,\n",
       "       5873653, 5873653, 5873653, 5873653, 5873653, 5873653, 5873653,\n",
       "       5873653, 5873653, 5873653, 5873653, 5873653, 5873653, 5873653,\n",
       "       5873653, 5873653, 5873653, 5873653, 5873653, 5873653, 5873653,\n",
       "       5873653, 5873653, 5873653, 5873653, 5873653, 5873653, 5873653,\n",
       "       5873653, 5873653, 5873653, 5873653, 5873653, 5873653, 5873653,\n",
       "       5873653, 5873653, 5873653, 5873653, 5873653, 5873653, 5873653,\n",
       "       5873653, 5873653, 5873653, 5873653, 5873653, 5873653, 5873653,\n",
       "       5873653, 5873653, 5873653, 5873653, 5873653, 5873653, 5873653,\n",
       "       5873653, 5873653, 5873653, 5873653, 5873653, 5873653, 5873653,\n",
       "       5873653, 5873653, 5873653, 5873653, 5873653, 5873653, 5873653,\n",
       "       5873653, 5873653, 5873653, 5873653, 5873653, 5873653, 5873653,\n",
       "       5873653, 5873653])"
      ]
     },
     "execution_count": 70,
     "metadata": {},
     "output_type": "execute_result"
    }
   ],
   "source": [
    "ytestreal[1,:]"
   ]
  },
  {
   "cell_type": "code",
   "execution_count": 238,
   "metadata": {},
   "outputs": [
    {
     "data": {
      "text/plain": [
       "tensor([[ 1.0257],\n",
       "        [ 1.0371],\n",
       "        [ 0.6851],\n",
       "        [ 1.0257],\n",
       "        [ 1.0371],\n",
       "        [ 3.2725],\n",
       "        [ 1.0257],\n",
       "        [ 1.0257],\n",
       "        [ 0.6851],\n",
       "        [ 1.2082],\n",
       "        [-0.1767],\n",
       "        [-0.1767],\n",
       "        [-0.1767],\n",
       "        [-0.1767],\n",
       "        [-0.1767],\n",
       "        [-0.1767],\n",
       "        [-0.1767],\n",
       "        [-0.1767],\n",
       "        [-0.1767],\n",
       "        [-0.1767],\n",
       "        [-0.1767],\n",
       "        [-0.1767],\n",
       "        [-0.1767],\n",
       "        [-0.1767],\n",
       "        [-0.1767],\n",
       "        [-0.1767],\n",
       "        [-0.1767],\n",
       "        [-0.1767],\n",
       "        [-0.1767],\n",
       "        [-0.1767],\n",
       "        [-0.1767],\n",
       "        [-0.1767],\n",
       "        [-0.1767],\n",
       "        [-0.1767],\n",
       "        [-0.1767],\n",
       "        [-0.1767],\n",
       "        [-0.1767],\n",
       "        [-0.1767],\n",
       "        [-0.1767],\n",
       "        [-0.1767],\n",
       "        [-0.1767],\n",
       "        [-0.1767],\n",
       "        [-0.1767],\n",
       "        [-0.1767],\n",
       "        [-0.1767],\n",
       "        [-0.1767],\n",
       "        [-0.1767],\n",
       "        [-0.1767],\n",
       "        [-0.1767],\n",
       "        [-0.1767],\n",
       "        [-0.1767],\n",
       "        [-0.1767],\n",
       "        [-0.1767],\n",
       "        [-0.1767],\n",
       "        [-0.1767],\n",
       "        [-0.1767],\n",
       "        [-0.1767],\n",
       "        [-0.1767],\n",
       "        [-0.1767],\n",
       "        [-0.1767],\n",
       "        [-0.1767],\n",
       "        [-0.1767],\n",
       "        [-0.1767],\n",
       "        [-0.1767],\n",
       "        [-0.1767],\n",
       "        [-0.1767],\n",
       "        [-0.1767],\n",
       "        [-0.1767],\n",
       "        [-0.1767],\n",
       "        [-0.1767],\n",
       "        [-0.1767],\n",
       "        [-0.1767],\n",
       "        [-0.1767],\n",
       "        [-0.1767],\n",
       "        [-0.1767],\n",
       "        [-0.1767],\n",
       "        [-0.1767],\n",
       "        [-0.1767],\n",
       "        [-0.1767],\n",
       "        [-0.1767],\n",
       "        [-0.1767],\n",
       "        [-0.1767],\n",
       "        [-0.1767],\n",
       "        [-0.1767],\n",
       "        [-0.1767],\n",
       "        [-0.1767],\n",
       "        [-0.1767],\n",
       "        [-0.1767],\n",
       "        [-0.1767],\n",
       "        [-0.1767],\n",
       "        [-0.1767],\n",
       "        [-0.1767],\n",
       "        [-0.1767],\n",
       "        [-0.1767],\n",
       "        [-0.1767],\n",
       "        [-0.1767],\n",
       "        [-0.1767],\n",
       "        [-0.1767],\n",
       "        [-0.1767],\n",
       "        [-0.1767]], device='cuda:0')"
      ]
     },
     "execution_count": 238,
     "metadata": {},
     "output_type": "execute_result"
    }
   ],
   "source": [
    "predO[1,:]"
   ]
  },
  {
   "cell_type": "code",
   "execution_count": 150,
   "metadata": {},
   "outputs": [],
   "source": [
    "realpredict = pd.DataFrame({'user_id':sampleSubmit['user_id'],'product_id':np.array(realpred).reshape(-1)})"
   ]
  },
  {
   "cell_type": "code",
   "execution_count": 142,
   "metadata": {},
   "outputs": [
    {
     "ename": "AttributeError",
     "evalue": "'list' object has no attribute 'shape'",
     "output_type": "error",
     "traceback": [
      "\u001b[0;31m---------------------------------------------------------------------------\u001b[0m",
      "\u001b[0;31mAttributeError\u001b[0m                            Traceback (most recent call last)",
      "\u001b[0;32m<ipython-input-142-e4c5306c2a24>\u001b[0m in \u001b[0;36m<module>\u001b[0;34m\u001b[0m\n\u001b[0;32m----> 1\u001b[0;31m \u001b[0mrealpred\u001b[0m\u001b[0;34m.\u001b[0m\u001b[0mshape\u001b[0m\u001b[0;34m\u001b[0m\u001b[0;34m\u001b[0m\u001b[0m\n\u001b[0m",
      "\u001b[0;31mAttributeError\u001b[0m: 'list' object has no attribute 'shape'"
     ]
    }
   ],
   "source": [
    "realpred.shape"
   ]
  },
  {
   "cell_type": "code",
   "execution_count": 72,
   "metadata": {},
   "outputs": [],
   "source": [
    "sampleSubmit = pd.read_csv('./submit_example.csv')"
   ]
  },
  {
   "cell_type": "code",
   "execution_count": 151,
   "metadata": {},
   "outputs": [],
   "source": [
    "realpredict.to_csv('itemTrainFilterFC4.csv',index=False)"
   ]
  },
  {
   "cell_type": "code",
   "execution_count": 103,
   "metadata": {},
   "outputs": [
    {
     "name": "stdout",
     "output_type": "stream",
     "text": [
      "Parameter containing:\n",
      "tensor([[ 5.2930e-01, -5.0948e-01, -3.5876e-01, -9.5217e-01],\n",
      "        [-9.9876e-04, -1.8463e-01,  5.9240e-01,  3.0345e-01],\n",
      "        [ 3.8832e-01,  7.5733e-01,  4.1641e-01,  4.1300e-01],\n",
      "        [ 7.7947e-01,  2.1313e-01,  7.5113e-02,  2.8529e-01],\n",
      "        [ 2.2845e-01,  1.5677e-02,  5.4855e-01,  5.8128e-01],\n",
      "        [ 6.9522e-01, -1.1337e+00, -3.1509e-01,  4.7261e-01],\n",
      "        [-5.0142e-01,  5.4254e-01,  4.0999e-01, -2.9368e-02],\n",
      "        [-5.2682e-01, -8.6038e-01,  8.9790e-02, -8.4335e-01],\n",
      "        [-4.7029e-01, -2.0466e-01, -3.1756e-02,  4.1276e-01],\n",
      "        [ 7.2452e-01,  1.3759e-01, -3.2510e-01,  4.7051e-01],\n",
      "        [-3.9757e-01, -3.7974e-01, -3.8528e-01, -3.7931e-01],\n",
      "        [ 6.7556e-01,  8.0221e-01, -3.2118e-01, -1.9703e-01],\n",
      "        [-6.9372e-01, -7.6724e-01, -8.1773e-01, -2.0252e-01],\n",
      "        [-3.7680e-01,  3.7649e-01, -3.7060e-01,  7.4856e-01],\n",
      "        [ 4.6577e-01, -2.2912e-01,  4.2377e-01,  4.6362e-01],\n",
      "        [ 3.4392e-01,  7.6903e-01,  7.4900e-01,  3.9681e-01]], device='cuda:0',\n",
      "       requires_grad=True)\n",
      "Parameter containing:\n",
      "tensor([-2.7685e-02, -2.9552e-01, -4.1025e-01,  7.8160e-01,  1.4060e-02,\n",
      "        -6.1449e-02,  2.1741e-03,  7.6517e-01,  7.9326e-02, -1.3100e-01,\n",
      "        -1.0294e-01, -8.0072e-01,  7.9318e-01, -1.0161e-04,  5.7519e-03,\n",
      "         1.1200e-02], device='cuda:0', requires_grad=True)\n",
      "Parameter containing:\n",
      "tensor([[ 0.2939, -0.3685, -0.4228,  0.5656,  0.1337, -0.0183,  0.3855, -0.2259,\n",
      "          0.1279,  0.0229,  0.0826, -0.5138, -0.7713,  0.1706,  0.4989,  0.2829],\n",
      "        [ 0.5348, -0.5114, -0.9227,  0.2711,  0.1350,  0.3472,  0.0365, -0.0589,\n",
      "          0.2401,  0.1795,  0.1643, -0.7330, -0.5881,  0.0309,  0.0386, -0.1289],\n",
      "        [ 0.0802, -0.0213, -0.4664,  0.3530,  0.2363, -0.0733,  0.3219, -0.1897,\n",
      "         -0.2277,  0.3986, -0.2147, -0.3613, -0.5155,  0.2436,  0.4688,  0.4103],\n",
      "        [ 0.0360, -0.5456, -0.3208,  0.1528, -0.1316,  0.0173, -0.2818,  0.2154,\n",
      "          0.0933,  0.3976,  0.1061, -0.1008, -0.4139,  0.2432,  0.2301, -0.0347],\n",
      "        [-0.1334, -0.2877, -0.2920,  0.2628, -0.5185, -0.6623, -1.1719,  0.8625,\n",
      "         -0.4744, -0.5040, -0.1747, -0.1585,  1.2585, -0.2862, -0.6053, -0.9536],\n",
      "        [ 0.1874, -0.0211, -0.2291, -0.1516,  0.0723,  0.0249,  0.1570,  0.1122,\n",
      "         -0.1334,  0.1046, -0.0946, -0.1904,  0.0833, -0.1886, -0.1565, -0.2357],\n",
      "        [ 0.1122,  0.0123, -0.5455,  0.4264,  0.2521,  0.1110,  0.3767, -0.0865,\n",
      "          0.2003,  0.1671, -0.1296, -0.2630, -0.2472, -0.0437,  0.3560,  0.3841],\n",
      "        [-0.8389,  0.5458,  0.5112,  0.0801, -0.0338, -0.2990, -0.5864,  0.5848,\n",
      "         -0.8613, -0.4620,  0.1772, -0.1747,  1.1895, -0.9273, -0.1039, -0.1249],\n",
      "        [ 0.2044,  0.3860,  0.4998,  0.0971,  0.1256,  0.0450,  0.3515, -0.3282,\n",
      "          0.2086, -0.0208,  0.0356,  0.3425, -0.3648,  0.2532,  0.1576,  0.3300],\n",
      "        [-0.2200,  0.0430, -0.1586, -0.0026, -0.2196, -0.2308,  0.1250,  0.2220,\n",
      "          0.1188,  0.1074, -0.2466, -0.1115, -0.1468,  0.1036, -0.1749,  0.1115],\n",
      "        [-0.2468, -0.1054,  0.0063, -0.0643, -0.0811, -0.0764, -0.0718, -0.1301,\n",
      "         -0.1431, -0.1649,  0.1915, -0.1348, -0.0284,  0.0523, -0.1731, -0.2183],\n",
      "        [ 0.2065, -0.1820, -0.2815,  0.2334,  0.2077,  0.3264,  0.3394, -0.1044,\n",
      "          0.2089,  0.2874,  0.0398, -0.6999, -0.6308, -0.0059,  0.1434,  0.1303],\n",
      "        [ 0.1454, -0.0546, -0.4052,  0.4174,  0.1537, -0.0363,  0.3053, -0.0798,\n",
      "          0.1673,  0.3680,  0.2423, -0.2381, -0.3524,  0.0873,  0.4231,  0.1662],\n",
      "        [ 0.4351, -0.1446,  0.2764, -0.0421,  0.1881,  0.3994, -0.3892, -0.4653,\n",
      "          0.1786,  0.4736, -0.1085,  0.5128, -0.4805,  0.3924,  0.0080, -0.0233],\n",
      "        [-0.4621, -0.4786, -0.5279, -0.0831, -0.6676, -0.6888, -0.9887,  0.8957,\n",
      "         -0.4827, -0.0665, -0.2328, -0.0260,  1.2318, -0.2680, -0.3479, -0.9292],\n",
      "        [-0.2447, -0.0258,  0.1318, -0.0894, -0.2461, -0.0616, -0.0175, -0.0334,\n",
      "         -0.1310,  0.1618, -0.0123, -0.2353,  0.2258, -0.0504,  0.0645, -0.0422]],\n",
      "       device='cuda:0', requires_grad=True)\n",
      "Parameter containing:\n",
      "tensor([ 0.4860,  0.6678,  0.4189,  0.5047,  0.7474, -0.0679,  0.0890,  0.5705,\n",
      "        -0.4454, -0.1808, -0.1972,  0.4028,  0.1641, -0.4045,  0.9347, -0.1006],\n",
      "       device='cuda:0', requires_grad=True)\n",
      "Parameter containing:\n",
      "tensor([[ 0.3939,  0.9286,  0.3384,  0.4218, -1.1164,  0.2026,  0.2939, -0.9363,\n",
      "         -0.4692,  0.1506, -0.0389,  0.4523,  0.2849, -0.4405, -1.0723, -0.1870]],\n",
      "       device='cuda:0', requires_grad=True)\n",
      "Parameter containing:\n",
      "tensor([1.1711], device='cuda:0', requires_grad=True)\n"
     ]
    }
   ],
   "source": [
    "for p in model.parameters():\n",
    "    print(p)"
   ]
  },
  {
   "cell_type": "code",
   "execution_count": null,
   "metadata": {},
   "outputs": [],
   "source": []
  }
 ],
 "metadata": {
  "kernelspec": {
   "display_name": "Python 3",
   "language": "python",
   "name": "python3"
  },
  "language_info": {
   "codemirror_mode": {
    "name": "ipython",
    "version": 3
   },
   "file_extension": ".py",
   "mimetype": "text/x-python",
   "name": "python",
   "nbconvert_exporter": "python",
   "pygments_lexer": "ipython3",
   "version": "3.8.11"
  }
 },
 "nbformat": 4,
 "nbformat_minor": 4
}
