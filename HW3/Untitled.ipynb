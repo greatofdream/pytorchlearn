{
 "cells": [
  {
   "cell_type": "code",
   "execution_count": 1,
   "metadata": {},
   "outputs": [],
   "source": [
    "import torch\n",
    "from torch import nn\n",
    "import torch.optim as optim\n",
    "import torch.utils.data as Data\n",
    "import torch.nn.functional as F\n",
    "from utils import *\n",
    "device = \"cuda\" if torch.cuda.is_available() else \"cpu\""
   ]
  },
  {
   "cell_type": "code",
   "execution_count": 21,
   "metadata": {},
   "outputs": [
    {
     "name": "stdout",
     "output_type": "stream",
     "text": [
      "NeuralNetwork(\n",
      "  (linear_relu_stack): Sequential(\n",
      "    (0): Linear(in_features=784, out_features=512, bias=True)\n",
      "    (1): ReLU()\n",
      "    (2): Linear(in_features=512, out_features=256, bias=True)\n",
      "    (3): ReLU()\n",
      "    (4): Linear(in_features=256, out_features=50, bias=True)\n",
      "  )\n",
      ")\n"
     ]
    }
   ],
   "source": [
    "epochs = 16\n",
    "batch_size = 32\n",
    "in_features = 28*28\n",
    "out_features = 50\n",
    "class NeuralNetwork(nn.Module):\n",
    "    def __init__(self):\n",
    "        super(NeuralNetwork, self).__init__()\n",
    "        self.linear_relu_stack = nn.Sequential(\n",
    "            nn.Linear(in_features, 512),\n",
    "            nn.ReLU(),\n",
    "            nn.Linear(512, 256),\n",
    "            nn.ReLU(),\n",
    "            nn.Linear(256,out_features)\n",
    "        )\n",
    "    def forward(self, x):\n",
    "        logits = self.linear_relu_stack(x)\n",
    "        #smlogits = F.log_softmax(logits,dim=1)\n",
    "        return logits\n",
    "model = NeuralNetwork().to(device)\n",
    "print(model)\n"
   ]
  },
  {
   "cell_type": "code",
   "execution_count": 3,
   "metadata": {},
   "outputs": [],
   "source": [
    "num_classes = 50\n",
    "num_samples_train=15\n",
    "num_samples_test = 5\n",
    "seed = 1\n",
    "train_image, train_label, test_image, test_label = LoadData(num_classes, num_samples_train, num_samples_test, seed)\n",
    "#train_label = np.argmax(train_label,axis=1)\n",
    "#test_label = np.argmax(test_label,axis=1)\n",
    "\n",
    "x_train = torch.from_numpy(train_image).cuda()\n",
    "y_train = torch.from_numpy(train_label).cuda()\n",
    "x_test = torch.from_numpy(test_image).cuda()\n",
    "y_test = torch.from_numpy(test_label).cuda()\n",
    "train_dataset = Data.TensorDataset(x_train,y_train)\n",
    "train_loader = Data.DataLoader(dataset=train_dataset,batch_size=batch_size,shuffle=False)\n",
    "test_dataset = Data.TensorDataset(x_test,y_test)\n",
    "test_loader = Data.DataLoader(dataset=test_dataset,batch_size=batch_size)\n"
   ]
  },
  {
   "cell_type": "code",
   "execution_count": 6,
   "metadata": {},
   "outputs": [
    {
     "data": {
      "text/plain": [
       "tensor([17, 28, 33, 30, 49, 16, 38, 44, 20, 11, 25,  4, 35, 42,  2, 35, 21, 14,\n",
       "        36, 49, 35, 33, 47,  1, 39, 33, 23, 15, 48, 17,  3, 27, 41, 44, 30,  0,\n",
       "        43,  6,  6,  9,  2, 37,  5, 47, 32, 13,  7, 14, 24,  7,  8, 21, 10, 26,\n",
       "        23, 45, 12, 40, 21, 15, 33, 12,  1, 31, 26, 22, 34,  3, 34, 46, 44, 33,\n",
       "        43, 20, 19, 30,  5, 36,  6,  4, 11, 35,  0,  8, 14,  0, 29, 10, 16,  8,\n",
       "        17, 48, 28, 40, 10, 19, 38, 15, 27, 16, 13, 19, 44, 26, 39, 44, 34, 38,\n",
       "        18, 20, 31,  7, 32, 40, 46, 28, 36, 29, 34, 15,  4, 20,  4, 39,  7,  3,\n",
       "        31, 24,  9, 13, 41, 25, 31, 26, 20, 41, 23, 16, 25,  9, 23,  3, 13,  3,\n",
       "        30, 45,  0, 48, 12, 45, 17,  1,  6, 10,  2, 22, 22, 12, 42,  2, 40, 45,\n",
       "        48, 46, 41, 23, 17, 21, 46, 11,  5, 38, 43, 24, 36, 11,  2, 26,  9,  8,\n",
       "        42,  6,  5, 25,  4, 18, 34, 29,  9, 46, 25, 37, 45,  1, 13, 27, 32, 37,\n",
       "        22, 24, 36, 43, 49, 31, 27, 32, 30, 29, 18, 42, 21, 47, 19, 43, 10, 28,\n",
       "         0, 37,  7,  8, 32, 41, 28, 29, 14, 24, 37, 15, 27, 48, 39, 11, 18, 16,\n",
       "        35,  5, 18, 12, 40, 38, 49,  1, 47, 49, 47, 42, 14, 22, 19, 39],\n",
       "       device='cuda:0')"
      ]
     },
     "execution_count": 6,
     "metadata": {},
     "output_type": "execute_result"
    }
   ],
   "source": [
    "y_test"
   ]
  },
  {
   "cell_type": "code",
   "execution_count": 23,
   "metadata": {},
   "outputs": [],
   "source": [
    "learning_rate = 0.01\n",
    "momentum = 0.9\n",
    "optimizer = optim.SGD(model.parameters(), lr=learning_rate, momentum=momentum)\n",
    "#criterion = nn.MSELoss()\n",
    "criterion=nn.CrossEntropyLoss()"
   ]
  },
  {
   "cell_type": "code",
   "execution_count": 24,
   "metadata": {},
   "outputs": [
    {
     "name": "stdout",
     "output_type": "stream",
     "text": [
      "epoch 0\n",
      "loss: 3.917296 [    0/  750]\n",
      "epoch 1\n",
      "loss: 3.903933 [    0/  750]\n",
      "epoch 2\n",
      "loss: 3.891391 [    0/  750]\n",
      "epoch 3\n",
      "loss: 3.877962 [    0/  750]\n",
      "epoch 4\n",
      "loss: 3.861054 [    0/  750]\n",
      "epoch 5\n",
      "loss: 3.836802 [    0/  750]\n",
      "epoch 6\n",
      "loss: 3.801631 [    0/  750]\n",
      "epoch 7\n",
      "loss: 3.749660 [    0/  750]\n",
      "epoch 8\n",
      "loss: 3.671233 [    0/  750]\n",
      "epoch 9\n",
      "loss: 3.549502 [    0/  750]\n",
      "epoch 10\n",
      "loss: 3.369604 [    0/  750]\n",
      "epoch 11\n",
      "loss: 3.137681 [    0/  750]\n",
      "epoch 12\n",
      "loss: 2.889593 [    0/  750]\n",
      "epoch 13\n",
      "loss: 2.641606 [    0/  750]\n",
      "epoch 14\n",
      "loss: 2.407643 [    0/  750]\n",
      "epoch 15\n",
      "loss: 2.189306 [    0/  750]\n",
      "epoch 16\n",
      "loss: 1.976672 [    0/  750]\n",
      "epoch 17\n",
      "loss: 1.764416 [    0/  750]\n",
      "epoch 18\n",
      "loss: 1.555058 [    0/  750]\n",
      "epoch 19\n",
      "loss: 1.358580 [    0/  750]\n",
      "epoch 20\n",
      "loss: 1.181157 [    0/  750]\n",
      "epoch 21\n",
      "loss: 1.014027 [    0/  750]\n",
      "epoch 22\n",
      "loss: 0.842635 [    0/  750]\n",
      "epoch 23\n",
      "loss: 0.690573 [    0/  750]\n",
      "epoch 24\n",
      "loss: 0.571853 [    0/  750]\n",
      "epoch 25\n",
      "loss: 0.482634 [    0/  750]\n",
      "epoch 26\n",
      "loss: 0.411405 [    0/  750]\n",
      "epoch 27\n",
      "loss: 0.345282 [    0/  750]\n",
      "epoch 28\n",
      "loss: 0.283050 [    0/  750]\n",
      "epoch 29\n",
      "loss: 0.229395 [    0/  750]\n",
      "epoch 30\n",
      "loss: 0.188698 [    0/  750]\n",
      "epoch 31\n",
      "loss: 0.161855 [    0/  750]\n",
      "epoch 32\n",
      "loss: 0.144987 [    0/  750]\n",
      "epoch 33\n",
      "loss: 0.132187 [    0/  750]\n",
      "epoch 34\n",
      "loss: 0.118605 [    0/  750]\n",
      "epoch 35\n",
      "loss: 0.103749 [    0/  750]\n",
      "epoch 36\n",
      "loss: 0.089902 [    0/  750]\n",
      "epoch 37\n",
      "loss: 0.079543 [    0/  750]\n",
      "epoch 38\n",
      "loss: 0.071446 [    0/  750]\n",
      "epoch 39\n",
      "loss: 0.065080 [    0/  750]\n",
      "epoch 40\n",
      "loss: 0.059624 [    0/  750]\n",
      "epoch 41\n",
      "loss: 0.054734 [    0/  750]\n",
      "epoch 42\n",
      "loss: 0.050609 [    0/  750]\n",
      "epoch 43\n",
      "loss: 0.046916 [    0/  750]\n",
      "epoch 44\n",
      "loss: 0.043717 [    0/  750]\n",
      "epoch 45\n",
      "loss: 0.040826 [    0/  750]\n",
      "epoch 46\n",
      "loss: 0.038298 [    0/  750]\n",
      "epoch 47\n",
      "loss: 0.035985 [    0/  750]\n",
      "epoch 48\n",
      "loss: 0.033927 [    0/  750]\n",
      "epoch 49\n",
      "loss: 0.032069 [    0/  750]\n",
      "epoch 50\n",
      "loss: 0.030363 [    0/  750]\n",
      "epoch 51\n",
      "loss: 0.028813 [    0/  750]\n",
      "epoch 52\n",
      "loss: 0.027379 [    0/  750]\n",
      "epoch 53\n",
      "loss: 0.026083 [    0/  750]\n",
      "epoch 54\n",
      "loss: 0.024890 [    0/  750]\n",
      "epoch 55\n",
      "loss: 0.023787 [    0/  750]\n",
      "epoch 56\n",
      "loss: 0.022769 [    0/  750]\n",
      "epoch 57\n",
      "loss: 0.021826 [    0/  750]\n",
      "epoch 58\n",
      "loss: 0.020936 [    0/  750]\n",
      "epoch 59\n",
      "loss: 0.020127 [    0/  750]\n",
      "epoch 60\n",
      "loss: 0.019365 [    0/  750]\n",
      "epoch 61\n",
      "loss: 0.018652 [    0/  750]\n",
      "epoch 62\n",
      "loss: 0.017982 [    0/  750]\n",
      "epoch 63\n",
      "loss: 0.017356 [    0/  750]\n"
     ]
    }
   ],
   "source": [
    "epochs = 64\n",
    "for epoch in range(epochs):\n",
    "    print('epoch {}'.format(epoch))\n",
    "    model.train()\n",
    "    size = len(train_loader.dataset)\n",
    "    for batch,(x,y) in enumerate(train_loader):\n",
    "        #optimizer.zero_grad()\n",
    "    ### Your Code Here ###\n",
    "        x = x.float()# the parameter is float or otherwise it will error\n",
    "        #y = y.float()\n",
    "        pred = model(x)\n",
    "        loss = criterion(pred, y)\n",
    "        #print(pred,y)\n",
    "        optimizer.zero_grad()\n",
    "        loss.backward()\n",
    "        optimizer.step()\n",
    "        if batch % 30 == 0:\n",
    "            loss, current = loss.item(), batch*len(x)\n",
    "            print(f'loss: {loss:>7f} [{current:>5d}/{size:>5d}]')\n",
    "    '''\n",
    "    model.eval()\n",
    "    size = len(test_loader.dataset)\n",
    "    test_loss, correct = 0,0\n",
    "    with torch.no_grad():\n",
    "    ### Your Code Here ###\n",
    "        for x,y in test_loader:\n",
    "            x = x.float()\n",
    "            pred = model(x)\n",
    "            test_loss += criterion(pred,y).item()\n",
    "            correct += (pred.argmax(1) ==y).type(torch.float).sum().item()\n",
    "    test_loss /= size\n",
    "    correct /= size\n",
    "    print(f'Test Error: \\n Accuracy: {(100*correct):>0.1f}%, Avg loss:{test_loss:>8f} \\n')\n",
    "    model.train()\n",
    "    '''"
   ]
  },
  {
   "cell_type": "code",
   "execution_count": 25,
   "metadata": {},
   "outputs": [
    {
     "name": "stdout",
     "output_type": "stream",
     "text": [
      "Test Accuracy: 0.448\n"
     ]
    }
   ],
   "source": [
    "model.eval()\n",
    "with torch.no_grad():\n",
    "    x_test = x_test.float()\n",
    "    pred = model(x_test)\n",
    "    pred = np.argmax(pred.cpu().numpy(),axis=1)\n",
    "print(\"Test Accuracy:\", np.mean(1.0 * (pred == test_label)))"
   ]
  },
  {
   "cell_type": "code",
   "execution_count": 17,
   "metadata": {},
   "outputs": [
    {
     "name": "stdout",
     "output_type": "stream",
     "text": [
      "Test Accuracy: 1.0\n"
     ]
    }
   ],
   "source": [
    "model.eval()\n",
    "with torch.no_grad():\n",
    "    x_train = x_train.float()\n",
    "    pred = model(x_train)\n",
    "    pred = np.argmax(pred.cpu().numpy(),axis=1)\n",
    "print(\"Test Accuracy:\", np.mean(1.0 * (pred == train_label)))"
   ]
  },
  {
   "cell_type": "code",
   "execution_count": 15,
   "metadata": {},
   "outputs": [
    {
     "data": {
      "text/plain": [
       "tensor([25, 18, 39, 48, 40, 16, 12, 34, 35, 35, 17, 14, 16, 39, 19, 23, 14, 25,\n",
       "        10,  0,  0,  9, 38, 32, 32, 14, 47, 38, 44, 38,  9, 31, 10,  7, 17, 35,\n",
       "         6, 40, 37,  4,  1, 13,  8, 31, 17, 19,  5, 43, 22, 36,  2, 29,  1, 15,\n",
       "        16, 31, 44, 28, 11, 34, 48,  6, 39,  2, 36, 29, 23, 45, 46, 33, 21,  6,\n",
       "         4,  1, 29, 23,  2, 25, 41,  0, 28, 26, 20, 45, 24, 28, 19, 25, 35,  9,\n",
       "        35, 11, 14, 40, 32, 47,  3, 22, 41, 34, 29, 15, 43, 30, 11,  2,  7, 43,\n",
       "        19,  5, 27,  8,  3, 18, 47, 35, 33, 10, 34, 27, 41,  1, 30, 16,  6,  8,\n",
       "        17, 47, 29,  0, 41, 24, 43, 16, 35,  1, 46, 46, 13, 41,  5,  7, 45, 21,\n",
       "        13,  2, 39, 19, 42, 22, 24,  4, 34, 39, 44, 33,  7, 32, 11, 32, 14,  4,\n",
       "        29, 40, 33, 18, 26, 46, 22, 39, 11, 31, 18, 48, 49, 34, 33, 33, 24, 43,\n",
       "        26, 48, 25,  1, 19, 32,  2,  4,  7,  7, 17, 45, 22, 46,  3, 39, 18, 23,\n",
       "        45, 11, 45, 18, 23, 31,  0, 34, 11, 38, 39, 37, 47, 26, 27, 23, 49, 37,\n",
       "        27, 18, 12, 45, 23, 21, 21, 33, 49, 31, 36, 16, 36,  3, 14, 13,  0, 34,\n",
       "        30, 16, 48, 42, 12, 45, 22, 49,  3, 24,  5, 37, 30, 12, 35, 10,  2,  9,\n",
       "        31, 21, 35, 17, 48, 13, 12, 29, 25, 37, 47, 46, 23, 17, 25, 31, 15, 30,\n",
       "        24,  9,  9,  7, 15, 40, 29,  7, 45, 11,  5, 47, 39, 36, 11, 20, 27, 33,\n",
       "        38, 43, 14, 39, 12, 17, 24, 39,  4, 33, 44, 30, 21, 49, 49, 19, 36, 14,\n",
       "        44, 25, 35, 42, 30, 36,  4, 29, 10, 18,  3, 16,  4,  0, 46, 28, 12, 28,\n",
       "        46, 42, 33, 23, 11,  0, 30, 32, 41, 42, 20,  8,  6, 29, 46, 10,  7, 38,\n",
       "        22, 21, 47,  6,  9,  2,  2,  6, 37, 49, 47, 43, 28, 27, 47, 10, 10,  9,\n",
       "        24, 43, 47, 42,  4,  6, 17, 32, 37, 13,  8, 32, 37, 35,  3, 31, 34, 41,\n",
       "         2, 35, 48, 17, 10, 46, 20, 25, 18, 18, 28, 42, 27, 27, 28, 15, 28, 33,\n",
       "        47, 28,  4,  1, 43, 13,  8, 37, 41, 12,  6, 15,  8, 44, 44, 36,  5, 45,\n",
       "        12, 41,  4, 44, 21, 46, 15, 17,  8, 22, 46,  1, 49, 22,  6, 39, 14, 41,\n",
       "         8, 20, 39, 33, 24, 45, 35, 20,  3,  9, 48, 34, 42,  9, 30, 40, 23, 44,\n",
       "        27, 29,  1, 38, 27, 39,  8, 23,  3, 34, 23, 21, 17, 26, 44,  7, 12, 41,\n",
       "        44, 20, 37, 49, 25, 23, 27,  5, 10, 10, 15, 26, 12,  0, 38,  2,  0, 49,\n",
       "         4, 26, 38, 14,  8, 42, 49,  9,  9, 43,  5, 14,  7, 13,  4, 30,  8, 44,\n",
       "        40, 31, 30, 24, 42, 41, 20,  7, 19, 23, 38,  1, 25, 26, 42,  6, 32,  0,\n",
       "        20, 40, 30, 26,  8, 15, 13, 17, 45,  6,  0, 38, 24, 36, 20, 29,  5, 26,\n",
       "        29, 28,  0, 40, 44, 11,  3, 41, 24, 48,  1, 49, 25, 21, 44, 13, 24, 11,\n",
       "        19, 20, 32,  9, 36, 30, 22, 28, 37,  5, 11, 24, 48, 34, 45, 27, 47, 13,\n",
       "        13, 34, 36, 22,  1, 42, 34,  7, 12, 24, 10,  3, 12, 19,  2, 46, 21, 20,\n",
       "        25, 49,  0, 37, 36, 12, 23,  1, 40,  5, 10, 31,  5, 18, 17, 33, 42, 40,\n",
       "         9, 35, 28, 20, 20,  1, 43, 16, 26, 27, 48, 20, 31, 16, 15, 42, 30, 38,\n",
       "        38, 39, 22,  6, 43, 40, 16, 26,  2, 22, 10, 19, 46, 10, 41, 19, 48,  8,\n",
       "        32,  0, 32, 25, 27, 13, 49, 49, 14,  5, 19, 14, 11,  3, 19, 21,  1,  2,\n",
       "        40, 36, 48, 43, 37,  5, 32, 18, 38, 48, 16, 45,  3,  5,  6, 31, 29, 26,\n",
       "        22, 16, 15, 32, 21, 17, 25, 46, 14, 15, 16, 47, 21, 36, 26, 38, 43, 47,\n",
       "        15, 18, 11,  4, 37, 21, 42,  6, 33, 31, 27,  3, 14,  9, 16, 13, 13, 34,\n",
       "        19,  7, 43, 41, 36, 28,  3, 15, 30, 12, 48, 18, 40,  2, 18,  7,  4, 26,\n",
       "        28, 31, 40,  8, 33, 29, 44, 45, 15, 22, 35, 37], device='cuda:0')"
      ]
     },
     "execution_count": 15,
     "metadata": {},
     "output_type": "execute_result"
    }
   ],
   "source": [
    "pred"
   ]
  },
  {
   "cell_type": "code",
   "execution_count": 12,
   "metadata": {},
   "outputs": [
    {
     "data": {
      "text/plain": [
       "array([25, 18, 39, 48, 40, 16, 12, 34, 35, 35, 17, 14, 16, 39, 19, 23, 14,\n",
       "       25, 10,  0,  0,  9, 38, 32, 32, 14, 47, 38, 44, 38,  9, 31, 10,  7,\n",
       "       17, 35,  6, 40, 37,  4,  1, 13,  8, 31, 17, 19,  5, 43, 22, 36,  2,\n",
       "       29,  1, 15, 16, 31, 44, 28, 11, 34, 48,  6, 39,  2, 36, 29, 23, 45,\n",
       "       46, 33, 21,  6,  4,  1, 29, 23,  2, 25, 41,  0, 28, 26, 20, 45, 24,\n",
       "       28, 19, 25, 35,  9, 35, 11, 14, 40, 32, 47,  3, 22, 41, 34, 29, 15,\n",
       "       43, 30, 11,  2,  7, 43, 19,  5, 27,  8,  3, 18, 47, 35, 33, 10, 34,\n",
       "       27, 41,  1, 30, 16,  6,  8, 17, 47, 29,  0, 41, 24, 43, 16, 35,  1,\n",
       "       46, 46, 13, 41,  5,  7, 45, 21, 13,  2, 39, 19, 42, 22, 24,  4, 34,\n",
       "       39, 44, 33,  7, 32, 11, 32, 14,  4, 29, 40, 33, 18, 26, 46, 22, 39,\n",
       "       11, 31, 18, 48, 49, 34, 33, 33, 24, 43, 26, 48, 25,  1, 19, 32,  2,\n",
       "        4,  7,  7, 17, 45, 22, 46,  3, 39, 18, 23, 45, 11, 45, 18, 23, 31,\n",
       "        0, 34, 11, 38, 39, 37, 47, 26, 27, 23, 49, 37, 27, 18, 12, 45, 23,\n",
       "       21, 21, 33, 49, 31, 36, 16, 36,  3, 14, 13,  0, 34, 30, 16, 48, 42,\n",
       "       12, 45, 22, 49,  3, 24,  5, 37, 30, 12, 35, 10,  2,  9, 31, 21, 35,\n",
       "       17, 48, 13, 12, 29, 25, 37, 47, 46, 23, 17, 25, 31, 15, 30, 24,  9,\n",
       "        9,  7, 15, 40, 29,  7, 45, 11,  5, 47, 39, 36, 11, 20, 27, 33, 38,\n",
       "       43, 14, 39, 12, 17, 24, 39,  4, 33, 44, 30, 21, 49, 49, 19, 36, 14,\n",
       "       44, 25, 35, 42, 30, 36,  4, 29, 10, 18,  3, 16,  4,  0, 46, 28, 12,\n",
       "       28, 46, 42, 33, 23, 11,  0, 30, 32, 41, 42, 20,  8,  6, 29, 46, 10,\n",
       "        7, 38, 22, 21, 47,  6,  9,  2,  2,  6, 37, 49, 47, 43, 28, 27, 47,\n",
       "       10, 10,  9, 24, 43, 47, 42,  4,  6, 17, 32, 37, 13,  8, 32, 37, 35,\n",
       "        3, 31, 34, 41,  2, 35, 48, 17, 10, 46, 20, 25, 18, 18, 28, 42, 27,\n",
       "       27, 28, 15, 28, 33, 47, 28,  4,  1, 43, 13,  8, 37, 41, 12,  6, 15,\n",
       "        8, 44, 44, 36,  5, 45, 12, 41,  4, 44, 21, 46, 15, 17,  8, 22, 46,\n",
       "        1, 49, 22,  6, 39, 14, 41,  8, 20, 39, 33, 24, 45, 35, 20,  3,  9,\n",
       "       48, 34, 42,  9, 30, 40, 23, 44, 27, 29,  1, 38, 27, 39,  8, 23,  3,\n",
       "       34, 23, 21, 17, 26, 44,  7, 12, 41, 44, 20, 37, 49, 25, 23, 27,  5,\n",
       "       10, 10, 15, 26, 12,  0, 38,  2,  0, 49,  4, 26, 38, 14,  8, 42, 49,\n",
       "        9,  9, 43,  5, 14,  7, 13,  4, 30,  8, 44, 40, 31, 30, 24, 42, 41,\n",
       "       20,  7, 19, 23, 38,  1, 25, 26, 42,  6, 32,  0, 20, 40, 30, 26,  8,\n",
       "       15, 13, 17, 45,  6,  0, 38, 24, 36, 20, 29,  5, 26, 29, 28,  0, 40,\n",
       "       44, 11,  3, 41, 24, 48,  1, 49, 25, 21, 44, 13, 24, 11, 19, 20, 32,\n",
       "        9, 36, 30, 22, 28, 37,  5, 11, 24, 48, 34, 45, 27, 47, 13, 13, 34,\n",
       "       36, 22,  1, 42, 34,  7, 12, 24, 10,  3, 12, 19,  2, 46, 21, 20, 25,\n",
       "       49,  0, 37, 36, 12, 23,  1, 40,  5, 10, 31,  5, 18, 17, 33, 42, 40,\n",
       "        9, 35, 28, 20, 20,  1, 43, 16, 26, 27, 48, 20, 31, 16, 15, 42, 30,\n",
       "       38, 38, 39, 22,  6, 43, 40, 16, 26,  2, 22, 10, 19, 46, 10, 41, 19,\n",
       "       48,  8, 32,  0, 32, 25, 27, 13, 49, 49, 14,  5, 19, 14, 11,  3, 19,\n",
       "       21,  1,  2, 40, 36, 48, 43, 37,  5, 32, 18, 38, 48, 16, 45,  3,  5,\n",
       "        6, 31, 29, 26, 22, 16, 15, 32, 21, 17, 25, 46, 14, 15, 16, 47, 21,\n",
       "       36, 26, 38, 43, 47, 15, 18, 11,  4, 37, 21, 42,  6, 33, 31, 27,  3,\n",
       "       14,  9, 16, 13, 13, 34, 19,  7, 43, 41, 36, 28,  3, 15, 30, 12, 48,\n",
       "       18, 40,  2, 18,  7,  4, 26, 28, 31, 40,  8, 33, 29, 44, 45, 15, 22,\n",
       "       35, 37])"
      ]
     },
     "execution_count": 12,
     "metadata": {},
     "output_type": "execute_result"
    }
   ],
   "source": [
    "train_label"
   ]
  },
  {
   "cell_type": "code",
   "execution_count": 26,
   "metadata": {},
   "outputs": [
    {
     "data": {
      "text/plain": [
       "array([0.87008171])"
      ]
     },
     "execution_count": 26,
     "metadata": {},
     "output_type": "execute_result"
    }
   ],
   "source": [
    "np.random.random_sample(1)"
   ]
  },
  {
   "cell_type": "code",
   "execution_count": 1,
   "metadata": {},
   "outputs": [],
   "source": [
    "import h5py\n",
    "with h5py.File('acc.h5','r') as ipt:\n",
    "    trainloss=ipt['train'][:]\n",
    "    testacc = ipt['test'][:]"
   ]
  },
  {
   "cell_type": "code",
   "execution_count": 5,
   "metadata": {},
   "outputs": [
    {
     "data": {
      "image/png": "[encoded data removed]",
      "text/plain": [
       "<Figure size 900x600 with 2 Axes>"
      ]
     },
     "metadata": {
      "needs_background": "light"
     },
     "output_type": "display_data"
    }
   ],
   "source": [
    "import matplotlib.pyplot as plt\n",
    "fig, ax = plt.subplots(dpi=150)\n",
    "ax.plot(trainloss,color='b', label='train loss')\n",
    "ax.set_ylabel('train loss',color='b')\n",
    "ax.tick_params(axis='y',labelcolor='b')\n",
    "ax2 = ax.twinx()\n",
    "ax2.plot(testacc,color='r', label='test acc',alpha=0.7,linestyle='--')\n",
    "ax2.set_ylabel('test accuracy',color='r')\n",
    "ax2.tick_params(axis='y',labelcolor='r')\n",
    "\n",
    "ax.legend()\n",
    "ax2.legend()\n",
    "plt.savefig('traintest.png')"
   ]
  },
  {
   "cell_type": "code",
   "execution_count": null,
   "metadata": {},
   "outputs": [],
   "source": []
  }
 ],
 "metadata": {
  "kernelspec": {
   "display_name": "Python 3",
   "language": "python",
   "name": "python3"
  },
  "language_info": {
   "codemirror_mode": {
    "name": "ipython",
    "version": 3
   },
   "file_extension": ".py",
   "mimetype": "text/x-python",
   "name": "python",
   "nbconvert_exporter": "python",
   "pygments_lexer": "ipython3",
   "version": "3.8.7rc1"
  }
 },
 "nbformat": 4,
 "nbformat_minor": 4
}
